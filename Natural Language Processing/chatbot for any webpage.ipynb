{
 "cells": [
  {
   "cell_type": "code",
   "execution_count": 1,
   "metadata": {},
   "outputs": [],
   "source": [
    "from newspaper import Article\n",
    "\n",
    "import random\n",
    "import string\n",
    "import nltk\n",
    "from sklearn.feature_extraction.text import CountVectorizer\n",
    "from sklearn.metrics.pairwise import cosine_similarity\n",
    "import numpy as np"
   ]
  },
  {
   "cell_type": "code",
   "execution_count": 2,
   "metadata": {},
   "outputs": [],
   "source": [
    "import warnings\n",
    "warnings.filterwarnings('ignore')"
   ]
  },
  {
   "cell_type": "code",
   "execution_count": 3,
   "metadata": {},
   "outputs": [
    {
     "name": "stdout",
     "output_type": "stream",
     "text": [
      "Enter the web page : https://en.wikipedia.org/wiki/History_of_India\n"
     ]
    }
   ],
   "source": [
    "article = Article(input(\"Enter the web page : \"))\n",
    "article.download()\n",
    "article.parse()\n",
    "article.nlp()\n",
    "corpus = article.text\n",
    "#Print Article\n",
    "# print(corpus)"
   ]
  },
  {
   "cell_type": "code",
   "execution_count": 7,
   "metadata": {},
   "outputs": [
    {
     "name": "stdout",
     "output_type": "stream",
     "text": [
      "['Historical aspects of the Indian subcontinent\\n\\nThis article is about the pre-1947 history of the Indian subcontinent.', 'For post-1947 history, see History of India (1947–present)\\n\\nAccording to consensus in modern genetics anatomically modern humans first arrived on the Indian subcontinent from Africa between 73,000 and 55,000 years ago.'] 673\n"
     ]
    }
   ],
   "source": [
    "sentence_list = nltk.sent_tokenize(corpus) \n",
    "print(sentence_list[:2],len(sentence_list))"
   ]
  },
  {
   "cell_type": "code",
   "execution_count": 10,
   "metadata": {
    "scrolled": false
   },
   "outputs": [
    {
     "name": "stdout",
     "output_type": "stream",
     "text": [
      "Bot: Hi I am a Bot. \n",
      " ask any question To exit, type [bye].\n",
      " Aditya : what happened Towards the end of the period, around 600 BCE?\n",
      "Bot Response :  Towards the end of the period, around 600 BCE, after the pastoral and nomadic Indo-Aryans spread from the Punjab into the Gangetic plain, large swaths of which they deforested to pave way for agriculture, a second urbanisation took place. \n",
      "\n",
      " Aditya : by\n",
      "Bot : Chat with you later, Have a good day\n"
     ]
    }
   ],
   "source": [
    "text = corpus\n",
    "sentence_list = nltk.sent_tokenize(text) \n",
    " \n",
    "# print(sentence_list)\n",
    " \n",
    "def greeting_response(text):\n",
    "    text = text.lower()\n",
    "    bot_greetings = ['Howdy!', 'Hi!', 'Hello!', 'Greetings!']\n",
    "    user_greetings = ['hi', 'hey','hy', 'hello', 'greetings', 'wassup']\n",
    "    for word in text.split():\n",
    "        if word in user_greetings:\n",
    "            return random.choice(bot_greetings)\n",
    "\n",
    "# def sort(list_var):\n",
    "#     lenght = len(list_var)\n",
    "#     list_index = list(range(0, lenght))\n",
    "#     x = list_var\n",
    "#     for i in range(lenght):\n",
    "#         for j in range(lenght):\n",
    "#             if x[list_index[i]] > x[list_index[j]]:\n",
    "#                 #Swap\n",
    "#                 temp = list_index[i]\n",
    "#                 list_index[i] = list_index[j]\n",
    "#                 list_index[j] = temp\n",
    "#     return list_index\n",
    " \n",
    "#Bots Response\n",
    "def bot_response(user_input):\n",
    "    user_input = user_input.lower()\n",
    "    sentence_list.append(user_input)\n",
    "#     sumary = \"what is the summary of the\"\n",
    "    bot_response = ''\n",
    "    cm = CountVectorizer().fit_transform(sentence_list)\n",
    "    \n",
    "    similarity_scores = cosine_similarity(cm[-1], cm)\n",
    "    similarity_scores_list = similarity_scores.flatten()\n",
    "    index = np.argsort(similarity_scores_list)[::-1]\n",
    "    index = index[1:]\n",
    "    response = 0\n",
    " \n",
    "    j = 0\n",
    "    for i in index:\n",
    "        if similarity_scores_list[i] > 0.0:\n",
    "            bot_response = bot_response+' '+sentence_list[i]\n",
    "            response = 1\n",
    "            j = j+1\n",
    "        if j > 2:\n",
    "            break\n",
    "        if response == 0:\n",
    "            bot_response = bot_response+' '+\"I apologize, I don't understand / Your query is not in given in this Site.\"\n",
    "        sentence_list.remove(user_input)\n",
    "        return bot_response\n",
    "print('Bot: Hi I am a Bot. \\n ask any question To exit, type [bye].') \n",
    "\n",
    "summary = [\"summary\",\"can you please summrasie\",\"please give me the summary\",\"summraise\",\"summraise this\"]\n",
    "exit_list = ['exit', 'see you later', 'bye', 'quit', 'break','by','by by', 'stop','tata']\n",
    "\n",
    "while(True):\n",
    "    user_input = input(\" Aditya : \").lower()\n",
    "    if user_input in exit_list:\n",
    "        print('Bot : Chat with you later, Have a good day')\n",
    "        break\n",
    "    elif user_input in summary:\n",
    "        print(\"The summary of article is : \\n\",article.summary)\n",
    "    else:\n",
    "        if greeting_response(user_input) != None:\n",
    "            print('Bot : '+greeting_response(user_input),'\\n')\n",
    "        else:\n",
    "            print('Bot Response : '+bot_response(user_input),'\\n')"
   ]
  },
  {
   "cell_type": "code",
   "execution_count": 7,
   "metadata": {},
   "outputs": [
    {
     "name": "stdout",
     "output_type": "stream",
     "text": [
      "For post-1947 history, see History of India (1947–present)According to consensus in modern genetics anatomically modern humans first arrived on the Indian subcontinent from Africa between 73,000 and 55,000 years ago.\n",
      "The rule of the Chalukyas marks an important milestone in the history of South India and a golden age in the history of Karnataka.\n",
      "[240] The subsequent Mamluk dynasty of Delhi managed to conquer large areas of northern India, while the Khalji dynasty conquered most of central India while forcing the principal Hindu kingdoms of South India to become vassal states.\n",
      "[342] The Marathas remained a major power in India until their defeat in the Second and Third Anglo-Maratha Wars (1805–1818), which resulted in the East India Company controlling most of India.\n",
      "[361]East India Company rule in IndiaIndia under East India Company rule India in 1765 and 1805 showing East India Company Territories in pink.\n"
     ]
    }
   ],
   "source": [
    "print(article.summary)"
   ]
  },
  {
   "cell_type": "code",
   "execution_count": 11,
   "metadata": {},
   "outputs": [
    {
     "data": {
      "text/plain": [
       "(4, 14)"
      ]
     },
     "execution_count": 11,
     "metadata": {},
     "output_type": "execute_result"
    }
   ],
   "source": [
    "cm = CountVectorizer().fit_transform(l)\n",
    "cm.shape"
   ]
  },
  {
   "cell_type": "code",
   "execution_count": 24,
   "metadata": {},
   "outputs": [
    {
     "data": {
      "text/plain": [
       "'csr'"
      ]
     },
     "execution_count": 24,
     "metadata": {},
     "output_type": "execute_result"
    }
   ],
   "source": [
    "cm.format"
   ]
  },
  {
   "cell_type": "code",
   "execution_count": 16,
   "metadata": {},
   "outputs": [
    {
     "data": {
      "text/plain": [
       "array([[1.        , 0.1490712 , 0.4472136 , 0.        ],\n",
       "       [0.1490712 , 1.        , 0.        , 0.        ],\n",
       "       [0.4472136 , 0.        , 1.        , 0.31622777],\n",
       "       [0.        , 0.        , 0.31622777, 1.        ]])"
      ]
     },
     "execution_count": 16,
     "metadata": {},
     "output_type": "execute_result"
    }
   ],
   "source": [
    "similarity_scores = cosine_similarity(cm, cm)\n",
    "# similarity_scores_list = similarity_scores.flatten()\n",
    "# index = np.argsort(similarity_scores_list)[::-1]\n",
    "# index = index[1:]\n",
    "similarity_scores"
   ]
  },
  {
   "cell_type": "code",
   "execution_count": 13,
   "metadata": {},
   "outputs": [
    {
     "data": {
      "text/plain": [
       "array([[0.        , 0.        , 0.31622777, 1.        ]])"
      ]
     },
     "execution_count": 13,
     "metadata": {},
     "output_type": "execute_result"
    }
   ],
   "source": [
    "similarity_scores"
   ]
  }
 ],
 "metadata": {
  "kernelspec": {
   "display_name": "Python 3",
   "language": "python",
   "name": "python3"
  },
  "language_info": {
   "codemirror_mode": {
    "name": "ipython",
    "version": 3
   },
   "file_extension": ".py",
   "mimetype": "text/x-python",
   "name": "python",
   "nbconvert_exporter": "python",
   "pygments_lexer": "ipython3",
   "version": "3.7.6"
  }
 },
 "nbformat": 4,
 "nbformat_minor": 4
}
