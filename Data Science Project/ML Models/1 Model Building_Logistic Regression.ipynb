{
 "cells": [
  {
   "cell_type": "code",
   "execution_count": 1,
   "id": "7499692f",
   "metadata": {},
   "outputs": [],
   "source": [
    "import numpy as np\n",
    "import pandas as pd\n",
    "import matplotlib.pyplot as plt\n",
    "import seaborn as sns\n",
    "from sklearn.linear_model import LogisticRegression\n",
    "from sklearn.svm import SVC\n",
    "from sklearn.model_selection import train_test_split\n",
    "from sklearn.metrics import classification_report,confusion_matrix"
   ]
  },
  {
   "cell_type": "code",
   "execution_count": 2,
   "id": "bd8ad562",
   "metadata": {},
   "outputs": [
    {
     "data": {
      "text/html": [
       "<div>\n",
       "<style scoped>\n",
       "    .dataframe tbody tr th:only-of-type {\n",
       "        vertical-align: middle;\n",
       "    }\n",
       "\n",
       "    .dataframe tbody tr th {\n",
       "        vertical-align: top;\n",
       "    }\n",
       "\n",
       "    .dataframe thead th {\n",
       "        text-align: right;\n",
       "    }\n",
       "</style>\n",
       "<table border=\"1\" class=\"dataframe\">\n",
       "  <thead>\n",
       "    <tr style=\"text-align: right;\">\n",
       "      <th></th>\n",
       "      <th>submarket_name</th>\n",
       "      <th>building_class</th>\n",
       "      <th>year</th>\n",
       "      <th>period</th>\n",
       "      <th>completions</th>\n",
       "      <th>vac_pct</th>\n",
       "      <th>vacancy_chg_bps</th>\n",
       "      <th>asking_rent_pct_chg</th>\n",
       "      <th>abs_per_occ_stk_pct</th>\n",
       "      <th>construction_per_absorption</th>\n",
       "      <th>...</th>\n",
       "      <th>male_male_households</th>\n",
       "      <th>percent_income_spent_on_rent</th>\n",
       "      <th>million_dollar_housing_units</th>\n",
       "      <th>different_house_year_ago_same_city</th>\n",
       "      <th>two_parents_mother_in_labor_force_families_with_young_children</th>\n",
       "      <th>two_parents_not_in_labor_force_families_with_young_children</th>\n",
       "      <th>commuters_by_subway_or_elevated</th>\n",
       "      <th>male_45_64_less_than_9_grade</th>\n",
       "      <th>armed_forces</th>\n",
       "      <th>Liking</th>\n",
       "    </tr>\n",
       "  </thead>\n",
       "  <tbody>\n",
       "    <tr>\n",
       "      <th>0</th>\n",
       "      <td>0</td>\n",
       "      <td>1</td>\n",
       "      <td>0.215686</td>\n",
       "      <td>0</td>\n",
       "      <td>0.0</td>\n",
       "      <td>0.522472</td>\n",
       "      <td>0.537313</td>\n",
       "      <td>0.482890</td>\n",
       "      <td>0.191542</td>\n",
       "      <td>0.526832</td>\n",
       "      <td>...</td>\n",
       "      <td>0.0</td>\n",
       "      <td>1.0</td>\n",
       "      <td>0.013666</td>\n",
       "      <td>1.0</td>\n",
       "      <td>1.0</td>\n",
       "      <td>0.202186</td>\n",
       "      <td>0.0</td>\n",
       "      <td>1.0</td>\n",
       "      <td>0.0</td>\n",
       "      <td>0.0</td>\n",
       "    </tr>\n",
       "    <tr>\n",
       "      <th>1</th>\n",
       "      <td>0</td>\n",
       "      <td>1</td>\n",
       "      <td>0.235294</td>\n",
       "      <td>0</td>\n",
       "      <td>0.0</td>\n",
       "      <td>0.533708</td>\n",
       "      <td>0.574627</td>\n",
       "      <td>0.528517</td>\n",
       "      <td>0.144279</td>\n",
       "      <td>0.526171</td>\n",
       "      <td>...</td>\n",
       "      <td>0.0</td>\n",
       "      <td>1.0</td>\n",
       "      <td>0.013666</td>\n",
       "      <td>1.0</td>\n",
       "      <td>1.0</td>\n",
       "      <td>0.202186</td>\n",
       "      <td>0.0</td>\n",
       "      <td>1.0</td>\n",
       "      <td>0.0</td>\n",
       "      <td>0.0</td>\n",
       "    </tr>\n",
       "    <tr>\n",
       "      <th>2</th>\n",
       "      <td>0</td>\n",
       "      <td>1</td>\n",
       "      <td>0.254902</td>\n",
       "      <td>0</td>\n",
       "      <td>0.0</td>\n",
       "      <td>0.460674</td>\n",
       "      <td>0.462687</td>\n",
       "      <td>0.498099</td>\n",
       "      <td>0.184080</td>\n",
       "      <td>0.526171</td>\n",
       "      <td>...</td>\n",
       "      <td>0.0</td>\n",
       "      <td>1.0</td>\n",
       "      <td>0.013666</td>\n",
       "      <td>1.0</td>\n",
       "      <td>1.0</td>\n",
       "      <td>0.202186</td>\n",
       "      <td>0.0</td>\n",
       "      <td>1.0</td>\n",
       "      <td>0.0</td>\n",
       "      <td>0.0</td>\n",
       "    </tr>\n",
       "    <tr>\n",
       "      <th>3</th>\n",
       "      <td>0</td>\n",
       "      <td>1</td>\n",
       "      <td>0.274510</td>\n",
       "      <td>0</td>\n",
       "      <td>0.0</td>\n",
       "      <td>0.370787</td>\n",
       "      <td>0.440299</td>\n",
       "      <td>0.429658</td>\n",
       "      <td>0.191542</td>\n",
       "      <td>0.526171</td>\n",
       "      <td>...</td>\n",
       "      <td>0.0</td>\n",
       "      <td>1.0</td>\n",
       "      <td>0.013666</td>\n",
       "      <td>1.0</td>\n",
       "      <td>1.0</td>\n",
       "      <td>0.202186</td>\n",
       "      <td>0.0</td>\n",
       "      <td>1.0</td>\n",
       "      <td>0.0</td>\n",
       "      <td>0.0</td>\n",
       "    </tr>\n",
       "    <tr>\n",
       "      <th>4</th>\n",
       "      <td>0</td>\n",
       "      <td>1</td>\n",
       "      <td>0.294118</td>\n",
       "      <td>0</td>\n",
       "      <td>0.0</td>\n",
       "      <td>0.297753</td>\n",
       "      <td>0.462687</td>\n",
       "      <td>0.463878</td>\n",
       "      <td>0.184080</td>\n",
       "      <td>0.526171</td>\n",
       "      <td>...</td>\n",
       "      <td>0.0</td>\n",
       "      <td>1.0</td>\n",
       "      <td>0.013666</td>\n",
       "      <td>1.0</td>\n",
       "      <td>1.0</td>\n",
       "      <td>0.202186</td>\n",
       "      <td>0.0</td>\n",
       "      <td>1.0</td>\n",
       "      <td>0.0</td>\n",
       "      <td>0.0</td>\n",
       "    </tr>\n",
       "  </tbody>\n",
       "</table>\n",
       "<p>5 rows × 43 columns</p>\n",
       "</div>"
      ],
      "text/plain": [
       "   submarket_name  building_class      year  period  completions   vac_pct  \\\n",
       "0               0               1  0.215686       0          0.0  0.522472   \n",
       "1               0               1  0.235294       0          0.0  0.533708   \n",
       "2               0               1  0.254902       0          0.0  0.460674   \n",
       "3               0               1  0.274510       0          0.0  0.370787   \n",
       "4               0               1  0.294118       0          0.0  0.297753   \n",
       "\n",
       "   vacancy_chg_bps  asking_rent_pct_chg  abs_per_occ_stk_pct  \\\n",
       "0         0.537313             0.482890             0.191542   \n",
       "1         0.574627             0.528517             0.144279   \n",
       "2         0.462687             0.498099             0.184080   \n",
       "3         0.440299             0.429658             0.191542   \n",
       "4         0.462687             0.463878             0.184080   \n",
       "\n",
       "   construction_per_absorption  ...  male_male_households  \\\n",
       "0                     0.526832  ...                   0.0   \n",
       "1                     0.526171  ...                   0.0   \n",
       "2                     0.526171  ...                   0.0   \n",
       "3                     0.526171  ...                   0.0   \n",
       "4                     0.526171  ...                   0.0   \n",
       "\n",
       "   percent_income_spent_on_rent  million_dollar_housing_units  \\\n",
       "0                           1.0                      0.013666   \n",
       "1                           1.0                      0.013666   \n",
       "2                           1.0                      0.013666   \n",
       "3                           1.0                      0.013666   \n",
       "4                           1.0                      0.013666   \n",
       "\n",
       "   different_house_year_ago_same_city  \\\n",
       "0                                 1.0   \n",
       "1                                 1.0   \n",
       "2                                 1.0   \n",
       "3                                 1.0   \n",
       "4                                 1.0   \n",
       "\n",
       "   two_parents_mother_in_labor_force_families_with_young_children  \\\n",
       "0                                                1.0                \n",
       "1                                                1.0                \n",
       "2                                                1.0                \n",
       "3                                                1.0                \n",
       "4                                                1.0                \n",
       "\n",
       "   two_parents_not_in_labor_force_families_with_young_children  \\\n",
       "0                                           0.202186             \n",
       "1                                           0.202186             \n",
       "2                                           0.202186             \n",
       "3                                           0.202186             \n",
       "4                                           0.202186             \n",
       "\n",
       "   commuters_by_subway_or_elevated  male_45_64_less_than_9_grade  \\\n",
       "0                              0.0                           1.0   \n",
       "1                              0.0                           1.0   \n",
       "2                              0.0                           1.0   \n",
       "3                              0.0                           1.0   \n",
       "4                              0.0                           1.0   \n",
       "\n",
       "   armed_forces  Liking  \n",
       "0           0.0     0.0  \n",
       "1           0.0     0.0  \n",
       "2           0.0     0.0  \n",
       "3           0.0     0.0  \n",
       "4           0.0     0.0  \n",
       "\n",
       "[5 rows x 43 columns]"
      ]
     },
     "execution_count": 2,
     "metadata": {},
     "output_type": "execute_result"
    }
   ],
   "source": [
    "df = pd.read_csv('Trainable_data.csv')\n",
    "df = df.drop(['Unnamed: 0','zip'],axis=1)\n",
    "df.head()"
   ]
  },
  {
   "cell_type": "code",
   "execution_count": 3,
   "id": "46d3dd22",
   "metadata": {},
   "outputs": [],
   "source": [
    "data = df.drop('Liking',axis=1)\n",
    "target = df['Liking']"
   ]
  },
  {
   "cell_type": "code",
   "execution_count": 4,
   "id": "6b103e06",
   "metadata": {},
   "outputs": [
    {
     "data": {
      "text/plain": [
       "1.0    2665\n",
       "0.0     615\n",
       "Name: Liking, dtype: int64"
      ]
     },
     "execution_count": 4,
     "metadata": {},
     "output_type": "execute_result"
    }
   ],
   "source": [
    "df.Liking.value_counts()"
   ]
  },
  {
   "cell_type": "markdown",
   "id": "40aee987",
   "metadata": {},
   "source": [
    "## UnderSampling"
   ]
  },
  {
   "cell_type": "code",
   "execution_count": 5,
   "id": "783d3c3a",
   "metadata": {},
   "outputs": [],
   "source": [
    "# Divide by class\n",
    "df_class_0 = df[df['Liking'] == 0]\n",
    "df_class_1 = df[df['Liking'] == 1]"
   ]
  },
  {
   "cell_type": "code",
   "execution_count": 6,
   "id": "8295c247",
   "metadata": {},
   "outputs": [
    {
     "name": "stdout",
     "output_type": "stream",
     "text": [
      "Random under-sampling:\n",
      "0.0    615\n",
      "1.0    615\n",
      "Name: Liking, dtype: int64\n"
     ]
    }
   ],
   "source": [
    "# Undersample 0-class and concat the DataFrames of both class\n",
    "df_class_1_under = df_class_1.sample(len(df_class_0))\n",
    "df_test_under = pd.concat([df_class_1_under, df_class_0], axis=0)\n",
    "print('Random under-sampling:')\n",
    "print(df_test_under.Liking.value_counts())"
   ]
  },
  {
   "cell_type": "code",
   "execution_count": 7,
   "id": "9355ae33",
   "metadata": {},
   "outputs": [],
   "source": [
    "X = df_test_under.drop('Liking',axis = 1)\n",
    "y = df_test_under['Liking']"
   ]
  },
  {
   "cell_type": "code",
   "execution_count": 8,
   "id": "23fe6a73",
   "metadata": {},
   "outputs": [],
   "source": [
    "X_train, X_test, y_train, y_test = train_test_split(X, y, test_size=0.3,stratify=y)"
   ]
  },
  {
   "cell_type": "code",
   "execution_count": 9,
   "id": "026bd1d7",
   "metadata": {},
   "outputs": [
    {
     "data": {
      "text/plain": [
       "LogisticRegression(max_iter=500)"
      ]
     },
     "execution_count": 9,
     "metadata": {},
     "output_type": "execute_result"
    }
   ],
   "source": [
    "model = LogisticRegression(max_iter=500)\n",
    "model.fit(X_train,y_train)"
   ]
  },
  {
   "cell_type": "code",
   "execution_count": 10,
   "id": "f73ba5c1",
   "metadata": {
    "scrolled": true
   },
   "outputs": [
    {
     "data": {
      "text/plain": [
       "1.0"
      ]
     },
     "execution_count": 10,
     "metadata": {},
     "output_type": "execute_result"
    }
   ],
   "source": [
    "model.score(X_test,y_test)"
   ]
  },
  {
   "cell_type": "code",
   "execution_count": 11,
   "id": "f7a9455b",
   "metadata": {
    "scrolled": false
   },
   "outputs": [
    {
     "data": {
      "text/plain": [
       "<AxesSubplot:>"
      ]
     },
     "execution_count": 11,
     "metadata": {},
     "output_type": "execute_result"
    },
    {
     "data": {
      "image/png": "[encoded data removed]",
      "text/plain": [
       "<Figure size 432x288 with 2 Axes>"
      ]
     },
     "metadata": {
      "needs_background": "light"
     },
     "output_type": "display_data"
    }
   ],
   "source": [
    "y_pred = model.predict(X_test)\n",
    "sns.heatmap(confusion_matrix(y_test,y_pred),annot=True)"
   ]
  },
  {
   "cell_type": "code",
   "execution_count": 12,
   "id": "94bdcc0f",
   "metadata": {
    "scrolled": true
   },
   "outputs": [
    {
     "name": "stdout",
     "output_type": "stream",
     "text": [
      "              precision    recall  f1-score   support\n",
      "\n",
      "         0.0       1.00      1.00      1.00       185\n",
      "         1.0       1.00      1.00      1.00       184\n",
      "\n",
      "    accuracy                           1.00       369\n",
      "   macro avg       1.00      1.00      1.00       369\n",
      "weighted avg       1.00      1.00      1.00       369\n",
      "\n"
     ]
    }
   ],
   "source": [
    "print(classification_report(y_test,y_pred))"
   ]
  },
  {
   "cell_type": "markdown",
   "id": "cc0521cf",
   "metadata": {},
   "source": [
    "## Over Sampling"
   ]
  },
  {
   "cell_type": "code",
   "execution_count": 13,
   "id": "95c8662a",
   "metadata": {},
   "outputs": [
    {
     "name": "stdout",
     "output_type": "stream",
     "text": [
      "Random over-sampling:\n",
      "0.0    2665\n",
      "1.0    2665\n",
      "Name: Liking, dtype: int64\n"
     ]
    }
   ],
   "source": [
    "df_class_0_over = df_class_0.sample(len(df_class_1), replace=True)\n",
    "df_test_over = pd.concat([df_class_1, df_class_0_over], axis=0)\n",
    "print('Random over-sampling:')\n",
    "print(df_test_over.Liking.value_counts())"
   ]
  },
  {
   "cell_type": "code",
   "execution_count": 14,
   "id": "2e53457c",
   "metadata": {},
   "outputs": [
    {
     "data": {
      "text/html": [
       "<div>\n",
       "<style scoped>\n",
       "    .dataframe tbody tr th:only-of-type {\n",
       "        vertical-align: middle;\n",
       "    }\n",
       "\n",
       "    .dataframe tbody tr th {\n",
       "        vertical-align: top;\n",
       "    }\n",
       "\n",
       "    .dataframe thead th {\n",
       "        text-align: right;\n",
       "    }\n",
       "</style>\n",
       "<table border=\"1\" class=\"dataframe\">\n",
       "  <thead>\n",
       "    <tr style=\"text-align: right;\">\n",
       "      <th></th>\n",
       "      <th>submarket_name</th>\n",
       "      <th>building_class</th>\n",
       "      <th>year</th>\n",
       "      <th>period</th>\n",
       "      <th>completions</th>\n",
       "      <th>vac_pct</th>\n",
       "      <th>vacancy_chg_bps</th>\n",
       "      <th>asking_rent_pct_chg</th>\n",
       "      <th>abs_per_occ_stk_pct</th>\n",
       "      <th>construction_per_absorption</th>\n",
       "      <th>...</th>\n",
       "      <th>male_male_households</th>\n",
       "      <th>percent_income_spent_on_rent</th>\n",
       "      <th>million_dollar_housing_units</th>\n",
       "      <th>different_house_year_ago_same_city</th>\n",
       "      <th>two_parents_mother_in_labor_force_families_with_young_children</th>\n",
       "      <th>two_parents_not_in_labor_force_families_with_young_children</th>\n",
       "      <th>commuters_by_subway_or_elevated</th>\n",
       "      <th>male_45_64_less_than_9_grade</th>\n",
       "      <th>armed_forces</th>\n",
       "      <th>Liking</th>\n",
       "    </tr>\n",
       "  </thead>\n",
       "  <tbody>\n",
       "    <tr>\n",
       "      <th>615</th>\n",
       "      <td>4</td>\n",
       "      <td>2</td>\n",
       "      <td>0.803922</td>\n",
       "      <td>0</td>\n",
       "      <td>0.000000</td>\n",
       "      <td>0.264045</td>\n",
       "      <td>0.537313</td>\n",
       "      <td>0.110266</td>\n",
       "      <td>0.146766</td>\n",
       "      <td>0.526171</td>\n",
       "      <td>...</td>\n",
       "      <td>0.116041</td>\n",
       "      <td>0.553763</td>\n",
       "      <td>0.0</td>\n",
       "      <td>0.70834</td>\n",
       "      <td>0.0</td>\n",
       "      <td>0.0</td>\n",
       "      <td>1.0</td>\n",
       "      <td>0.046641</td>\n",
       "      <td>0.0</td>\n",
       "      <td>1.0</td>\n",
       "    </tr>\n",
       "    <tr>\n",
       "      <th>616</th>\n",
       "      <td>4</td>\n",
       "      <td>1</td>\n",
       "      <td>0.215686</td>\n",
       "      <td>0</td>\n",
       "      <td>0.000000</td>\n",
       "      <td>0.376404</td>\n",
       "      <td>0.537313</td>\n",
       "      <td>0.482890</td>\n",
       "      <td>0.191542</td>\n",
       "      <td>0.526832</td>\n",
       "      <td>...</td>\n",
       "      <td>0.116041</td>\n",
       "      <td>0.553763</td>\n",
       "      <td>0.0</td>\n",
       "      <td>0.70834</td>\n",
       "      <td>0.0</td>\n",
       "      <td>0.0</td>\n",
       "      <td>1.0</td>\n",
       "      <td>0.046641</td>\n",
       "      <td>0.0</td>\n",
       "      <td>1.0</td>\n",
       "    </tr>\n",
       "    <tr>\n",
       "      <th>617</th>\n",
       "      <td>4</td>\n",
       "      <td>1</td>\n",
       "      <td>0.235294</td>\n",
       "      <td>0</td>\n",
       "      <td>0.018072</td>\n",
       "      <td>0.382022</td>\n",
       "      <td>0.567164</td>\n",
       "      <td>0.555133</td>\n",
       "      <td>0.213930</td>\n",
       "      <td>0.527383</td>\n",
       "      <td>...</td>\n",
       "      <td>0.116041</td>\n",
       "      <td>0.553763</td>\n",
       "      <td>0.0</td>\n",
       "      <td>0.70834</td>\n",
       "      <td>0.0</td>\n",
       "      <td>0.0</td>\n",
       "      <td>1.0</td>\n",
       "      <td>0.046641</td>\n",
       "      <td>0.0</td>\n",
       "      <td>1.0</td>\n",
       "    </tr>\n",
       "    <tr>\n",
       "      <th>618</th>\n",
       "      <td>4</td>\n",
       "      <td>1</td>\n",
       "      <td>0.254902</td>\n",
       "      <td>0</td>\n",
       "      <td>0.014977</td>\n",
       "      <td>0.325843</td>\n",
       "      <td>0.485075</td>\n",
       "      <td>0.460076</td>\n",
       "      <td>0.231343</td>\n",
       "      <td>0.526942</td>\n",
       "      <td>...</td>\n",
       "      <td>0.116041</td>\n",
       "      <td>0.553763</td>\n",
       "      <td>0.0</td>\n",
       "      <td>0.70834</td>\n",
       "      <td>0.0</td>\n",
       "      <td>0.0</td>\n",
       "      <td>1.0</td>\n",
       "      <td>0.046641</td>\n",
       "      <td>0.0</td>\n",
       "      <td>1.0</td>\n",
       "    </tr>\n",
       "    <tr>\n",
       "      <th>619</th>\n",
       "      <td>4</td>\n",
       "      <td>1</td>\n",
       "      <td>0.274510</td>\n",
       "      <td>0</td>\n",
       "      <td>0.000000</td>\n",
       "      <td>0.275281</td>\n",
       "      <td>0.492537</td>\n",
       "      <td>0.513308</td>\n",
       "      <td>0.174129</td>\n",
       "      <td>0.526171</td>\n",
       "      <td>...</td>\n",
       "      <td>0.116041</td>\n",
       "      <td>0.553763</td>\n",
       "      <td>0.0</td>\n",
       "      <td>0.70834</td>\n",
       "      <td>0.0</td>\n",
       "      <td>0.0</td>\n",
       "      <td>1.0</td>\n",
       "      <td>0.046641</td>\n",
       "      <td>0.0</td>\n",
       "      <td>1.0</td>\n",
       "    </tr>\n",
       "  </tbody>\n",
       "</table>\n",
       "<p>5 rows × 43 columns</p>\n",
       "</div>"
      ],
      "text/plain": [
       "     submarket_name  building_class      year  period  completions   vac_pct  \\\n",
       "615               4               2  0.803922       0     0.000000  0.264045   \n",
       "616               4               1  0.215686       0     0.000000  0.376404   \n",
       "617               4               1  0.235294       0     0.018072  0.382022   \n",
       "618               4               1  0.254902       0     0.014977  0.325843   \n",
       "619               4               1  0.274510       0     0.000000  0.275281   \n",
       "\n",
       "     vacancy_chg_bps  asking_rent_pct_chg  abs_per_occ_stk_pct  \\\n",
       "615         0.537313             0.110266             0.146766   \n",
       "616         0.537313             0.482890             0.191542   \n",
       "617         0.567164             0.555133             0.213930   \n",
       "618         0.485075             0.460076             0.231343   \n",
       "619         0.492537             0.513308             0.174129   \n",
       "\n",
       "     construction_per_absorption  ...  male_male_households  \\\n",
       "615                     0.526171  ...              0.116041   \n",
       "616                     0.526832  ...              0.116041   \n",
       "617                     0.527383  ...              0.116041   \n",
       "618                     0.526942  ...              0.116041   \n",
       "619                     0.526171  ...              0.116041   \n",
       "\n",
       "     percent_income_spent_on_rent  million_dollar_housing_units  \\\n",
       "615                      0.553763                           0.0   \n",
       "616                      0.553763                           0.0   \n",
       "617                      0.553763                           0.0   \n",
       "618                      0.553763                           0.0   \n",
       "619                      0.553763                           0.0   \n",
       "\n",
       "     different_house_year_ago_same_city  \\\n",
       "615                             0.70834   \n",
       "616                             0.70834   \n",
       "617                             0.70834   \n",
       "618                             0.70834   \n",
       "619                             0.70834   \n",
       "\n",
       "     two_parents_mother_in_labor_force_families_with_young_children  \\\n",
       "615                                                0.0                \n",
       "616                                                0.0                \n",
       "617                                                0.0                \n",
       "618                                                0.0                \n",
       "619                                                0.0                \n",
       "\n",
       "     two_parents_not_in_labor_force_families_with_young_children  \\\n",
       "615                                                0.0             \n",
       "616                                                0.0             \n",
       "617                                                0.0             \n",
       "618                                                0.0             \n",
       "619                                                0.0             \n",
       "\n",
       "     commuters_by_subway_or_elevated  male_45_64_less_than_9_grade  \\\n",
       "615                              1.0                      0.046641   \n",
       "616                              1.0                      0.046641   \n",
       "617                              1.0                      0.046641   \n",
       "618                              1.0                      0.046641   \n",
       "619                              1.0                      0.046641   \n",
       "\n",
       "     armed_forces  Liking  \n",
       "615           0.0     1.0  \n",
       "616           0.0     1.0  \n",
       "617           0.0     1.0  \n",
       "618           0.0     1.0  \n",
       "619           0.0     1.0  \n",
       "\n",
       "[5 rows x 43 columns]"
      ]
     },
     "execution_count": 14,
     "metadata": {},
     "output_type": "execute_result"
    }
   ],
   "source": [
    "df_test_over.head()"
   ]
  },
  {
   "cell_type": "code",
   "execution_count": 15,
   "id": "d170ec33",
   "metadata": {},
   "outputs": [],
   "source": [
    "X = df_test_over.drop(\"Liking\",axis=1)\n",
    "y = df_test_over['Liking']"
   ]
  },
  {
   "cell_type": "code",
   "execution_count": 16,
   "id": "57d86801",
   "metadata": {},
   "outputs": [],
   "source": [
    "X_train, X_test, y_train, y_test = train_test_split(X, y, test_size=0.3,stratify=y)"
   ]
  },
  {
   "cell_type": "code",
   "execution_count": 17,
   "id": "594c96ff",
   "metadata": {},
   "outputs": [
    {
     "data": {
      "text/plain": [
       "LogisticRegression(max_iter=500)"
      ]
     },
     "execution_count": 17,
     "metadata": {},
     "output_type": "execute_result"
    }
   ],
   "source": [
    "model = LogisticRegression(max_iter=500)\n",
    "model.fit(X_train,y_train)"
   ]
  },
  {
   "cell_type": "code",
   "execution_count": 18,
   "id": "f7aad6ba",
   "metadata": {
    "scrolled": true
   },
   "outputs": [
    {
     "data": {
      "text/plain": [
       "1.0"
      ]
     },
     "execution_count": 18,
     "metadata": {},
     "output_type": "execute_result"
    }
   ],
   "source": [
    "model.score(X_test,y_test)"
   ]
  },
  {
   "cell_type": "code",
   "execution_count": 19,
   "id": "d2edea99",
   "metadata": {
    "scrolled": false
   },
   "outputs": [
    {
     "data": {
      "text/plain": [
       "<AxesSubplot:>"
      ]
     },
     "execution_count": 19,
     "metadata": {},
     "output_type": "execute_result"
    },
    {
     "data": {
      "image/png": "[encoded data removed]",
      "text/plain": [
       "<Figure size 432x288 with 2 Axes>"
      ]
     },
     "metadata": {
      "needs_background": "light"
     },
     "output_type": "display_data"
    }
   ],
   "source": [
    "y_pred = model.predict(X_test)\n",
    "sns.heatmap(confusion_matrix(y_test,y_pred),annot=True)"
   ]
  },
  {
   "cell_type": "code",
   "execution_count": 20,
   "id": "0eb10ab9",
   "metadata": {
    "scrolled": false
   },
   "outputs": [
    {
     "name": "stdout",
     "output_type": "stream",
     "text": [
      "              precision    recall  f1-score   support\n",
      "\n",
      "         0.0       1.00      1.00      1.00       799\n",
      "         1.0       1.00      1.00      1.00       800\n",
      "\n",
      "    accuracy                           1.00      1599\n",
      "   macro avg       1.00      1.00      1.00      1599\n",
      "weighted avg       1.00      1.00      1.00      1599\n",
      "\n"
     ]
    }
   ],
   "source": [
    "print(classification_report(y_test,y_pred))"
   ]
  },
  {
   "cell_type": "markdown",
   "id": "2c3bade6",
   "metadata": {},
   "source": [
    "## Ensambel undersampling"
   ]
  },
  {
   "cell_type": "code",
   "execution_count": 21,
   "id": "169d5f55",
   "metadata": {},
   "outputs": [
    {
     "data": {
      "text/plain": [
       "(2665, 615, 4.333333333333333)"
      ]
     },
     "execution_count": 21,
     "metadata": {},
     "output_type": "execute_result"
    }
   ],
   "source": [
    "len(df_class_1),len(df_class_0) ,len(df_class_1)/len(df_class_0)"
   ]
  },
  {
   "cell_type": "code",
   "execution_count": 22,
   "id": "cb22c62e",
   "metadata": {},
   "outputs": [],
   "source": [
    "len_cls_0 = len(df_class_0)\n",
    "df_1 = pd.concat([df_class_1[:len_cls_0],df_class_0])\n",
    "df_2 = pd.concat([df_class_1[len_cls_0:2*len_cls_0],df_class_0])\n",
    "df_3 = pd.concat([df_class_1[2*len_cls_0:3*len_cls_0],df_class_0])\n",
    "df_4 = pd.concat([df_class_1[3*len_cls_0:4*len_cls_0],df_class_0])\n",
    "df_5 = pd.concat([df_class_1[4*len_cls_0:5*len_cls_0],df_class_0])"
   ]
  },
  {
   "cell_type": "code",
   "execution_count": 23,
   "id": "bdd76bb1",
   "metadata": {},
   "outputs": [
    {
     "name": "stdout",
     "output_type": "stream",
     "text": [
      "1.0\n"
     ]
    },
    {
     "data": {
      "text/plain": [
       "LogisticRegression(max_iter=500)"
      ]
     },
     "execution_count": 23,
     "metadata": {},
     "output_type": "execute_result"
    }
   ],
   "source": [
    "X = df_1.drop(\"Liking\",axis=1)\n",
    "y = df_1['Liking']\n",
    "X_train, X_test, y_train, y_test = train_test_split(X, y, test_size=0.2,stratify=y)\n",
    "model_1 = LogisticRegression(max_iter=500)\n",
    "model_1.fit(X_train,y_train)\n",
    "print(model_1.score(X_test,y_test))\n",
    "model_1.fit(X,y)"
   ]
  },
  {
   "cell_type": "code",
   "execution_count": 24,
   "id": "5bbead3a",
   "metadata": {
    "scrolled": true
   },
   "outputs": [
    {
     "name": "stdout",
     "output_type": "stream",
     "text": [
      "1.0\n"
     ]
    },
    {
     "data": {
      "text/plain": [
       "LogisticRegression(max_iter=500)"
      ]
     },
     "execution_count": 24,
     "metadata": {},
     "output_type": "execute_result"
    }
   ],
   "source": [
    "X = df_2.drop(\"Liking\",axis=1)\n",
    "y = df_2['Liking']\n",
    "X_train, X_test, y_train, y_test = train_test_split(X, y, test_size=0.2,stratify=y)\n",
    "model_2 = LogisticRegression(max_iter=500)\n",
    "model_2.fit(X_train,y_train)\n",
    "print(model_2.score(X_test,y_test))\n",
    "model_2.fit(X,y)"
   ]
  },
  {
   "cell_type": "code",
   "execution_count": 25,
   "id": "89444d42",
   "metadata": {
    "scrolled": false
   },
   "outputs": [
    {
     "name": "stdout",
     "output_type": "stream",
     "text": [
      "1.0\n"
     ]
    },
    {
     "data": {
      "text/plain": [
       "LogisticRegression(max_iter=500)"
      ]
     },
     "execution_count": 25,
     "metadata": {},
     "output_type": "execute_result"
    }
   ],
   "source": [
    "X = df_3.drop(\"Liking\",axis=1)\n",
    "y = df_3['Liking']\n",
    "X_train, X_test, y_train, y_test = train_test_split(X, y, test_size=0.2,stratify=y)\n",
    "model_3 = LogisticRegression(max_iter=500)\n",
    "model_3.fit(X_train,y_train)\n",
    "print(model_3.score(X_test,y_test))\n",
    "model_3.fit(X,y)"
   ]
  },
  {
   "cell_type": "code",
   "execution_count": 26,
   "id": "405d57c2",
   "metadata": {
    "scrolled": true
   },
   "outputs": [
    {
     "name": "stdout",
     "output_type": "stream",
     "text": [
      "1.0\n"
     ]
    },
    {
     "data": {
      "text/plain": [
       "LogisticRegression(max_iter=500)"
      ]
     },
     "execution_count": 26,
     "metadata": {},
     "output_type": "execute_result"
    }
   ],
   "source": [
    "X = df_4.drop(\"Liking\",axis=1)\n",
    "y = df_4['Liking']\n",
    "X_train, X_test, y_train, y_test = train_test_split(X, y, test_size=0.2,stratify=y)\n",
    "model_4 = LogisticRegression(max_iter=500)\n",
    "model_4.fit(X_train,y_train)\n",
    "print(model_4.score(X_test,y_test))\n",
    "model_4.fit(X,y)"
   ]
  },
  {
   "cell_type": "code",
   "execution_count": 27,
   "id": "a925a235",
   "metadata": {},
   "outputs": [
    {
     "name": "stdout",
     "output_type": "stream",
     "text": [
      "1.0\n"
     ]
    },
    {
     "data": {
      "text/plain": [
       "LogisticRegression(max_iter=500)"
      ]
     },
     "execution_count": 27,
     "metadata": {},
     "output_type": "execute_result"
    }
   ],
   "source": [
    "X = df_5.drop(\"Liking\",axis=1)\n",
    "y = df_5['Liking']\n",
    "X_train, X_test, y_train, y_test = train_test_split(X, y, test_size=0.2,stratify=y)\n",
    "model_5 = LogisticRegression(max_iter=500)\n",
    "model_5.fit(X_train,y_train)\n",
    "print(model_5.score(X_test,y_test))\n",
    "model_5.fit(X,y)"
   ]
  },
  {
   "cell_type": "code",
   "execution_count": 28,
   "id": "3902884d",
   "metadata": {},
   "outputs": [],
   "source": [
    "def pred(x):\n",
    "    y_pred = model_1.predict(x)+model_2.predict(x)+model_3.predict(x)+model_4.predict(x)+model_5.predict(x)\n",
    "    return [1 if i>2 else 0 for i in y_pred]"
   ]
  },
  {
   "cell_type": "code",
   "execution_count": 29,
   "id": "4f7fbb5a",
   "metadata": {},
   "outputs": [
    {
     "data": {
      "text/plain": [
       "<AxesSubplot:>"
      ]
     },
     "execution_count": 29,
     "metadata": {},
     "output_type": "execute_result"
    },
    {
     "data": {
      "image/png": "[encoded data removed]",
      "text/plain": [
       "<Figure size 432x288 with 2 Axes>"
      ]
     },
     "metadata": {
      "needs_background": "light"
     },
     "output_type": "display_data"
    }
   ],
   "source": [
    "y_pred = pred(data)\n",
    "sns.heatmap(confusion_matrix(target,y_pred),annot=True)"
   ]
  },
  {
   "cell_type": "code",
   "execution_count": 30,
   "id": "fed02b71",
   "metadata": {
    "scrolled": true
   },
   "outputs": [
    {
     "name": "stdout",
     "output_type": "stream",
     "text": [
      "              precision    recall  f1-score   support\n",
      "\n",
      "         0.0       1.00      1.00      1.00       615\n",
      "         1.0       1.00      1.00      1.00      2665\n",
      "\n",
      "    accuracy                           1.00      3280\n",
      "   macro avg       1.00      1.00      1.00      3280\n",
      "weighted avg       1.00      1.00      1.00      3280\n",
      "\n"
     ]
    }
   ],
   "source": [
    "print(classification_report(target,y_pred))"
   ]
  },
  {
   "cell_type": "markdown",
   "id": "079a5417",
   "metadata": {},
   "source": [
    "## SMOTE"
   ]
  },
  {
   "cell_type": "code",
   "execution_count": 31,
   "id": "778c3655",
   "metadata": {},
   "outputs": [],
   "source": [
    "from imblearn.over_sampling import SMOTE"
   ]
  },
  {
   "cell_type": "code",
   "execution_count": 32,
   "id": "8fe17b56",
   "metadata": {
    "scrolled": true
   },
   "outputs": [
    {
     "data": {
      "text/plain": [
       "0.0    2665\n",
       "1.0    2665\n",
       "Name: Liking, dtype: int64"
      ]
     },
     "execution_count": 32,
     "metadata": {},
     "output_type": "execute_result"
    }
   ],
   "source": [
    "smote = SMOTE(sampling_strategy='minority')\n",
    "X_sm, y_sm = smote.fit_resample(data,target)\n",
    "y_sm.value_counts()"
   ]
  },
  {
   "cell_type": "code",
   "execution_count": 33,
   "id": "8ecaec6e",
   "metadata": {},
   "outputs": [],
   "source": [
    "X_train, X_test, y_train, y_test = train_test_split(X_sm, y_sm, test_size=0.3,stratify=y_sm)"
   ]
  },
  {
   "cell_type": "code",
   "execution_count": 34,
   "id": "8d1d2ea0",
   "metadata": {},
   "outputs": [
    {
     "data": {
      "text/html": [
       "<div>\n",
       "<style scoped>\n",
       "    .dataframe tbody tr th:only-of-type {\n",
       "        vertical-align: middle;\n",
       "    }\n",
       "\n",
       "    .dataframe tbody tr th {\n",
       "        vertical-align: top;\n",
       "    }\n",
       "\n",
       "    .dataframe thead th {\n",
       "        text-align: right;\n",
       "    }\n",
       "</style>\n",
       "<table border=\"1\" class=\"dataframe\">\n",
       "  <thead>\n",
       "    <tr style=\"text-align: right;\">\n",
       "      <th></th>\n",
       "      <th>submarket_name</th>\n",
       "      <th>building_class</th>\n",
       "      <th>year</th>\n",
       "      <th>period</th>\n",
       "      <th>completions</th>\n",
       "      <th>vac_pct</th>\n",
       "      <th>vacancy_chg_bps</th>\n",
       "      <th>asking_rent_pct_chg</th>\n",
       "      <th>abs_per_occ_stk_pct</th>\n",
       "      <th>construction_per_absorption</th>\n",
       "      <th>...</th>\n",
       "      <th>median_year_structure_built</th>\n",
       "      <th>male_male_households</th>\n",
       "      <th>percent_income_spent_on_rent</th>\n",
       "      <th>million_dollar_housing_units</th>\n",
       "      <th>different_house_year_ago_same_city</th>\n",
       "      <th>two_parents_mother_in_labor_force_families_with_young_children</th>\n",
       "      <th>two_parents_not_in_labor_force_families_with_young_children</th>\n",
       "      <th>commuters_by_subway_or_elevated</th>\n",
       "      <th>male_45_64_less_than_9_grade</th>\n",
       "      <th>armed_forces</th>\n",
       "    </tr>\n",
       "  </thead>\n",
       "  <tbody>\n",
       "    <tr>\n",
       "      <th>1235</th>\n",
       "      <td>1</td>\n",
       "      <td>1</td>\n",
       "      <td>0.313725</td>\n",
       "      <td>0</td>\n",
       "      <td>0.040186</td>\n",
       "      <td>0.410112</td>\n",
       "      <td>0.701493</td>\n",
       "      <td>0.722433</td>\n",
       "      <td>0.263682</td>\n",
       "      <td>0.527824</td>\n",
       "      <td>...</td>\n",
       "      <td>0.589744</td>\n",
       "      <td>0.061433</td>\n",
       "      <td>0.451613</td>\n",
       "      <td>1.000000</td>\n",
       "      <td>0.234147</td>\n",
       "      <td>0.461538</td>\n",
       "      <td>0.125683</td>\n",
       "      <td>0.000000</td>\n",
       "      <td>0.046641</td>\n",
       "      <td>0.0</td>\n",
       "    </tr>\n",
       "    <tr>\n",
       "      <th>5118</th>\n",
       "      <td>0</td>\n",
       "      <td>2</td>\n",
       "      <td>0.365480</td>\n",
       "      <td>0</td>\n",
       "      <td>0.000000</td>\n",
       "      <td>0.260730</td>\n",
       "      <td>0.537313</td>\n",
       "      <td>0.548336</td>\n",
       "      <td>0.133186</td>\n",
       "      <td>0.526171</td>\n",
       "      <td>...</td>\n",
       "      <td>0.564103</td>\n",
       "      <td>0.201365</td>\n",
       "      <td>0.838710</td>\n",
       "      <td>0.000000</td>\n",
       "      <td>0.053416</td>\n",
       "      <td>0.714286</td>\n",
       "      <td>0.928962</td>\n",
       "      <td>0.000000</td>\n",
       "      <td>0.734592</td>\n",
       "      <td>0.0</td>\n",
       "    </tr>\n",
       "    <tr>\n",
       "      <th>2088</th>\n",
       "      <td>4</td>\n",
       "      <td>1</td>\n",
       "      <td>0.941176</td>\n",
       "      <td>1</td>\n",
       "      <td>0.017576</td>\n",
       "      <td>0.320225</td>\n",
       "      <td>0.582090</td>\n",
       "      <td>0.418251</td>\n",
       "      <td>0.156716</td>\n",
       "      <td>0.528595</td>\n",
       "      <td>...</td>\n",
       "      <td>0.846154</td>\n",
       "      <td>0.430034</td>\n",
       "      <td>0.295699</td>\n",
       "      <td>0.250707</td>\n",
       "      <td>0.373751</td>\n",
       "      <td>0.000000</td>\n",
       "      <td>0.000000</td>\n",
       "      <td>0.161290</td>\n",
       "      <td>0.050527</td>\n",
       "      <td>0.5</td>\n",
       "    </tr>\n",
       "    <tr>\n",
       "      <th>3706</th>\n",
       "      <td>0</td>\n",
       "      <td>1</td>\n",
       "      <td>0.513546</td>\n",
       "      <td>0</td>\n",
       "      <td>0.000000</td>\n",
       "      <td>0.638906</td>\n",
       "      <td>0.549561</td>\n",
       "      <td>0.389429</td>\n",
       "      <td>0.152368</td>\n",
       "      <td>0.526171</td>\n",
       "      <td>...</td>\n",
       "      <td>0.307692</td>\n",
       "      <td>0.000000</td>\n",
       "      <td>1.000000</td>\n",
       "      <td>0.013666</td>\n",
       "      <td>1.000000</td>\n",
       "      <td>1.000000</td>\n",
       "      <td>0.202186</td>\n",
       "      <td>0.000000</td>\n",
       "      <td>1.000000</td>\n",
       "      <td>0.0</td>\n",
       "    </tr>\n",
       "    <tr>\n",
       "      <th>1636</th>\n",
       "      <td>4</td>\n",
       "      <td>2</td>\n",
       "      <td>0.745098</td>\n",
       "      <td>0</td>\n",
       "      <td>0.041878</td>\n",
       "      <td>0.264045</td>\n",
       "      <td>0.537313</td>\n",
       "      <td>0.471483</td>\n",
       "      <td>0.097015</td>\n",
       "      <td>0.525950</td>\n",
       "      <td>...</td>\n",
       "      <td>0.282051</td>\n",
       "      <td>1.000000</td>\n",
       "      <td>0.467742</td>\n",
       "      <td>0.050895</td>\n",
       "      <td>0.452728</td>\n",
       "      <td>0.000000</td>\n",
       "      <td>0.000000</td>\n",
       "      <td>0.387097</td>\n",
       "      <td>0.056080</td>\n",
       "      <td>0.0</td>\n",
       "    </tr>\n",
       "  </tbody>\n",
       "</table>\n",
       "<p>5 rows × 42 columns</p>\n",
       "</div>"
      ],
      "text/plain": [
       "      submarket_name  building_class      year  period  completions   vac_pct  \\\n",
       "1235               1               1  0.313725       0     0.040186  0.410112   \n",
       "5118               0               2  0.365480       0     0.000000  0.260730   \n",
       "2088               4               1  0.941176       1     0.017576  0.320225   \n",
       "3706               0               1  0.513546       0     0.000000  0.638906   \n",
       "1636               4               2  0.745098       0     0.041878  0.264045   \n",
       "\n",
       "      vacancy_chg_bps  asking_rent_pct_chg  abs_per_occ_stk_pct  \\\n",
       "1235         0.701493             0.722433             0.263682   \n",
       "5118         0.537313             0.548336             0.133186   \n",
       "2088         0.582090             0.418251             0.156716   \n",
       "3706         0.549561             0.389429             0.152368   \n",
       "1636         0.537313             0.471483             0.097015   \n",
       "\n",
       "      construction_per_absorption  ...  median_year_structure_built  \\\n",
       "1235                     0.527824  ...                     0.589744   \n",
       "5118                     0.526171  ...                     0.564103   \n",
       "2088                     0.528595  ...                     0.846154   \n",
       "3706                     0.526171  ...                     0.307692   \n",
       "1636                     0.525950  ...                     0.282051   \n",
       "\n",
       "      male_male_households  percent_income_spent_on_rent  \\\n",
       "1235              0.061433                      0.451613   \n",
       "5118              0.201365                      0.838710   \n",
       "2088              0.430034                      0.295699   \n",
       "3706              0.000000                      1.000000   \n",
       "1636              1.000000                      0.467742   \n",
       "\n",
       "      million_dollar_housing_units  different_house_year_ago_same_city  \\\n",
       "1235                      1.000000                            0.234147   \n",
       "5118                      0.000000                            0.053416   \n",
       "2088                      0.250707                            0.373751   \n",
       "3706                      0.013666                            1.000000   \n",
       "1636                      0.050895                            0.452728   \n",
       "\n",
       "      two_parents_mother_in_labor_force_families_with_young_children  \\\n",
       "1235                                           0.461538                \n",
       "5118                                           0.714286                \n",
       "2088                                           0.000000                \n",
       "3706                                           1.000000                \n",
       "1636                                           0.000000                \n",
       "\n",
       "      two_parents_not_in_labor_force_families_with_young_children  \\\n",
       "1235                                           0.125683             \n",
       "5118                                           0.928962             \n",
       "2088                                           0.000000             \n",
       "3706                                           0.202186             \n",
       "1636                                           0.000000             \n",
       "\n",
       "      commuters_by_subway_or_elevated  male_45_64_less_than_9_grade  \\\n",
       "1235                         0.000000                      0.046641   \n",
       "5118                         0.000000                      0.734592   \n",
       "2088                         0.161290                      0.050527   \n",
       "3706                         0.000000                      1.000000   \n",
       "1636                         0.387097                      0.056080   \n",
       "\n",
       "      armed_forces  \n",
       "1235           0.0  \n",
       "5118           0.0  \n",
       "2088           0.5  \n",
       "3706           0.0  \n",
       "1636           0.0  \n",
       "\n",
       "[5 rows x 42 columns]"
      ]
     },
     "execution_count": 34,
     "metadata": {},
     "output_type": "execute_result"
    }
   ],
   "source": [
    "X_train.head()"
   ]
  },
  {
   "cell_type": "code",
   "execution_count": 35,
   "id": "d0ace0cb",
   "metadata": {},
   "outputs": [
    {
     "data": {
      "text/plain": [
       "LogisticRegression(max_iter=500)"
      ]
     },
     "execution_count": 35,
     "metadata": {},
     "output_type": "execute_result"
    }
   ],
   "source": [
    "model = LogisticRegression(max_iter=500)\n",
    "model.fit(X_train,y_train)"
   ]
  },
  {
   "cell_type": "code",
   "execution_count": 36,
   "id": "a34b1ab3",
   "metadata": {
    "scrolled": true
   },
   "outputs": [
    {
     "data": {
      "text/plain": [
       "1.0"
      ]
     },
     "execution_count": 36,
     "metadata": {},
     "output_type": "execute_result"
    }
   ],
   "source": [
    "model.score(X_test,y_test)"
   ]
  },
  {
   "cell_type": "code",
   "execution_count": 37,
   "id": "562e73a5",
   "metadata": {
    "scrolled": true
   },
   "outputs": [
    {
     "data": {
      "text/plain": [
       "<AxesSubplot:>"
      ]
     },
     "execution_count": 37,
     "metadata": {},
     "output_type": "execute_result"
    },
    {
     "data": {
      "image/png": "[encoded data removed]",
      "text/plain": [
       "<Figure size 432x288 with 2 Axes>"
      ]
     },
     "metadata": {
      "needs_background": "light"
     },
     "output_type": "display_data"
    }
   ],
   "source": [
    "y_pred = model.predict(X_test)\n",
    "sns.heatmap(confusion_matrix(y_test,y_pred),annot=True)"
   ]
  },
  {
   "cell_type": "code",
   "execution_count": 41,
   "id": "4b47587d",
   "metadata": {
    "scrolled": true
   },
   "outputs": [
    {
     "data": {
      "text/plain": [
       "<AxesSubplot:>"
      ]
     },
     "execution_count": 41,
     "metadata": {},
     "output_type": "execute_result"
    },
    {
     "data": {
      "image/png": "[encoded data removed]",
      "text/plain": [
       "<Figure size 432x288 with 2 Axes>"
      ]
     },
     "metadata": {
      "needs_background": "light"
     },
     "output_type": "display_data"
    }
   ],
   "source": [
    "y_pred = model.predict(data)\n",
    "sns.heatmap(confusion_matrix(target,y_pred),annot=True)"
   ]
  },
  {
   "cell_type": "code",
   "execution_count": 42,
   "id": "680b2667",
   "metadata": {
    "collapsed": true
   },
   "outputs": [
    {
     "data": {
      "text/plain": [
       "Index(['submarket_name', 'building_class', 'year', 'period', 'completions',\n",
       "       'vac_pct', 'vacancy_chg_bps', 'asking_rent_pct_chg',\n",
       "       'abs_per_occ_stk_pct', 'construction_per_absorption',\n",
       "       'total_employment_pct_chg', 'households_pct_chg',\n",
       "       'household_avg_income_pct_chg', 'total_pop', 'median_age',\n",
       "       'male_18_to_19', 'male_80_to_84', 'white_pop', 'amerindian_pop',\n",
       "       'other_race_pop', 'two_or_more_races_pop', 'median_income',\n",
       "       'income_less_10000', 'gini_index',\n",
       "       'owner_occupied_housing_units_lower_value_quartile',\n",
       "       'vacant_housing_units', 'vacant_housing_units_for_sale',\n",
       "       'dwellings_1_units_attached', 'dwellings_20_to_49_units',\n",
       "       'dwellings_50_or_more_units', 'mobile_homes',\n",
       "       'housing_built_1939_or_earlier', 'median_year_structure_built',\n",
       "       'male_male_households', 'percent_income_spent_on_rent',\n",
       "       'million_dollar_housing_units', 'different_house_year_ago_same_city',\n",
       "       'two_parents_mother_in_labor_force_families_with_young_children',\n",
       "       'two_parents_not_in_labor_force_families_with_young_children',\n",
       "       'commuters_by_subway_or_elevated', 'male_45_64_less_than_9_grade',\n",
       "       'armed_forces'],\n",
       "      dtype='object')"
      ]
     },
     "execution_count": 42,
     "metadata": {},
     "output_type": "execute_result"
    }
   ],
   "source": [
    "data.columns"
   ]
  },
  {
   "cell_type": "code",
   "execution_count": 38,
   "id": "655166bc",
   "metadata": {
    "scrolled": false
   },
   "outputs": [
    {
     "name": "stdout",
     "output_type": "stream",
     "text": [
      "              precision    recall  f1-score   support\n",
      "\n",
      "         0.0       1.00      1.00      1.00       800\n",
      "         1.0       1.00      1.00      1.00       799\n",
      "\n",
      "    accuracy                           1.00      1599\n",
      "   macro avg       1.00      1.00      1.00      1599\n",
      "weighted avg       1.00      1.00      1.00      1599\n",
      "\n"
     ]
    }
   ],
   "source": [
    "print(classification_report(y_test,y_pred))"
   ]
  },
  {
   "cell_type": "code",
   "execution_count": 39,
   "id": "c2c97a31",
   "metadata": {
    "scrolled": true
   },
   "outputs": [
    {
     "data": {
      "text/html": [
       "<div>\n",
       "<style scoped>\n",
       "    .dataframe tbody tr th:only-of-type {\n",
       "        vertical-align: middle;\n",
       "    }\n",
       "\n",
       "    .dataframe tbody tr th {\n",
       "        vertical-align: top;\n",
       "    }\n",
       "\n",
       "    .dataframe thead th {\n",
       "        text-align: right;\n",
       "    }\n",
       "</style>\n",
       "<table border=\"1\" class=\"dataframe\">\n",
       "  <thead>\n",
       "    <tr style=\"text-align: right;\">\n",
       "      <th></th>\n",
       "      <th>Feature Name</th>\n",
       "      <th>Weights</th>\n",
       "    </tr>\n",
       "  </thead>\n",
       "  <tbody>\n",
       "    <tr>\n",
       "      <th>0</th>\n",
       "      <td>submarket_name</td>\n",
       "      <td>0.230874</td>\n",
       "    </tr>\n",
       "    <tr>\n",
       "      <th>1</th>\n",
       "      <td>building_class</td>\n",
       "      <td>-0.010755</td>\n",
       "    </tr>\n",
       "    <tr>\n",
       "      <th>2</th>\n",
       "      <td>year</td>\n",
       "      <td>0.054213</td>\n",
       "    </tr>\n",
       "    <tr>\n",
       "      <th>3</th>\n",
       "      <td>period</td>\n",
       "      <td>-0.015587</td>\n",
       "    </tr>\n",
       "    <tr>\n",
       "      <th>4</th>\n",
       "      <td>completions</td>\n",
       "      <td>-0.105595</td>\n",
       "    </tr>\n",
       "    <tr>\n",
       "      <th>5</th>\n",
       "      <td>vac_pct</td>\n",
       "      <td>-0.060988</td>\n",
       "    </tr>\n",
       "    <tr>\n",
       "      <th>6</th>\n",
       "      <td>vacancy_chg_bps</td>\n",
       "      <td>0.013019</td>\n",
       "    </tr>\n",
       "    <tr>\n",
       "      <th>7</th>\n",
       "      <td>asking_rent_pct_chg</td>\n",
       "      <td>-0.022845</td>\n",
       "    </tr>\n",
       "    <tr>\n",
       "      <th>8</th>\n",
       "      <td>abs_per_occ_stk_pct</td>\n",
       "      <td>0.059457</td>\n",
       "    </tr>\n",
       "    <tr>\n",
       "      <th>9</th>\n",
       "      <td>construction_per_absorption</td>\n",
       "      <td>0.000533</td>\n",
       "    </tr>\n",
       "    <tr>\n",
       "      <th>10</th>\n",
       "      <td>total_employment_pct_chg</td>\n",
       "      <td>-0.026787</td>\n",
       "    </tr>\n",
       "    <tr>\n",
       "      <th>11</th>\n",
       "      <td>households_pct_chg</td>\n",
       "      <td>0.007922</td>\n",
       "    </tr>\n",
       "    <tr>\n",
       "      <th>12</th>\n",
       "      <td>household_avg_income_pct_chg</td>\n",
       "      <td>-0.035186</td>\n",
       "    </tr>\n",
       "    <tr>\n",
       "      <th>13</th>\n",
       "      <td>total_pop</td>\n",
       "      <td>-1.652018</td>\n",
       "    </tr>\n",
       "    <tr>\n",
       "      <th>14</th>\n",
       "      <td>median_age</td>\n",
       "      <td>0.841244</td>\n",
       "    </tr>\n",
       "    <tr>\n",
       "      <th>15</th>\n",
       "      <td>male_18_to_19</td>\n",
       "      <td>-1.076373</td>\n",
       "    </tr>\n",
       "    <tr>\n",
       "      <th>16</th>\n",
       "      <td>male_80_to_84</td>\n",
       "      <td>-0.993572</td>\n",
       "    </tr>\n",
       "    <tr>\n",
       "      <th>17</th>\n",
       "      <td>white_pop</td>\n",
       "      <td>0.761136</td>\n",
       "    </tr>\n",
       "    <tr>\n",
       "      <th>18</th>\n",
       "      <td>amerindian_pop</td>\n",
       "      <td>-0.77448</td>\n",
       "    </tr>\n",
       "    <tr>\n",
       "      <th>19</th>\n",
       "      <td>other_race_pop</td>\n",
       "      <td>0.626055</td>\n",
       "    </tr>\n",
       "    <tr>\n",
       "      <th>20</th>\n",
       "      <td>two_or_more_races_pop</td>\n",
       "      <td>0.048786</td>\n",
       "    </tr>\n",
       "    <tr>\n",
       "      <th>21</th>\n",
       "      <td>median_income</td>\n",
       "      <td>0.874066</td>\n",
       "    </tr>\n",
       "    <tr>\n",
       "      <th>22</th>\n",
       "      <td>income_less_10000</td>\n",
       "      <td>-0.59331</td>\n",
       "    </tr>\n",
       "    <tr>\n",
       "      <th>23</th>\n",
       "      <td>gini_index</td>\n",
       "      <td>2.840919</td>\n",
       "    </tr>\n",
       "    <tr>\n",
       "      <th>24</th>\n",
       "      <td>owner_occupied_housing_units_lower_value_quartile</td>\n",
       "      <td>1.411105</td>\n",
       "    </tr>\n",
       "    <tr>\n",
       "      <th>25</th>\n",
       "      <td>vacant_housing_units</td>\n",
       "      <td>0.318848</td>\n",
       "    </tr>\n",
       "    <tr>\n",
       "      <th>26</th>\n",
       "      <td>vacant_housing_units_for_sale</td>\n",
       "      <td>0.318657</td>\n",
       "    </tr>\n",
       "    <tr>\n",
       "      <th>27</th>\n",
       "      <td>dwellings_1_units_attached</td>\n",
       "      <td>-0.278634</td>\n",
       "    </tr>\n",
       "    <tr>\n",
       "      <th>28</th>\n",
       "      <td>dwellings_20_to_49_units</td>\n",
       "      <td>0.252033</td>\n",
       "    </tr>\n",
       "    <tr>\n",
       "      <th>29</th>\n",
       "      <td>dwellings_50_or_more_units</td>\n",
       "      <td>1.422603</td>\n",
       "    </tr>\n",
       "    <tr>\n",
       "      <th>30</th>\n",
       "      <td>mobile_homes</td>\n",
       "      <td>-2.700444</td>\n",
       "    </tr>\n",
       "    <tr>\n",
       "      <th>31</th>\n",
       "      <td>housing_built_1939_or_earlier</td>\n",
       "      <td>0.846106</td>\n",
       "    </tr>\n",
       "    <tr>\n",
       "      <th>32</th>\n",
       "      <td>median_year_structure_built</td>\n",
       "      <td>1.008336</td>\n",
       "    </tr>\n",
       "    <tr>\n",
       "      <th>33</th>\n",
       "      <td>male_male_households</td>\n",
       "      <td>0.572651</td>\n",
       "    </tr>\n",
       "    <tr>\n",
       "      <th>34</th>\n",
       "      <td>percent_income_spent_on_rent</td>\n",
       "      <td>-0.778665</td>\n",
       "    </tr>\n",
       "    <tr>\n",
       "      <th>35</th>\n",
       "      <td>million_dollar_housing_units</td>\n",
       "      <td>0.630139</td>\n",
       "    </tr>\n",
       "    <tr>\n",
       "      <th>36</th>\n",
       "      <td>different_house_year_ago_same_city</td>\n",
       "      <td>-0.235617</td>\n",
       "    </tr>\n",
       "    <tr>\n",
       "      <th>37</th>\n",
       "      <td>two_parents_mother_in_labor_force_families_wit...</td>\n",
       "      <td>-2.844538</td>\n",
       "    </tr>\n",
       "    <tr>\n",
       "      <th>38</th>\n",
       "      <td>two_parents_not_in_labor_force_families_with_y...</td>\n",
       "      <td>-2.425332</td>\n",
       "    </tr>\n",
       "    <tr>\n",
       "      <th>39</th>\n",
       "      <td>commuters_by_subway_or_elevated</td>\n",
       "      <td>0.76115</td>\n",
       "    </tr>\n",
       "    <tr>\n",
       "      <th>40</th>\n",
       "      <td>male_45_64_less_than_9_grade</td>\n",
       "      <td>-2.591037</td>\n",
       "    </tr>\n",
       "    <tr>\n",
       "      <th>41</th>\n",
       "      <td>armed_forces</td>\n",
       "      <td>0.408516</td>\n",
       "    </tr>\n",
       "  </tbody>\n",
       "</table>\n",
       "</div>"
      ],
      "text/plain": [
       "                                         Feature Name   Weights\n",
       "0                                      submarket_name  0.230874\n",
       "1                                      building_class -0.010755\n",
       "2                                                year  0.054213\n",
       "3                                              period -0.015587\n",
       "4                                         completions -0.105595\n",
       "5                                             vac_pct -0.060988\n",
       "6                                     vacancy_chg_bps  0.013019\n",
       "7                                 asking_rent_pct_chg -0.022845\n",
       "8                                 abs_per_occ_stk_pct  0.059457\n",
       "9                         construction_per_absorption  0.000533\n",
       "10                           total_employment_pct_chg -0.026787\n",
       "11                                 households_pct_chg  0.007922\n",
       "12                       household_avg_income_pct_chg -0.035186\n",
       "13                                          total_pop -1.652018\n",
       "14                                         median_age  0.841244\n",
       "15                                      male_18_to_19 -1.076373\n",
       "16                                      male_80_to_84 -0.993572\n",
       "17                                          white_pop  0.761136\n",
       "18                                     amerindian_pop  -0.77448\n",
       "19                                     other_race_pop  0.626055\n",
       "20                              two_or_more_races_pop  0.048786\n",
       "21                                      median_income  0.874066\n",
       "22                                  income_less_10000  -0.59331\n",
       "23                                         gini_index  2.840919\n",
       "24  owner_occupied_housing_units_lower_value_quartile  1.411105\n",
       "25                               vacant_housing_units  0.318848\n",
       "26                      vacant_housing_units_for_sale  0.318657\n",
       "27                         dwellings_1_units_attached -0.278634\n",
       "28                           dwellings_20_to_49_units  0.252033\n",
       "29                         dwellings_50_or_more_units  1.422603\n",
       "30                                       mobile_homes -2.700444\n",
       "31                      housing_built_1939_or_earlier  0.846106\n",
       "32                        median_year_structure_built  1.008336\n",
       "33                               male_male_households  0.572651\n",
       "34                       percent_income_spent_on_rent -0.778665\n",
       "35                       million_dollar_housing_units  0.630139\n",
       "36                 different_house_year_ago_same_city -0.235617\n",
       "37  two_parents_mother_in_labor_force_families_wit... -2.844538\n",
       "38  two_parents_not_in_labor_force_families_with_y... -2.425332\n",
       "39                    commuters_by_subway_or_elevated   0.76115\n",
       "40                       male_45_64_less_than_9_grade -2.591037\n",
       "41                                       armed_forces  0.408516"
      ]
     },
     "execution_count": 39,
     "metadata": {},
     "output_type": "execute_result"
    }
   ],
   "source": [
    "pd.DataFrame(np.array([data.columns,model.coef_[0]]).T, columns = ['Feature Name','Weights'])"
   ]
  },
  {
   "cell_type": "code",
   "execution_count": 40,
   "id": "00fe121d",
   "metadata": {},
   "outputs": [
    {
     "data": {
      "text/plain": [
       "array([2.59871978])"
      ]
     },
     "execution_count": 40,
     "metadata": {},
     "output_type": "execute_result"
    }
   ],
   "source": [
    "model.intercept_"
   ]
  },
  {
   "cell_type": "code",
   "execution_count": null,
   "id": "b8995bf6",
   "metadata": {},
   "outputs": [],
   "source": []
  }
 ],
 "metadata": {
  "kernelspec": {
   "display_name": "Python 3",
   "language": "python",
   "name": "python3"
  },
  "language_info": {
   "codemirror_mode": {
    "name": "ipython",
    "version": 3
   },
   "file_extension": ".py",
   "mimetype": "text/x-python",
   "name": "python",
   "nbconvert_exporter": "python",
   "pygments_lexer": "ipython3",
   "version": "3.9.5"
  }
 },
 "nbformat": 4,
 "nbformat_minor": 5
}
