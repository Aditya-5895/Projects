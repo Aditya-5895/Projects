{
 "cells": [
  {
   "cell_type": "code",
   "execution_count": 1,
   "id": "da3e4656",
   "metadata": {},
   "outputs": [],
   "source": [
    "import numpy as np\n",
    "import pandas as pd\n",
    "import matplotlib.pyplot as plt\n",
    "import seaborn as sns\n",
    "from sklearn.neighbors import KNeighborsClassifier as KNN\n",
    "from sklearn.model_selection import train_test_split\n",
    "from sklearn.metrics import classification_report,confusion_matrix"
   ]
  },
  {
   "cell_type": "code",
   "execution_count": 2,
   "id": "eb6bba6c",
   "metadata": {
    "scrolled": true
   },
   "outputs": [
    {
     "data": {
      "text/html": [
       "<div>\n",
       "<style scoped>\n",
       "    .dataframe tbody tr th:only-of-type {\n",
       "        vertical-align: middle;\n",
       "    }\n",
       "\n",
       "    .dataframe tbody tr th {\n",
       "        vertical-align: top;\n",
       "    }\n",
       "\n",
       "    .dataframe thead th {\n",
       "        text-align: right;\n",
       "    }\n",
       "</style>\n",
       "<table border=\"1\" class=\"dataframe\">\n",
       "  <thead>\n",
       "    <tr style=\"text-align: right;\">\n",
       "      <th></th>\n",
       "      <th>submarket_name</th>\n",
       "      <th>building_class</th>\n",
       "      <th>year</th>\n",
       "      <th>period</th>\n",
       "      <th>completions</th>\n",
       "      <th>vac_pct</th>\n",
       "      <th>vacancy_chg_bps</th>\n",
       "      <th>asking_rent_pct_chg</th>\n",
       "      <th>abs_per_occ_stk_pct</th>\n",
       "      <th>construction_per_absorption</th>\n",
       "      <th>...</th>\n",
       "      <th>male_male_households</th>\n",
       "      <th>percent_income_spent_on_rent</th>\n",
       "      <th>million_dollar_housing_units</th>\n",
       "      <th>different_house_year_ago_same_city</th>\n",
       "      <th>two_parents_mother_in_labor_force_families_with_young_children</th>\n",
       "      <th>two_parents_not_in_labor_force_families_with_young_children</th>\n",
       "      <th>commuters_by_subway_or_elevated</th>\n",
       "      <th>male_45_64_less_than_9_grade</th>\n",
       "      <th>armed_forces</th>\n",
       "      <th>Liking</th>\n",
       "    </tr>\n",
       "  </thead>\n",
       "  <tbody>\n",
       "    <tr>\n",
       "      <th>0</th>\n",
       "      <td>0</td>\n",
       "      <td>1</td>\n",
       "      <td>0.215686</td>\n",
       "      <td>0</td>\n",
       "      <td>0.0</td>\n",
       "      <td>0.522472</td>\n",
       "      <td>0.537313</td>\n",
       "      <td>0.482890</td>\n",
       "      <td>0.191542</td>\n",
       "      <td>0.526832</td>\n",
       "      <td>...</td>\n",
       "      <td>0.0</td>\n",
       "      <td>1.0</td>\n",
       "      <td>0.013666</td>\n",
       "      <td>1.0</td>\n",
       "      <td>1.0</td>\n",
       "      <td>0.202186</td>\n",
       "      <td>0.0</td>\n",
       "      <td>1.0</td>\n",
       "      <td>0.0</td>\n",
       "      <td>0.0</td>\n",
       "    </tr>\n",
       "    <tr>\n",
       "      <th>1</th>\n",
       "      <td>0</td>\n",
       "      <td>1</td>\n",
       "      <td>0.235294</td>\n",
       "      <td>0</td>\n",
       "      <td>0.0</td>\n",
       "      <td>0.533708</td>\n",
       "      <td>0.574627</td>\n",
       "      <td>0.528517</td>\n",
       "      <td>0.144279</td>\n",
       "      <td>0.526171</td>\n",
       "      <td>...</td>\n",
       "      <td>0.0</td>\n",
       "      <td>1.0</td>\n",
       "      <td>0.013666</td>\n",
       "      <td>1.0</td>\n",
       "      <td>1.0</td>\n",
       "      <td>0.202186</td>\n",
       "      <td>0.0</td>\n",
       "      <td>1.0</td>\n",
       "      <td>0.0</td>\n",
       "      <td>0.0</td>\n",
       "    </tr>\n",
       "    <tr>\n",
       "      <th>2</th>\n",
       "      <td>0</td>\n",
       "      <td>1</td>\n",
       "      <td>0.254902</td>\n",
       "      <td>0</td>\n",
       "      <td>0.0</td>\n",
       "      <td>0.460674</td>\n",
       "      <td>0.462687</td>\n",
       "      <td>0.498099</td>\n",
       "      <td>0.184080</td>\n",
       "      <td>0.526171</td>\n",
       "      <td>...</td>\n",
       "      <td>0.0</td>\n",
       "      <td>1.0</td>\n",
       "      <td>0.013666</td>\n",
       "      <td>1.0</td>\n",
       "      <td>1.0</td>\n",
       "      <td>0.202186</td>\n",
       "      <td>0.0</td>\n",
       "      <td>1.0</td>\n",
       "      <td>0.0</td>\n",
       "      <td>0.0</td>\n",
       "    </tr>\n",
       "    <tr>\n",
       "      <th>3</th>\n",
       "      <td>0</td>\n",
       "      <td>1</td>\n",
       "      <td>0.274510</td>\n",
       "      <td>0</td>\n",
       "      <td>0.0</td>\n",
       "      <td>0.370787</td>\n",
       "      <td>0.440299</td>\n",
       "      <td>0.429658</td>\n",
       "      <td>0.191542</td>\n",
       "      <td>0.526171</td>\n",
       "      <td>...</td>\n",
       "      <td>0.0</td>\n",
       "      <td>1.0</td>\n",
       "      <td>0.013666</td>\n",
       "      <td>1.0</td>\n",
       "      <td>1.0</td>\n",
       "      <td>0.202186</td>\n",
       "      <td>0.0</td>\n",
       "      <td>1.0</td>\n",
       "      <td>0.0</td>\n",
       "      <td>0.0</td>\n",
       "    </tr>\n",
       "    <tr>\n",
       "      <th>4</th>\n",
       "      <td>0</td>\n",
       "      <td>1</td>\n",
       "      <td>0.294118</td>\n",
       "      <td>0</td>\n",
       "      <td>0.0</td>\n",
       "      <td>0.297753</td>\n",
       "      <td>0.462687</td>\n",
       "      <td>0.463878</td>\n",
       "      <td>0.184080</td>\n",
       "      <td>0.526171</td>\n",
       "      <td>...</td>\n",
       "      <td>0.0</td>\n",
       "      <td>1.0</td>\n",
       "      <td>0.013666</td>\n",
       "      <td>1.0</td>\n",
       "      <td>1.0</td>\n",
       "      <td>0.202186</td>\n",
       "      <td>0.0</td>\n",
       "      <td>1.0</td>\n",
       "      <td>0.0</td>\n",
       "      <td>0.0</td>\n",
       "    </tr>\n",
       "  </tbody>\n",
       "</table>\n",
       "<p>5 rows × 43 columns</p>\n",
       "</div>"
      ],
      "text/plain": [
       "   submarket_name  building_class      year  period  completions   vac_pct  \\\n",
       "0               0               1  0.215686       0          0.0  0.522472   \n",
       "1               0               1  0.235294       0          0.0  0.533708   \n",
       "2               0               1  0.254902       0          0.0  0.460674   \n",
       "3               0               1  0.274510       0          0.0  0.370787   \n",
       "4               0               1  0.294118       0          0.0  0.297753   \n",
       "\n",
       "   vacancy_chg_bps  asking_rent_pct_chg  abs_per_occ_stk_pct  \\\n",
       "0         0.537313             0.482890             0.191542   \n",
       "1         0.574627             0.528517             0.144279   \n",
       "2         0.462687             0.498099             0.184080   \n",
       "3         0.440299             0.429658             0.191542   \n",
       "4         0.462687             0.463878             0.184080   \n",
       "\n",
       "   construction_per_absorption  ...  male_male_households  \\\n",
       "0                     0.526832  ...                   0.0   \n",
       "1                     0.526171  ...                   0.0   \n",
       "2                     0.526171  ...                   0.0   \n",
       "3                     0.526171  ...                   0.0   \n",
       "4                     0.526171  ...                   0.0   \n",
       "\n",
       "   percent_income_spent_on_rent  million_dollar_housing_units  \\\n",
       "0                           1.0                      0.013666   \n",
       "1                           1.0                      0.013666   \n",
       "2                           1.0                      0.013666   \n",
       "3                           1.0                      0.013666   \n",
       "4                           1.0                      0.013666   \n",
       "\n",
       "   different_house_year_ago_same_city  \\\n",
       "0                                 1.0   \n",
       "1                                 1.0   \n",
       "2                                 1.0   \n",
       "3                                 1.0   \n",
       "4                                 1.0   \n",
       "\n",
       "   two_parents_mother_in_labor_force_families_with_young_children  \\\n",
       "0                                                1.0                \n",
       "1                                                1.0                \n",
       "2                                                1.0                \n",
       "3                                                1.0                \n",
       "4                                                1.0                \n",
       "\n",
       "   two_parents_not_in_labor_force_families_with_young_children  \\\n",
       "0                                           0.202186             \n",
       "1                                           0.202186             \n",
       "2                                           0.202186             \n",
       "3                                           0.202186             \n",
       "4                                           0.202186             \n",
       "\n",
       "   commuters_by_subway_or_elevated  male_45_64_less_than_9_grade  \\\n",
       "0                              0.0                           1.0   \n",
       "1                              0.0                           1.0   \n",
       "2                              0.0                           1.0   \n",
       "3                              0.0                           1.0   \n",
       "4                              0.0                           1.0   \n",
       "\n",
       "   armed_forces  Liking  \n",
       "0           0.0     0.0  \n",
       "1           0.0     0.0  \n",
       "2           0.0     0.0  \n",
       "3           0.0     0.0  \n",
       "4           0.0     0.0  \n",
       "\n",
       "[5 rows x 43 columns]"
      ]
     },
     "execution_count": 2,
     "metadata": {},
     "output_type": "execute_result"
    }
   ],
   "source": [
    "df = pd.read_csv(\"Trainable_data.csv\")\n",
    "df = df.drop(['Unnamed: 0','zip'],axis=1)\n",
    "df.head()"
   ]
  },
  {
   "cell_type": "code",
   "execution_count": 3,
   "id": "8cdf7df5",
   "metadata": {},
   "outputs": [
    {
     "data": {
      "text/plain": [
       "Index(['submarket_name', 'building_class', 'year', 'period', 'completions',\n",
       "       'vac_pct', 'vacancy_chg_bps', 'asking_rent_pct_chg',\n",
       "       'abs_per_occ_stk_pct', 'construction_per_absorption',\n",
       "       'total_employment_pct_chg', 'households_pct_chg',\n",
       "       'household_avg_income_pct_chg', 'total_pop', 'median_age',\n",
       "       'male_18_to_19', 'male_80_to_84', 'white_pop', 'amerindian_pop',\n",
       "       'other_race_pop', 'two_or_more_races_pop', 'median_income',\n",
       "       'income_less_10000', 'gini_index',\n",
       "       'owner_occupied_housing_units_lower_value_quartile',\n",
       "       'vacant_housing_units', 'vacant_housing_units_for_sale',\n",
       "       'dwellings_1_units_attached', 'dwellings_20_to_49_units',\n",
       "       'dwellings_50_or_more_units', 'mobile_homes',\n",
       "       'housing_built_1939_or_earlier', 'median_year_structure_built',\n",
       "       'male_male_households', 'percent_income_spent_on_rent',\n",
       "       'million_dollar_housing_units', 'different_house_year_ago_same_city',\n",
       "       'two_parents_mother_in_labor_force_families_with_young_children',\n",
       "       'two_parents_not_in_labor_force_families_with_young_children',\n",
       "       'commuters_by_subway_or_elevated', 'male_45_64_less_than_9_grade',\n",
       "       'armed_forces', 'Liking'],\n",
       "      dtype='object')"
      ]
     },
     "execution_count": 3,
     "metadata": {},
     "output_type": "execute_result"
    }
   ],
   "source": [
    "df.columns"
   ]
  },
  {
   "cell_type": "code",
   "execution_count": 4,
   "id": "ae1e3e71",
   "metadata": {},
   "outputs": [],
   "source": [
    "X = df.drop('Liking',axis = 1)\n",
    "y = df['Liking']"
   ]
  },
  {
   "cell_type": "code",
   "execution_count": 5,
   "id": "fc433186",
   "metadata": {},
   "outputs": [
    {
     "data": {
      "text/plain": [
       "1.0    2665\n",
       "0.0     615\n",
       "Name: Liking, dtype: int64"
      ]
     },
     "execution_count": 5,
     "metadata": {},
     "output_type": "execute_result"
    }
   ],
   "source": [
    "df['Liking'].value_counts()"
   ]
  },
  {
   "cell_type": "code",
   "execution_count": 6,
   "id": "2469d3f7",
   "metadata": {},
   "outputs": [],
   "source": [
    "X_train, X_test, y_train, y_test = train_test_split(X, y, test_size=0.2,stratify=y)"
   ]
  },
  {
   "cell_type": "code",
   "execution_count": 7,
   "id": "bf276156",
   "metadata": {},
   "outputs": [
    {
     "data": {
      "text/plain": [
       "KNeighborsClassifier(n_neighbors=3)"
      ]
     },
     "execution_count": 7,
     "metadata": {},
     "output_type": "execute_result"
    }
   ],
   "source": [
    "model = KNN(n_neighbors=3)\n",
    "model.fit(X_train,y_train)"
   ]
  },
  {
   "cell_type": "code",
   "execution_count": 8,
   "id": "6d07bd0c",
   "metadata": {
    "scrolled": true
   },
   "outputs": [
    {
     "data": {
      "text/plain": [
       "<AxesSubplot:>"
      ]
     },
     "execution_count": 8,
     "metadata": {},
     "output_type": "execute_result"
    },
    {
     "data": {
      "image/png": "[encoded data removed]",
      "text/plain": [
       "<Figure size 432x288 with 2 Axes>"
      ]
     },
     "metadata": {
      "needs_background": "light"
     },
     "output_type": "display_data"
    }
   ],
   "source": [
    "y_pred = model.predict(X_test)\n",
    "sns.heatmap(confusion_matrix(y_test,y_pred),annot=True)"
   ]
  },
  {
   "cell_type": "code",
   "execution_count": 9,
   "id": "6dedb0bf",
   "metadata": {},
   "outputs": [
    {
     "data": {
      "text/plain": [
       "((656, 42), (3280, 42))"
      ]
     },
     "execution_count": 9,
     "metadata": {},
     "output_type": "execute_result"
    }
   ],
   "source": [
    "X_test.shape,X.shape"
   ]
  },
  {
   "cell_type": "code",
   "execution_count": 10,
   "id": "3804e565",
   "metadata": {},
   "outputs": [
    {
     "data": {
      "text/plain": [
       "<AxesSubplot:>"
      ]
     },
     "execution_count": 10,
     "metadata": {},
     "output_type": "execute_result"
    },
    {
     "data": {
      "image/png": "[encoded data removed]",
      "text/plain": [
       "<Figure size 432x288 with 2 Axes>"
      ]
     },
     "metadata": {
      "needs_background": "light"
     },
     "output_type": "display_data"
    }
   ],
   "source": [
    "y_pred = model.predict(X)\n",
    "sns.heatmap(confusion_matrix(y,y_pred),annot=True)"
   ]
  }
 ],
 "metadata": {
  "kernelspec": {
   "display_name": "Python 3",
   "language": "python",
   "name": "python3"
  },
  "language_info": {
   "codemirror_mode": {
    "name": "ipython",
    "version": 3
   },
   "file_extension": ".py",
   "mimetype": "text/x-python",
   "name": "python",
   "nbconvert_exporter": "python",
   "pygments_lexer": "ipython3",
   "version": "3.9.5"
  }
 },
 "nbformat": 4,
 "nbformat_minor": 5
}
