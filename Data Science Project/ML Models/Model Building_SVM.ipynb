{
 "cells": [
  {
   "cell_type": "code",
   "execution_count": 1,
   "id": "1a7f4561",
   "metadata": {},
   "outputs": [],
   "source": [
    "import numpy as np\n",
    "import pandas as pd\n",
    "import matplotlib.pyplot as plt\n",
    "import seaborn as sns\n",
    "from sklearn.linear_model import LogisticRegression\n",
    "from sklearn.svm import SVC\n",
    "from sklearn.model_selection import train_test_split\n",
    "from sklearn.metrics import classification_report,confusion_matrix"
   ]
  },
  {
   "cell_type": "code",
   "execution_count": 3,
   "id": "cd181669",
   "metadata": {},
   "outputs": [
    {
     "data": {
      "text/html": [
       "<div>\n",
       "<style scoped>\n",
       "    .dataframe tbody tr th:only-of-type {\n",
       "        vertical-align: middle;\n",
       "    }\n",
       "\n",
       "    .dataframe tbody tr th {\n",
       "        vertical-align: top;\n",
       "    }\n",
       "\n",
       "    .dataframe thead th {\n",
       "        text-align: right;\n",
       "    }\n",
       "</style>\n",
       "<table border=\"1\" class=\"dataframe\">\n",
       "  <thead>\n",
       "    <tr style=\"text-align: right;\">\n",
       "      <th></th>\n",
       "      <th>submarket_name</th>\n",
       "      <th>building_class</th>\n",
       "      <th>year</th>\n",
       "      <th>period</th>\n",
       "      <th>completions</th>\n",
       "      <th>vac_pct</th>\n",
       "      <th>vacancy_chg_bps</th>\n",
       "      <th>asking_rent_pct_chg</th>\n",
       "      <th>abs_per_occ_stk_pct</th>\n",
       "      <th>construction_per_absorption</th>\n",
       "      <th>...</th>\n",
       "      <th>male_male_households</th>\n",
       "      <th>percent_income_spent_on_rent</th>\n",
       "      <th>million_dollar_housing_units</th>\n",
       "      <th>different_house_year_ago_same_city</th>\n",
       "      <th>two_parents_mother_in_labor_force_families_with_young_children</th>\n",
       "      <th>two_parents_not_in_labor_force_families_with_young_children</th>\n",
       "      <th>commuters_by_subway_or_elevated</th>\n",
       "      <th>male_45_64_less_than_9_grade</th>\n",
       "      <th>armed_forces</th>\n",
       "      <th>Liking</th>\n",
       "    </tr>\n",
       "  </thead>\n",
       "  <tbody>\n",
       "    <tr>\n",
       "      <th>0</th>\n",
       "      <td>0</td>\n",
       "      <td>1</td>\n",
       "      <td>0.215686</td>\n",
       "      <td>0</td>\n",
       "      <td>0.0</td>\n",
       "      <td>0.522472</td>\n",
       "      <td>0.537313</td>\n",
       "      <td>0.482890</td>\n",
       "      <td>0.191542</td>\n",
       "      <td>0.526832</td>\n",
       "      <td>...</td>\n",
       "      <td>0.0</td>\n",
       "      <td>1.0</td>\n",
       "      <td>0.013666</td>\n",
       "      <td>1.0</td>\n",
       "      <td>1.0</td>\n",
       "      <td>0.202186</td>\n",
       "      <td>0.0</td>\n",
       "      <td>1.0</td>\n",
       "      <td>0.0</td>\n",
       "      <td>0.0</td>\n",
       "    </tr>\n",
       "    <tr>\n",
       "      <th>1</th>\n",
       "      <td>0</td>\n",
       "      <td>1</td>\n",
       "      <td>0.235294</td>\n",
       "      <td>0</td>\n",
       "      <td>0.0</td>\n",
       "      <td>0.533708</td>\n",
       "      <td>0.574627</td>\n",
       "      <td>0.528517</td>\n",
       "      <td>0.144279</td>\n",
       "      <td>0.526171</td>\n",
       "      <td>...</td>\n",
       "      <td>0.0</td>\n",
       "      <td>1.0</td>\n",
       "      <td>0.013666</td>\n",
       "      <td>1.0</td>\n",
       "      <td>1.0</td>\n",
       "      <td>0.202186</td>\n",
       "      <td>0.0</td>\n",
       "      <td>1.0</td>\n",
       "      <td>0.0</td>\n",
       "      <td>0.0</td>\n",
       "    </tr>\n",
       "    <tr>\n",
       "      <th>2</th>\n",
       "      <td>0</td>\n",
       "      <td>1</td>\n",
       "      <td>0.254902</td>\n",
       "      <td>0</td>\n",
       "      <td>0.0</td>\n",
       "      <td>0.460674</td>\n",
       "      <td>0.462687</td>\n",
       "      <td>0.498099</td>\n",
       "      <td>0.184080</td>\n",
       "      <td>0.526171</td>\n",
       "      <td>...</td>\n",
       "      <td>0.0</td>\n",
       "      <td>1.0</td>\n",
       "      <td>0.013666</td>\n",
       "      <td>1.0</td>\n",
       "      <td>1.0</td>\n",
       "      <td>0.202186</td>\n",
       "      <td>0.0</td>\n",
       "      <td>1.0</td>\n",
       "      <td>0.0</td>\n",
       "      <td>0.0</td>\n",
       "    </tr>\n",
       "    <tr>\n",
       "      <th>3</th>\n",
       "      <td>0</td>\n",
       "      <td>1</td>\n",
       "      <td>0.274510</td>\n",
       "      <td>0</td>\n",
       "      <td>0.0</td>\n",
       "      <td>0.370787</td>\n",
       "      <td>0.440299</td>\n",
       "      <td>0.429658</td>\n",
       "      <td>0.191542</td>\n",
       "      <td>0.526171</td>\n",
       "      <td>...</td>\n",
       "      <td>0.0</td>\n",
       "      <td>1.0</td>\n",
       "      <td>0.013666</td>\n",
       "      <td>1.0</td>\n",
       "      <td>1.0</td>\n",
       "      <td>0.202186</td>\n",
       "      <td>0.0</td>\n",
       "      <td>1.0</td>\n",
       "      <td>0.0</td>\n",
       "      <td>0.0</td>\n",
       "    </tr>\n",
       "    <tr>\n",
       "      <th>4</th>\n",
       "      <td>0</td>\n",
       "      <td>1</td>\n",
       "      <td>0.294118</td>\n",
       "      <td>0</td>\n",
       "      <td>0.0</td>\n",
       "      <td>0.297753</td>\n",
       "      <td>0.462687</td>\n",
       "      <td>0.463878</td>\n",
       "      <td>0.184080</td>\n",
       "      <td>0.526171</td>\n",
       "      <td>...</td>\n",
       "      <td>0.0</td>\n",
       "      <td>1.0</td>\n",
       "      <td>0.013666</td>\n",
       "      <td>1.0</td>\n",
       "      <td>1.0</td>\n",
       "      <td>0.202186</td>\n",
       "      <td>0.0</td>\n",
       "      <td>1.0</td>\n",
       "      <td>0.0</td>\n",
       "      <td>0.0</td>\n",
       "    </tr>\n",
       "  </tbody>\n",
       "</table>\n",
       "<p>5 rows × 43 columns</p>\n",
       "</div>"
      ],
      "text/plain": [
       "   submarket_name  building_class      year  period  completions   vac_pct  \\\n",
       "0               0               1  0.215686       0          0.0  0.522472   \n",
       "1               0               1  0.235294       0          0.0  0.533708   \n",
       "2               0               1  0.254902       0          0.0  0.460674   \n",
       "3               0               1  0.274510       0          0.0  0.370787   \n",
       "4               0               1  0.294118       0          0.0  0.297753   \n",
       "\n",
       "   vacancy_chg_bps  asking_rent_pct_chg  abs_per_occ_stk_pct  \\\n",
       "0         0.537313             0.482890             0.191542   \n",
       "1         0.574627             0.528517             0.144279   \n",
       "2         0.462687             0.498099             0.184080   \n",
       "3         0.440299             0.429658             0.191542   \n",
       "4         0.462687             0.463878             0.184080   \n",
       "\n",
       "   construction_per_absorption  ...  male_male_households  \\\n",
       "0                     0.526832  ...                   0.0   \n",
       "1                     0.526171  ...                   0.0   \n",
       "2                     0.526171  ...                   0.0   \n",
       "3                     0.526171  ...                   0.0   \n",
       "4                     0.526171  ...                   0.0   \n",
       "\n",
       "   percent_income_spent_on_rent  million_dollar_housing_units  \\\n",
       "0                           1.0                      0.013666   \n",
       "1                           1.0                      0.013666   \n",
       "2                           1.0                      0.013666   \n",
       "3                           1.0                      0.013666   \n",
       "4                           1.0                      0.013666   \n",
       "\n",
       "   different_house_year_ago_same_city  \\\n",
       "0                                 1.0   \n",
       "1                                 1.0   \n",
       "2                                 1.0   \n",
       "3                                 1.0   \n",
       "4                                 1.0   \n",
       "\n",
       "   two_parents_mother_in_labor_force_families_with_young_children  \\\n",
       "0                                                1.0                \n",
       "1                                                1.0                \n",
       "2                                                1.0                \n",
       "3                                                1.0                \n",
       "4                                                1.0                \n",
       "\n",
       "   two_parents_not_in_labor_force_families_with_young_children  \\\n",
       "0                                           0.202186             \n",
       "1                                           0.202186             \n",
       "2                                           0.202186             \n",
       "3                                           0.202186             \n",
       "4                                           0.202186             \n",
       "\n",
       "   commuters_by_subway_or_elevated  male_45_64_less_than_9_grade  \\\n",
       "0                              0.0                           1.0   \n",
       "1                              0.0                           1.0   \n",
       "2                              0.0                           1.0   \n",
       "3                              0.0                           1.0   \n",
       "4                              0.0                           1.0   \n",
       "\n",
       "   armed_forces  Liking  \n",
       "0           0.0     0.0  \n",
       "1           0.0     0.0  \n",
       "2           0.0     0.0  \n",
       "3           0.0     0.0  \n",
       "4           0.0     0.0  \n",
       "\n",
       "[5 rows x 43 columns]"
      ]
     },
     "execution_count": 3,
     "metadata": {},
     "output_type": "execute_result"
    }
   ],
   "source": [
    "df = pd.read_csv('Trainable_data.csv')\n",
    "df = df.drop(['Unnamed: 0','zip'],axis=1)\n",
    "df.head()"
   ]
  },
  {
   "cell_type": "code",
   "execution_count": 4,
   "id": "33fcb207",
   "metadata": {},
   "outputs": [],
   "source": [
    "data = df.drop('Liking',axis=1)\n",
    "target = df['Liking']"
   ]
  },
  {
   "cell_type": "code",
   "execution_count": 5,
   "id": "e9ce1de2",
   "metadata": {},
   "outputs": [
    {
     "data": {
      "text/plain": [
       "1.0    2665\n",
       "0.0     615\n",
       "Name: Liking, dtype: int64"
      ]
     },
     "execution_count": 5,
     "metadata": {},
     "output_type": "execute_result"
    }
   ],
   "source": [
    "df.Liking.value_counts()"
   ]
  },
  {
   "cell_type": "markdown",
   "id": "9ec25d88",
   "metadata": {},
   "source": [
    "## UnderSampling"
   ]
  },
  {
   "cell_type": "code",
   "execution_count": 6,
   "id": "21d0759f",
   "metadata": {},
   "outputs": [],
   "source": [
    "# Divide by class\n",
    "df_class_0 = df[df['Liking'] == 0]\n",
    "df_class_1 = df[df['Liking'] == 1]"
   ]
  },
  {
   "cell_type": "code",
   "execution_count": 7,
   "id": "e2e9bebe",
   "metadata": {},
   "outputs": [
    {
     "name": "stdout",
     "output_type": "stream",
     "text": [
      "Random under-sampling:\n",
      "0.0    615\n",
      "1.0    615\n",
      "Name: Liking, dtype: int64\n"
     ]
    }
   ],
   "source": [
    "# Undersample 0-class and concat the DataFrames of both class\n",
    "df_class_1_under = df_class_1.sample(len(df_class_0))\n",
    "df_test_under = pd.concat([df_class_1_under, df_class_0], axis=0)\n",
    "print('Random under-sampling:')\n",
    "print(df_test_under.Liking.value_counts())"
   ]
  },
  {
   "cell_type": "code",
   "execution_count": 8,
   "id": "85fdaca4",
   "metadata": {},
   "outputs": [],
   "source": [
    "X = df_test_under.drop('Liking',axis = 1)\n",
    "y = df_test_under['Liking']"
   ]
  },
  {
   "cell_type": "code",
   "execution_count": 9,
   "id": "a12149b8",
   "metadata": {},
   "outputs": [],
   "source": [
    "X_train, X_test, y_train, y_test = train_test_split(X, y, test_size=0.3,stratify=y)"
   ]
  },
  {
   "cell_type": "code",
   "execution_count": 10,
   "id": "aed1c9da",
   "metadata": {},
   "outputs": [
    {
     "data": {
      "text/plain": [
       "SVC()"
      ]
     },
     "execution_count": 10,
     "metadata": {},
     "output_type": "execute_result"
    }
   ],
   "source": [
    "model = SVC()\n",
    "model.fit(X_train,y_train)"
   ]
  },
  {
   "cell_type": "code",
   "execution_count": 11,
   "id": "0286492b",
   "metadata": {
    "scrolled": true
   },
   "outputs": [
    {
     "data": {
      "text/plain": [
       "1.0"
      ]
     },
     "execution_count": 11,
     "metadata": {},
     "output_type": "execute_result"
    }
   ],
   "source": [
    "model.score(X_test,y_test)"
   ]
  },
  {
   "cell_type": "code",
   "execution_count": 12,
   "id": "2c1e62b8",
   "metadata": {
    "scrolled": false
   },
   "outputs": [
    {
     "data": {
      "text/plain": [
       "<AxesSubplot:>"
      ]
     },
     "execution_count": 12,
     "metadata": {},
     "output_type": "execute_result"
    },
    {
     "data": {
      "image/png": "[encoded data removed]",
      "text/plain": [
       "<Figure size 432x288 with 2 Axes>"
      ]
     },
     "metadata": {
      "needs_background": "light"
     },
     "output_type": "display_data"
    }
   ],
   "source": [
    "y_pred = model.predict(X_test)\n",
    "sns.heatmap(confusion_matrix(y_test,y_pred),annot=True)"
   ]
  },
  {
   "cell_type": "code",
   "execution_count": 13,
   "id": "f536bd8b",
   "metadata": {
    "scrolled": true
   },
   "outputs": [
    {
     "name": "stdout",
     "output_type": "stream",
     "text": [
      "              precision    recall  f1-score   support\n",
      "\n",
      "         0.0       1.00      1.00      1.00       184\n",
      "         1.0       1.00      1.00      1.00       185\n",
      "\n",
      "    accuracy                           1.00       369\n",
      "   macro avg       1.00      1.00      1.00       369\n",
      "weighted avg       1.00      1.00      1.00       369\n",
      "\n"
     ]
    }
   ],
   "source": [
    "print(classification_report(y_test,y_pred))"
   ]
  },
  {
   "cell_type": "markdown",
   "id": "c18b9ed4",
   "metadata": {},
   "source": [
    "## Over Sampling"
   ]
  },
  {
   "cell_type": "code",
   "execution_count": 14,
   "id": "21ee278b",
   "metadata": {},
   "outputs": [
    {
     "name": "stdout",
     "output_type": "stream",
     "text": [
      "Random over-sampling:\n",
      "0.0    2665\n",
      "1.0    2665\n",
      "Name: Liking, dtype: int64\n"
     ]
    }
   ],
   "source": [
    "df_class_0_over = df_class_0.sample(len(df_class_1), replace=True)\n",
    "df_test_over = pd.concat([df_class_1, df_class_0_over], axis=0)\n",
    "print('Random over-sampling:')\n",
    "print(df_test_over.Liking.value_counts())"
   ]
  },
  {
   "cell_type": "code",
   "execution_count": 15,
   "id": "6bb19840",
   "metadata": {},
   "outputs": [
    {
     "data": {
      "text/html": [
       "<div>\n",
       "<style scoped>\n",
       "    .dataframe tbody tr th:only-of-type {\n",
       "        vertical-align: middle;\n",
       "    }\n",
       "\n",
       "    .dataframe tbody tr th {\n",
       "        vertical-align: top;\n",
       "    }\n",
       "\n",
       "    .dataframe thead th {\n",
       "        text-align: right;\n",
       "    }\n",
       "</style>\n",
       "<table border=\"1\" class=\"dataframe\">\n",
       "  <thead>\n",
       "    <tr style=\"text-align: right;\">\n",
       "      <th></th>\n",
       "      <th>submarket_name</th>\n",
       "      <th>building_class</th>\n",
       "      <th>year</th>\n",
       "      <th>period</th>\n",
       "      <th>completions</th>\n",
       "      <th>vac_pct</th>\n",
       "      <th>vacancy_chg_bps</th>\n",
       "      <th>asking_rent_pct_chg</th>\n",
       "      <th>abs_per_occ_stk_pct</th>\n",
       "      <th>construction_per_absorption</th>\n",
       "      <th>...</th>\n",
       "      <th>male_male_households</th>\n",
       "      <th>percent_income_spent_on_rent</th>\n",
       "      <th>million_dollar_housing_units</th>\n",
       "      <th>different_house_year_ago_same_city</th>\n",
       "      <th>two_parents_mother_in_labor_force_families_with_young_children</th>\n",
       "      <th>two_parents_not_in_labor_force_families_with_young_children</th>\n",
       "      <th>commuters_by_subway_or_elevated</th>\n",
       "      <th>male_45_64_less_than_9_grade</th>\n",
       "      <th>armed_forces</th>\n",
       "      <th>Liking</th>\n",
       "    </tr>\n",
       "  </thead>\n",
       "  <tbody>\n",
       "    <tr>\n",
       "      <th>615</th>\n",
       "      <td>4</td>\n",
       "      <td>2</td>\n",
       "      <td>0.803922</td>\n",
       "      <td>0</td>\n",
       "      <td>0.000000</td>\n",
       "      <td>0.264045</td>\n",
       "      <td>0.537313</td>\n",
       "      <td>0.110266</td>\n",
       "      <td>0.146766</td>\n",
       "      <td>0.526171</td>\n",
       "      <td>...</td>\n",
       "      <td>0.116041</td>\n",
       "      <td>0.553763</td>\n",
       "      <td>0.0</td>\n",
       "      <td>0.70834</td>\n",
       "      <td>0.0</td>\n",
       "      <td>0.0</td>\n",
       "      <td>1.0</td>\n",
       "      <td>0.046641</td>\n",
       "      <td>0.0</td>\n",
       "      <td>1.0</td>\n",
       "    </tr>\n",
       "    <tr>\n",
       "      <th>616</th>\n",
       "      <td>4</td>\n",
       "      <td>1</td>\n",
       "      <td>0.215686</td>\n",
       "      <td>0</td>\n",
       "      <td>0.000000</td>\n",
       "      <td>0.376404</td>\n",
       "      <td>0.537313</td>\n",
       "      <td>0.482890</td>\n",
       "      <td>0.191542</td>\n",
       "      <td>0.526832</td>\n",
       "      <td>...</td>\n",
       "      <td>0.116041</td>\n",
       "      <td>0.553763</td>\n",
       "      <td>0.0</td>\n",
       "      <td>0.70834</td>\n",
       "      <td>0.0</td>\n",
       "      <td>0.0</td>\n",
       "      <td>1.0</td>\n",
       "      <td>0.046641</td>\n",
       "      <td>0.0</td>\n",
       "      <td>1.0</td>\n",
       "    </tr>\n",
       "    <tr>\n",
       "      <th>617</th>\n",
       "      <td>4</td>\n",
       "      <td>1</td>\n",
       "      <td>0.235294</td>\n",
       "      <td>0</td>\n",
       "      <td>0.018072</td>\n",
       "      <td>0.382022</td>\n",
       "      <td>0.567164</td>\n",
       "      <td>0.555133</td>\n",
       "      <td>0.213930</td>\n",
       "      <td>0.527383</td>\n",
       "      <td>...</td>\n",
       "      <td>0.116041</td>\n",
       "      <td>0.553763</td>\n",
       "      <td>0.0</td>\n",
       "      <td>0.70834</td>\n",
       "      <td>0.0</td>\n",
       "      <td>0.0</td>\n",
       "      <td>1.0</td>\n",
       "      <td>0.046641</td>\n",
       "      <td>0.0</td>\n",
       "      <td>1.0</td>\n",
       "    </tr>\n",
       "    <tr>\n",
       "      <th>618</th>\n",
       "      <td>4</td>\n",
       "      <td>1</td>\n",
       "      <td>0.254902</td>\n",
       "      <td>0</td>\n",
       "      <td>0.014977</td>\n",
       "      <td>0.325843</td>\n",
       "      <td>0.485075</td>\n",
       "      <td>0.460076</td>\n",
       "      <td>0.231343</td>\n",
       "      <td>0.526942</td>\n",
       "      <td>...</td>\n",
       "      <td>0.116041</td>\n",
       "      <td>0.553763</td>\n",
       "      <td>0.0</td>\n",
       "      <td>0.70834</td>\n",
       "      <td>0.0</td>\n",
       "      <td>0.0</td>\n",
       "      <td>1.0</td>\n",
       "      <td>0.046641</td>\n",
       "      <td>0.0</td>\n",
       "      <td>1.0</td>\n",
       "    </tr>\n",
       "    <tr>\n",
       "      <th>619</th>\n",
       "      <td>4</td>\n",
       "      <td>1</td>\n",
       "      <td>0.274510</td>\n",
       "      <td>0</td>\n",
       "      <td>0.000000</td>\n",
       "      <td>0.275281</td>\n",
       "      <td>0.492537</td>\n",
       "      <td>0.513308</td>\n",
       "      <td>0.174129</td>\n",
       "      <td>0.526171</td>\n",
       "      <td>...</td>\n",
       "      <td>0.116041</td>\n",
       "      <td>0.553763</td>\n",
       "      <td>0.0</td>\n",
       "      <td>0.70834</td>\n",
       "      <td>0.0</td>\n",
       "      <td>0.0</td>\n",
       "      <td>1.0</td>\n",
       "      <td>0.046641</td>\n",
       "      <td>0.0</td>\n",
       "      <td>1.0</td>\n",
       "    </tr>\n",
       "  </tbody>\n",
       "</table>\n",
       "<p>5 rows × 43 columns</p>\n",
       "</div>"
      ],
      "text/plain": [
       "     submarket_name  building_class      year  period  completions   vac_pct  \\\n",
       "615               4               2  0.803922       0     0.000000  0.264045   \n",
       "616               4               1  0.215686       0     0.000000  0.376404   \n",
       "617               4               1  0.235294       0     0.018072  0.382022   \n",
       "618               4               1  0.254902       0     0.014977  0.325843   \n",
       "619               4               1  0.274510       0     0.000000  0.275281   \n",
       "\n",
       "     vacancy_chg_bps  asking_rent_pct_chg  abs_per_occ_stk_pct  \\\n",
       "615         0.537313             0.110266             0.146766   \n",
       "616         0.537313             0.482890             0.191542   \n",
       "617         0.567164             0.555133             0.213930   \n",
       "618         0.485075             0.460076             0.231343   \n",
       "619         0.492537             0.513308             0.174129   \n",
       "\n",
       "     construction_per_absorption  ...  male_male_households  \\\n",
       "615                     0.526171  ...              0.116041   \n",
       "616                     0.526832  ...              0.116041   \n",
       "617                     0.527383  ...              0.116041   \n",
       "618                     0.526942  ...              0.116041   \n",
       "619                     0.526171  ...              0.116041   \n",
       "\n",
       "     percent_income_spent_on_rent  million_dollar_housing_units  \\\n",
       "615                      0.553763                           0.0   \n",
       "616                      0.553763                           0.0   \n",
       "617                      0.553763                           0.0   \n",
       "618                      0.553763                           0.0   \n",
       "619                      0.553763                           0.0   \n",
       "\n",
       "     different_house_year_ago_same_city  \\\n",
       "615                             0.70834   \n",
       "616                             0.70834   \n",
       "617                             0.70834   \n",
       "618                             0.70834   \n",
       "619                             0.70834   \n",
       "\n",
       "     two_parents_mother_in_labor_force_families_with_young_children  \\\n",
       "615                                                0.0                \n",
       "616                                                0.0                \n",
       "617                                                0.0                \n",
       "618                                                0.0                \n",
       "619                                                0.0                \n",
       "\n",
       "     two_parents_not_in_labor_force_families_with_young_children  \\\n",
       "615                                                0.0             \n",
       "616                                                0.0             \n",
       "617                                                0.0             \n",
       "618                                                0.0             \n",
       "619                                                0.0             \n",
       "\n",
       "     commuters_by_subway_or_elevated  male_45_64_less_than_9_grade  \\\n",
       "615                              1.0                      0.046641   \n",
       "616                              1.0                      0.046641   \n",
       "617                              1.0                      0.046641   \n",
       "618                              1.0                      0.046641   \n",
       "619                              1.0                      0.046641   \n",
       "\n",
       "     armed_forces  Liking  \n",
       "615           0.0     1.0  \n",
       "616           0.0     1.0  \n",
       "617           0.0     1.0  \n",
       "618           0.0     1.0  \n",
       "619           0.0     1.0  \n",
       "\n",
       "[5 rows x 43 columns]"
      ]
     },
     "execution_count": 15,
     "metadata": {},
     "output_type": "execute_result"
    }
   ],
   "source": [
    "df_test_over.head()"
   ]
  },
  {
   "cell_type": "code",
   "execution_count": 16,
   "id": "c435a2ad",
   "metadata": {},
   "outputs": [],
   "source": [
    "X = df_test_over.drop(\"Liking\",axis=1)\n",
    "y = df_test_over['Liking']"
   ]
  },
  {
   "cell_type": "code",
   "execution_count": 17,
   "id": "ed510245",
   "metadata": {},
   "outputs": [],
   "source": [
    "X_train, X_test, y_train, y_test = train_test_split(X, y, test_size=0.3,stratify=y)"
   ]
  },
  {
   "cell_type": "code",
   "execution_count": 18,
   "id": "d1b38fd7",
   "metadata": {},
   "outputs": [
    {
     "data": {
      "text/plain": [
       "SVC()"
      ]
     },
     "execution_count": 18,
     "metadata": {},
     "output_type": "execute_result"
    }
   ],
   "source": [
    "model = SVC()\n",
    "model.fit(X_train,y_train)"
   ]
  },
  {
   "cell_type": "code",
   "execution_count": 19,
   "id": "d0ab4db9",
   "metadata": {
    "scrolled": true
   },
   "outputs": [
    {
     "data": {
      "text/plain": [
       "1.0"
      ]
     },
     "execution_count": 19,
     "metadata": {},
     "output_type": "execute_result"
    }
   ],
   "source": [
    "model.score(X_test,y_test)"
   ]
  },
  {
   "cell_type": "code",
   "execution_count": 20,
   "id": "1d3ef4ba",
   "metadata": {
    "scrolled": true
   },
   "outputs": [
    {
     "data": {
      "text/plain": [
       "<AxesSubplot:>"
      ]
     },
     "execution_count": 20,
     "metadata": {},
     "output_type": "execute_result"
    },
    {
     "data": {
      "image/png": "[encoded data removed]",
      "text/plain": [
       "<Figure size 432x288 with 2 Axes>"
      ]
     },
     "metadata": {
      "needs_background": "light"
     },
     "output_type": "display_data"
    }
   ],
   "source": [
    "y_pred = model.predict(X_test)\n",
    "sns.heatmap(confusion_matrix(y_test,y_pred),annot=True)"
   ]
  },
  {
   "cell_type": "code",
   "execution_count": 21,
   "id": "a4c7a916",
   "metadata": {
    "scrolled": false
   },
   "outputs": [
    {
     "name": "stdout",
     "output_type": "stream",
     "text": [
      "              precision    recall  f1-score   support\n",
      "\n",
      "         0.0       1.00      1.00      1.00       800\n",
      "         1.0       1.00      1.00      1.00       799\n",
      "\n",
      "    accuracy                           1.00      1599\n",
      "   macro avg       1.00      1.00      1.00      1599\n",
      "weighted avg       1.00      1.00      1.00      1599\n",
      "\n"
     ]
    }
   ],
   "source": [
    "print(classification_report(y_test,y_pred))"
   ]
  },
  {
   "cell_type": "markdown",
   "id": "fd712b8b",
   "metadata": {},
   "source": [
    "## Ensambel undersampling"
   ]
  },
  {
   "cell_type": "code",
   "execution_count": 22,
   "id": "d1de8343",
   "metadata": {},
   "outputs": [
    {
     "data": {
      "text/plain": [
       "(2665, 615, 4.333333333333333)"
      ]
     },
     "execution_count": 22,
     "metadata": {},
     "output_type": "execute_result"
    }
   ],
   "source": [
    "len(df_class_1),len(df_class_0) ,len(df_class_1)/len(df_class_0)"
   ]
  },
  {
   "cell_type": "code",
   "execution_count": 23,
   "id": "330f3f8a",
   "metadata": {},
   "outputs": [],
   "source": [
    "len_cls_0 = len(df_class_0)\n",
    "df_1 = pd.concat([df_class_1[:len_cls_0],df_class_0])\n",
    "df_2 = pd.concat([df_class_1[len_cls_0:2*len_cls_0],df_class_0])\n",
    "df_3 = pd.concat([df_class_1[2*len_cls_0:3*len_cls_0],df_class_0])\n",
    "df_4 = pd.concat([df_class_1[3*len_cls_0:4*len_cls_0],df_class_0])\n",
    "df_5 = pd.concat([df_class_1[4*len_cls_0:5*len_cls_0],df_class_0])"
   ]
  },
  {
   "cell_type": "code",
   "execution_count": 24,
   "id": "899304f7",
   "metadata": {},
   "outputs": [
    {
     "name": "stdout",
     "output_type": "stream",
     "text": [
      "1.0\n"
     ]
    },
    {
     "data": {
      "text/plain": [
       "SVC()"
      ]
     },
     "execution_count": 24,
     "metadata": {},
     "output_type": "execute_result"
    }
   ],
   "source": [
    "X = df_1.drop(\"Liking\",axis=1)\n",
    "y = df_1['Liking']\n",
    "X_train, X_test, y_train, y_test = train_test_split(X, y, test_size=0.2,stratify=y)\n",
    "model_1 = SVC()\n",
    "model_1.fit(X_train,y_train)\n",
    "print(model_1.score(X_test,y_test))\n",
    "model_1.fit(X,y)"
   ]
  },
  {
   "cell_type": "code",
   "execution_count": 25,
   "id": "a3302a31",
   "metadata": {
    "scrolled": true
   },
   "outputs": [
    {
     "name": "stdout",
     "output_type": "stream",
     "text": [
      "1.0\n"
     ]
    },
    {
     "data": {
      "text/plain": [
       "SVC()"
      ]
     },
     "execution_count": 25,
     "metadata": {},
     "output_type": "execute_result"
    }
   ],
   "source": [
    "X = df_2.drop(\"Liking\",axis=1)\n",
    "y = df_2['Liking']\n",
    "X_train, X_test, y_train, y_test = train_test_split(X, y, test_size=0.2,stratify=y)\n",
    "model_2 = SVC()\n",
    "model_2.fit(X_train,y_train)\n",
    "print(model_2.score(X_test,y_test))\n",
    "model_2.fit(X,y)"
   ]
  },
  {
   "cell_type": "code",
   "execution_count": 26,
   "id": "eab05076",
   "metadata": {
    "scrolled": false
   },
   "outputs": [
    {
     "name": "stdout",
     "output_type": "stream",
     "text": [
      "1.0\n"
     ]
    },
    {
     "data": {
      "text/plain": [
       "SVC()"
      ]
     },
     "execution_count": 26,
     "metadata": {},
     "output_type": "execute_result"
    }
   ],
   "source": [
    "X = df_3.drop(\"Liking\",axis=1)\n",
    "y = df_3['Liking']\n",
    "X_train, X_test, y_train, y_test = train_test_split(X, y, test_size=0.2,stratify=y)\n",
    "model_3 = SVC()\n",
    "model_3.fit(X_train,y_train)\n",
    "print(model_3.score(X_test,y_test))\n",
    "model_3.fit(X,y)"
   ]
  },
  {
   "cell_type": "code",
   "execution_count": 27,
   "id": "4d25a3a8",
   "metadata": {
    "scrolled": true
   },
   "outputs": [
    {
     "name": "stdout",
     "output_type": "stream",
     "text": [
      "1.0\n"
     ]
    },
    {
     "data": {
      "text/plain": [
       "SVC()"
      ]
     },
     "execution_count": 27,
     "metadata": {},
     "output_type": "execute_result"
    }
   ],
   "source": [
    "X = df_4.drop(\"Liking\",axis=1)\n",
    "y = df_4['Liking']\n",
    "X_train, X_test, y_train, y_test = train_test_split(X, y, test_size=0.2,stratify=y)\n",
    "model_4 = SVC()\n",
    "model_4.fit(X_train,y_train)\n",
    "print(model_4.score(X_test,y_test))\n",
    "model_4.fit(X,y)"
   ]
  },
  {
   "cell_type": "code",
   "execution_count": 28,
   "id": "7ae5283e",
   "metadata": {},
   "outputs": [
    {
     "name": "stdout",
     "output_type": "stream",
     "text": [
      "1.0\n"
     ]
    },
    {
     "data": {
      "text/plain": [
       "SVC()"
      ]
     },
     "execution_count": 28,
     "metadata": {},
     "output_type": "execute_result"
    }
   ],
   "source": [
    "X = df_5.drop(\"Liking\",axis=1)\n",
    "y = df_5['Liking']\n",
    "X_train, X_test, y_train, y_test = train_test_split(X, y, test_size=0.2,stratify=y)\n",
    "model_5 = SVC()\n",
    "model_5.fit(X_train,y_train)\n",
    "print(model_5.score(X_test,y_test))\n",
    "model_5.fit(X,y)"
   ]
  },
  {
   "cell_type": "code",
   "execution_count": 29,
   "id": "8eba1478",
   "metadata": {},
   "outputs": [],
   "source": [
    "def pred(x):\n",
    "    y_pred = model_1.predict(x)+model_2.predict(x)+model_3.predict(x)+model_4.predict(x)+model_5.predict(x)\n",
    "    return [1 if i>2 else 0 for i in y_pred]"
   ]
  },
  {
   "cell_type": "code",
   "execution_count": 30,
   "id": "d5dcf689",
   "metadata": {},
   "outputs": [
    {
     "data": {
      "text/plain": [
       "<AxesSubplot:>"
      ]
     },
     "execution_count": 30,
     "metadata": {},
     "output_type": "execute_result"
    },
    {
     "data": {
      "image/png": "[encoded data removed]",
      "text/plain": [
       "<Figure size 432x288 with 2 Axes>"
      ]
     },
     "metadata": {
      "needs_background": "light"
     },
     "output_type": "display_data"
    }
   ],
   "source": [
    "y_pred = pred(data)\n",
    "sns.heatmap(confusion_matrix(target,y_pred),annot=True)"
   ]
  },
  {
   "cell_type": "code",
   "execution_count": 31,
   "id": "40370efc",
   "metadata": {
    "scrolled": true
   },
   "outputs": [
    {
     "name": "stdout",
     "output_type": "stream",
     "text": [
      "              precision    recall  f1-score   support\n",
      "\n",
      "         0.0       1.00      1.00      1.00       615\n",
      "         1.0       1.00      1.00      1.00      2665\n",
      "\n",
      "    accuracy                           1.00      3280\n",
      "   macro avg       1.00      1.00      1.00      3280\n",
      "weighted avg       1.00      1.00      1.00      3280\n",
      "\n"
     ]
    }
   ],
   "source": [
    "print(classification_report(target,y_pred))"
   ]
  },
  {
   "cell_type": "markdown",
   "id": "803eaaec",
   "metadata": {},
   "source": [
    "## SMOTE"
   ]
  },
  {
   "cell_type": "code",
   "execution_count": 32,
   "id": "08260cfe",
   "metadata": {},
   "outputs": [],
   "source": [
    "from imblearn.over_sampling import SMOTE"
   ]
  },
  {
   "cell_type": "code",
   "execution_count": 33,
   "id": "132f5b95",
   "metadata": {
    "scrolled": true
   },
   "outputs": [
    {
     "data": {
      "text/plain": [
       "0.0    2665\n",
       "1.0    2665\n",
       "Name: Liking, dtype: int64"
      ]
     },
     "execution_count": 33,
     "metadata": {},
     "output_type": "execute_result"
    }
   ],
   "source": [
    "smote = SMOTE(sampling_strategy='minority')\n",
    "X_sm, y_sm = smote.fit_resample(data,target)\n",
    "y_sm.value_counts()"
   ]
  },
  {
   "cell_type": "code",
   "execution_count": 34,
   "id": "28f62ef6",
   "metadata": {},
   "outputs": [],
   "source": [
    "X_train, X_test, y_train, y_test = train_test_split(X_sm, y_sm, test_size=0.3,stratify=y_sm)"
   ]
  },
  {
   "cell_type": "code",
   "execution_count": 35,
   "id": "5e9ca300",
   "metadata": {},
   "outputs": [
    {
     "data": {
      "text/html": [
       "<div>\n",
       "<style scoped>\n",
       "    .dataframe tbody tr th:only-of-type {\n",
       "        vertical-align: middle;\n",
       "    }\n",
       "\n",
       "    .dataframe tbody tr th {\n",
       "        vertical-align: top;\n",
       "    }\n",
       "\n",
       "    .dataframe thead th {\n",
       "        text-align: right;\n",
       "    }\n",
       "</style>\n",
       "<table border=\"1\" class=\"dataframe\">\n",
       "  <thead>\n",
       "    <tr style=\"text-align: right;\">\n",
       "      <th></th>\n",
       "      <th>submarket_name</th>\n",
       "      <th>building_class</th>\n",
       "      <th>year</th>\n",
       "      <th>period</th>\n",
       "      <th>completions</th>\n",
       "      <th>vac_pct</th>\n",
       "      <th>vacancy_chg_bps</th>\n",
       "      <th>asking_rent_pct_chg</th>\n",
       "      <th>abs_per_occ_stk_pct</th>\n",
       "      <th>construction_per_absorption</th>\n",
       "      <th>...</th>\n",
       "      <th>median_year_structure_built</th>\n",
       "      <th>male_male_households</th>\n",
       "      <th>percent_income_spent_on_rent</th>\n",
       "      <th>million_dollar_housing_units</th>\n",
       "      <th>different_house_year_ago_same_city</th>\n",
       "      <th>two_parents_mother_in_labor_force_families_with_young_children</th>\n",
       "      <th>two_parents_not_in_labor_force_families_with_young_children</th>\n",
       "      <th>commuters_by_subway_or_elevated</th>\n",
       "      <th>male_45_64_less_than_9_grade</th>\n",
       "      <th>armed_forces</th>\n",
       "    </tr>\n",
       "  </thead>\n",
       "  <tbody>\n",
       "    <tr>\n",
       "      <th>1251</th>\n",
       "      <td>1</td>\n",
       "      <td>1</td>\n",
       "      <td>0.627451</td>\n",
       "      <td>0</td>\n",
       "      <td>0.000000</td>\n",
       "      <td>0.269663</td>\n",
       "      <td>0.432836</td>\n",
       "      <td>0.437262</td>\n",
       "      <td>0.194030</td>\n",
       "      <td>0.526171</td>\n",
       "      <td>...</td>\n",
       "      <td>0.589744</td>\n",
       "      <td>0.061433</td>\n",
       "      <td>0.451613</td>\n",
       "      <td>1.000000</td>\n",
       "      <td>0.234147</td>\n",
       "      <td>0.461538</td>\n",
       "      <td>0.125683</td>\n",
       "      <td>0.000000</td>\n",
       "      <td>0.046641</td>\n",
       "      <td>0.0</td>\n",
       "    </tr>\n",
       "    <tr>\n",
       "      <th>1547</th>\n",
       "      <td>4</td>\n",
       "      <td>1</td>\n",
       "      <td>0.352941</td>\n",
       "      <td>0</td>\n",
       "      <td>0.148946</td>\n",
       "      <td>0.230337</td>\n",
       "      <td>0.477612</td>\n",
       "      <td>0.585551</td>\n",
       "      <td>0.201493</td>\n",
       "      <td>0.526722</td>\n",
       "      <td>...</td>\n",
       "      <td>0.282051</td>\n",
       "      <td>1.000000</td>\n",
       "      <td>0.467742</td>\n",
       "      <td>0.050895</td>\n",
       "      <td>0.452728</td>\n",
       "      <td>0.000000</td>\n",
       "      <td>0.000000</td>\n",
       "      <td>0.387097</td>\n",
       "      <td>0.056080</td>\n",
       "      <td>0.0</td>\n",
       "    </tr>\n",
       "    <tr>\n",
       "      <th>698</th>\n",
       "      <td>4</td>\n",
       "      <td>2</td>\n",
       "      <td>0.607843</td>\n",
       "      <td>0</td>\n",
       "      <td>0.000000</td>\n",
       "      <td>0.342697</td>\n",
       "      <td>0.537313</td>\n",
       "      <td>0.353612</td>\n",
       "      <td>0.191542</td>\n",
       "      <td>0.526171</td>\n",
       "      <td>...</td>\n",
       "      <td>0.076923</td>\n",
       "      <td>0.116041</td>\n",
       "      <td>0.553763</td>\n",
       "      <td>0.000000</td>\n",
       "      <td>0.708340</td>\n",
       "      <td>0.000000</td>\n",
       "      <td>0.000000</td>\n",
       "      <td>1.000000</td>\n",
       "      <td>0.046641</td>\n",
       "      <td>0.0</td>\n",
       "    </tr>\n",
       "    <tr>\n",
       "      <th>2982</th>\n",
       "      <td>4</td>\n",
       "      <td>1</td>\n",
       "      <td>0.352941</td>\n",
       "      <td>0</td>\n",
       "      <td>0.148946</td>\n",
       "      <td>0.230337</td>\n",
       "      <td>0.477612</td>\n",
       "      <td>0.585551</td>\n",
       "      <td>0.201493</td>\n",
       "      <td>0.526722</td>\n",
       "      <td>...</td>\n",
       "      <td>0.564103</td>\n",
       "      <td>0.051195</td>\n",
       "      <td>0.650538</td>\n",
       "      <td>0.000000</td>\n",
       "      <td>0.013600</td>\n",
       "      <td>0.000000</td>\n",
       "      <td>0.000000</td>\n",
       "      <td>0.000000</td>\n",
       "      <td>0.000000</td>\n",
       "      <td>0.0</td>\n",
       "    </tr>\n",
       "    <tr>\n",
       "      <th>403</th>\n",
       "      <td>4</td>\n",
       "      <td>2</td>\n",
       "      <td>0.686275</td>\n",
       "      <td>0</td>\n",
       "      <td>0.006932</td>\n",
       "      <td>0.252809</td>\n",
       "      <td>0.537313</td>\n",
       "      <td>0.509506</td>\n",
       "      <td>0.179104</td>\n",
       "      <td>0.526281</td>\n",
       "      <td>...</td>\n",
       "      <td>0.564103</td>\n",
       "      <td>0.201365</td>\n",
       "      <td>0.838710</td>\n",
       "      <td>0.000000</td>\n",
       "      <td>0.053416</td>\n",
       "      <td>0.714286</td>\n",
       "      <td>0.928962</td>\n",
       "      <td>0.000000</td>\n",
       "      <td>0.734592</td>\n",
       "      <td>0.0</td>\n",
       "    </tr>\n",
       "  </tbody>\n",
       "</table>\n",
       "<p>5 rows × 42 columns</p>\n",
       "</div>"
      ],
      "text/plain": [
       "      submarket_name  building_class      year  period  completions   vac_pct  \\\n",
       "1251               1               1  0.627451       0     0.000000  0.269663   \n",
       "1547               4               1  0.352941       0     0.148946  0.230337   \n",
       "698                4               2  0.607843       0     0.000000  0.342697   \n",
       "2982               4               1  0.352941       0     0.148946  0.230337   \n",
       "403                4               2  0.686275       0     0.006932  0.252809   \n",
       "\n",
       "      vacancy_chg_bps  asking_rent_pct_chg  abs_per_occ_stk_pct  \\\n",
       "1251         0.432836             0.437262             0.194030   \n",
       "1547         0.477612             0.585551             0.201493   \n",
       "698          0.537313             0.353612             0.191542   \n",
       "2982         0.477612             0.585551             0.201493   \n",
       "403          0.537313             0.509506             0.179104   \n",
       "\n",
       "      construction_per_absorption  ...  median_year_structure_built  \\\n",
       "1251                     0.526171  ...                     0.589744   \n",
       "1547                     0.526722  ...                     0.282051   \n",
       "698                      0.526171  ...                     0.076923   \n",
       "2982                     0.526722  ...                     0.564103   \n",
       "403                      0.526281  ...                     0.564103   \n",
       "\n",
       "      male_male_households  percent_income_spent_on_rent  \\\n",
       "1251              0.061433                      0.451613   \n",
       "1547              1.000000                      0.467742   \n",
       "698               0.116041                      0.553763   \n",
       "2982              0.051195                      0.650538   \n",
       "403               0.201365                      0.838710   \n",
       "\n",
       "      million_dollar_housing_units  different_house_year_ago_same_city  \\\n",
       "1251                      1.000000                            0.234147   \n",
       "1547                      0.050895                            0.452728   \n",
       "698                       0.000000                            0.708340   \n",
       "2982                      0.000000                            0.013600   \n",
       "403                       0.000000                            0.053416   \n",
       "\n",
       "      two_parents_mother_in_labor_force_families_with_young_children  \\\n",
       "1251                                           0.461538                \n",
       "1547                                           0.000000                \n",
       "698                                            0.000000                \n",
       "2982                                           0.000000                \n",
       "403                                            0.714286                \n",
       "\n",
       "      two_parents_not_in_labor_force_families_with_young_children  \\\n",
       "1251                                           0.125683             \n",
       "1547                                           0.000000             \n",
       "698                                            0.000000             \n",
       "2982                                           0.000000             \n",
       "403                                            0.928962             \n",
       "\n",
       "      commuters_by_subway_or_elevated  male_45_64_less_than_9_grade  \\\n",
       "1251                         0.000000                      0.046641   \n",
       "1547                         0.387097                      0.056080   \n",
       "698                          1.000000                      0.046641   \n",
       "2982                         0.000000                      0.000000   \n",
       "403                          0.000000                      0.734592   \n",
       "\n",
       "      armed_forces  \n",
       "1251           0.0  \n",
       "1547           0.0  \n",
       "698            0.0  \n",
       "2982           0.0  \n",
       "403            0.0  \n",
       "\n",
       "[5 rows x 42 columns]"
      ]
     },
     "execution_count": 35,
     "metadata": {},
     "output_type": "execute_result"
    }
   ],
   "source": [
    "X_train.head()"
   ]
  },
  {
   "cell_type": "code",
   "execution_count": 36,
   "id": "5d2e1723",
   "metadata": {},
   "outputs": [
    {
     "data": {
      "text/plain": [
       "SVC()"
      ]
     },
     "execution_count": 36,
     "metadata": {},
     "output_type": "execute_result"
    }
   ],
   "source": [
    "model = SVC()\n",
    "model.fit(X_train,y_train)"
   ]
  },
  {
   "cell_type": "code",
   "execution_count": 37,
   "id": "9955a450",
   "metadata": {
    "scrolled": true
   },
   "outputs": [
    {
     "data": {
      "text/plain": [
       "1.0"
      ]
     },
     "execution_count": 37,
     "metadata": {},
     "output_type": "execute_result"
    }
   ],
   "source": [
    "model.score(X_test,y_test)"
   ]
  },
  {
   "cell_type": "code",
   "execution_count": 38,
   "id": "6c5265be",
   "metadata": {
    "scrolled": true
   },
   "outputs": [
    {
     "data": {
      "text/plain": [
       "<AxesSubplot:>"
      ]
     },
     "execution_count": 38,
     "metadata": {},
     "output_type": "execute_result"
    },
    {
     "data": {
      "image/png": "[encoded data removed]",
      "text/plain": [
       "<Figure size 432x288 with 2 Axes>"
      ]
     },
     "metadata": {
      "needs_background": "light"
     },
     "output_type": "display_data"
    }
   ],
   "source": [
    "y_pred = model.predict(X_test)\n",
    "sns.heatmap(confusion_matrix(y_test,y_pred),annot=True)"
   ]
  },
  {
   "cell_type": "code",
   "execution_count": 39,
   "id": "74e3ff69",
   "metadata": {
    "scrolled": false
   },
   "outputs": [
    {
     "name": "stdout",
     "output_type": "stream",
     "text": [
      "              precision    recall  f1-score   support\n",
      "\n",
      "         0.0       1.00      1.00      1.00       799\n",
      "         1.0       1.00      1.00      1.00       800\n",
      "\n",
      "    accuracy                           1.00      1599\n",
      "   macro avg       1.00      1.00      1.00      1599\n",
      "weighted avg       1.00      1.00      1.00      1599\n",
      "\n"
     ]
    }
   ],
   "source": [
    "print(classification_report(y_test,y_pred))"
   ]
  }
 ],
 "metadata": {
  "kernelspec": {
   "display_name": "Python 3",
   "language": "python",
   "name": "python3"
  },
  "language_info": {
   "codemirror_mode": {
    "name": "ipython",
    "version": 3
   },
   "file_extension": ".py",
   "mimetype": "text/x-python",
   "name": "python",
   "nbconvert_exporter": "python",
   "pygments_lexer": "ipython3",
   "version": "3.9.5"
  }
 },
 "nbformat": 4,
 "nbformat_minor": 5
}
