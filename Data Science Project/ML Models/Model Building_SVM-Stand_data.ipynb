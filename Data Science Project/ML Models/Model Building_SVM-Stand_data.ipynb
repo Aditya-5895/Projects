{
 "cells": [
  {
   "cell_type": "code",
   "execution_count": 1,
   "id": "1a7f4561",
   "metadata": {},
   "outputs": [],
   "source": [
    "import numpy as np\n",
    "import pandas as pd\n",
    "import matplotlib.pyplot as plt\n",
    "import seaborn as sns\n",
    "from sklearn.linear_model import LogisticRegression\n",
    "from sklearn.svm import SVC\n",
    "from sklearn.model_selection import train_test_split\n",
    "from sklearn.metrics import classification_report,confusion_matrix"
   ]
  },
  {
   "cell_type": "code",
   "execution_count": 2,
   "id": "cd181669",
   "metadata": {},
   "outputs": [
    {
     "data": {
      "text/html": [
       "<div>\n",
       "<style scoped>\n",
       "    .dataframe tbody tr th:only-of-type {\n",
       "        vertical-align: middle;\n",
       "    }\n",
       "\n",
       "    .dataframe tbody tr th {\n",
       "        vertical-align: top;\n",
       "    }\n",
       "\n",
       "    .dataframe thead th {\n",
       "        text-align: right;\n",
       "    }\n",
       "</style>\n",
       "<table border=\"1\" class=\"dataframe\">\n",
       "  <thead>\n",
       "    <tr style=\"text-align: right;\">\n",
       "      <th></th>\n",
       "      <th>Unnamed: 0</th>\n",
       "      <th>zip</th>\n",
       "      <th>number_of_properties</th>\n",
       "      <th>submarket_name</th>\n",
       "      <th>building_class</th>\n",
       "      <th>year</th>\n",
       "      <th>period</th>\n",
       "      <th>completions</th>\n",
       "      <th>vac_pct</th>\n",
       "      <th>vacancy_chg_bps</th>\n",
       "      <th>...</th>\n",
       "      <th>office_employment_pct_chg</th>\n",
       "      <th>industrial_employment</th>\n",
       "      <th>industrial_employment_pct_chg</th>\n",
       "      <th>households</th>\n",
       "      <th>households_pct_chg</th>\n",
       "      <th>population</th>\n",
       "      <th>population_pct_chg</th>\n",
       "      <th>household_avg_income</th>\n",
       "      <th>household_avg_income_pct_chg</th>\n",
       "      <th>Liking</th>\n",
       "    </tr>\n",
       "  </thead>\n",
       "  <tbody>\n",
       "    <tr>\n",
       "      <th>0</th>\n",
       "      <td>7</td>\n",
       "      <td>77072.0</td>\n",
       "      <td>-0.03753</td>\n",
       "      <td>0</td>\n",
       "      <td>1</td>\n",
       "      <td>-1.487651</td>\n",
       "      <td>0</td>\n",
       "      <td>-0.687108</td>\n",
       "      <td>0.960546</td>\n",
       "      <td>-0.104365</td>\n",
       "      <td>...</td>\n",
       "      <td>1.988227</td>\n",
       "      <td>-1.587119</td>\n",
       "      <td>1.206230</td>\n",
       "      <td>-1.379162</td>\n",
       "      <td>0.254581</td>\n",
       "      <td>-1.446952</td>\n",
       "      <td>1.321702</td>\n",
       "      <td>-1.383081</td>\n",
       "      <td>0.744533</td>\n",
       "      <td>0.0</td>\n",
       "    </tr>\n",
       "    <tr>\n",
       "      <th>1</th>\n",
       "      <td>8</td>\n",
       "      <td>77072.0</td>\n",
       "      <td>-0.03753</td>\n",
       "      <td>0</td>\n",
       "      <td>1</td>\n",
       "      <td>-1.398322</td>\n",
       "      <td>0</td>\n",
       "      <td>-0.687108</td>\n",
       "      <td>1.028919</td>\n",
       "      <td>0.333717</td>\n",
       "      <td>...</td>\n",
       "      <td>-0.275032</td>\n",
       "      <td>-1.708630</td>\n",
       "      <td>-0.550005</td>\n",
       "      <td>-1.306559</td>\n",
       "      <td>0.485320</td>\n",
       "      <td>-1.361026</td>\n",
       "      <td>1.093014</td>\n",
       "      <td>-1.330591</td>\n",
       "      <td>0.097344</td>\n",
       "      <td>0.0</td>\n",
       "    </tr>\n",
       "    <tr>\n",
       "      <th>2</th>\n",
       "      <td>9</td>\n",
       "      <td>77072.0</td>\n",
       "      <td>-0.03753</td>\n",
       "      <td>0</td>\n",
       "      <td>1</td>\n",
       "      <td>-1.308993</td>\n",
       "      <td>0</td>\n",
       "      <td>-0.687108</td>\n",
       "      <td>0.584491</td>\n",
       "      <td>-0.980528</td>\n",
       "      <td>...</td>\n",
       "      <td>-0.366841</td>\n",
       "      <td>-1.710249</td>\n",
       "      <td>-0.195991</td>\n",
       "      <td>-1.244829</td>\n",
       "      <td>-0.084542</td>\n",
       "      <td>-1.285036</td>\n",
       "      <td>0.536502</td>\n",
       "      <td>-1.257979</td>\n",
       "      <td>0.432308</td>\n",
       "      <td>0.0</td>\n",
       "    </tr>\n",
       "    <tr>\n",
       "      <th>3</th>\n",
       "      <td>10</td>\n",
       "      <td>77072.0</td>\n",
       "      <td>-0.03753</td>\n",
       "      <td>0</td>\n",
       "      <td>1</td>\n",
       "      <td>-1.219665</td>\n",
       "      <td>0</td>\n",
       "      <td>-0.687108</td>\n",
       "      <td>0.037501</td>\n",
       "      <td>-1.243377</td>\n",
       "      <td>...</td>\n",
       "      <td>0.194720</td>\n",
       "      <td>-1.611361</td>\n",
       "      <td>0.105333</td>\n",
       "      <td>-1.184047</td>\n",
       "      <td>-0.182073</td>\n",
       "      <td>-1.220997</td>\n",
       "      <td>-0.069859</td>\n",
       "      <td>-1.234619</td>\n",
       "      <td>-0.515832</td>\n",
       "      <td>0.0</td>\n",
       "    </tr>\n",
       "    <tr>\n",
       "      <th>4</th>\n",
       "      <td>11</td>\n",
       "      <td>77072.0</td>\n",
       "      <td>-0.03753</td>\n",
       "      <td>0</td>\n",
       "      <td>1</td>\n",
       "      <td>-1.130336</td>\n",
       "      <td>0</td>\n",
       "      <td>-0.687108</td>\n",
       "      <td>-0.406927</td>\n",
       "      <td>-0.980528</td>\n",
       "      <td>...</td>\n",
       "      <td>0.170681</td>\n",
       "      <td>-1.369376</td>\n",
       "      <td>0.525651</td>\n",
       "      <td>-1.144989</td>\n",
       "      <td>-1.173532</td>\n",
       "      <td>-1.161858</td>\n",
       "      <td>-0.336146</td>\n",
       "      <td>-1.170502</td>\n",
       "      <td>0.188016</td>\n",
       "      <td>0.0</td>\n",
       "    </tr>\n",
       "  </tbody>\n",
       "</table>\n",
       "<p>5 rows × 26 columns</p>\n",
       "</div>"
      ],
      "text/plain": [
       "   Unnamed: 0      zip  number_of_properties  submarket_name  building_class  \\\n",
       "0           7  77072.0              -0.03753               0               1   \n",
       "1           8  77072.0              -0.03753               0               1   \n",
       "2           9  77072.0              -0.03753               0               1   \n",
       "3          10  77072.0              -0.03753               0               1   \n",
       "4          11  77072.0              -0.03753               0               1   \n",
       "\n",
       "       year  period  completions   vac_pct  vacancy_chg_bps  ...  \\\n",
       "0 -1.487651       0    -0.687108  0.960546        -0.104365  ...   \n",
       "1 -1.398322       0    -0.687108  1.028919         0.333717  ...   \n",
       "2 -1.308993       0    -0.687108  0.584491        -0.980528  ...   \n",
       "3 -1.219665       0    -0.687108  0.037501        -1.243377  ...   \n",
       "4 -1.130336       0    -0.687108 -0.406927        -0.980528  ...   \n",
       "\n",
       "   office_employment_pct_chg  industrial_employment  \\\n",
       "0                   1.988227              -1.587119   \n",
       "1                  -0.275032              -1.708630   \n",
       "2                  -0.366841              -1.710249   \n",
       "3                   0.194720              -1.611361   \n",
       "4                   0.170681              -1.369376   \n",
       "\n",
       "   industrial_employment_pct_chg  households  households_pct_chg  population  \\\n",
       "0                       1.206230   -1.379162            0.254581   -1.446952   \n",
       "1                      -0.550005   -1.306559            0.485320   -1.361026   \n",
       "2                      -0.195991   -1.244829           -0.084542   -1.285036   \n",
       "3                       0.105333   -1.184047           -0.182073   -1.220997   \n",
       "4                       0.525651   -1.144989           -1.173532   -1.161858   \n",
       "\n",
       "   population_pct_chg  household_avg_income  household_avg_income_pct_chg  \\\n",
       "0            1.321702             -1.383081                      0.744533   \n",
       "1            1.093014             -1.330591                      0.097344   \n",
       "2            0.536502             -1.257979                      0.432308   \n",
       "3           -0.069859             -1.234619                     -0.515832   \n",
       "4           -0.336146             -1.170502                      0.188016   \n",
       "\n",
       "   Liking  \n",
       "0     0.0  \n",
       "1     0.0  \n",
       "2     0.0  \n",
       "3     0.0  \n",
       "4     0.0  \n",
       "\n",
       "[5 rows x 26 columns]"
      ]
     },
     "execution_count": 2,
     "metadata": {},
     "output_type": "execute_result"
    }
   ],
   "source": [
    "df = pd.read_csv('Std_Trainable_data.csv')\n",
    "df.head()"
   ]
  },
  {
   "cell_type": "code",
   "execution_count": 3,
   "id": "2fa9c338",
   "metadata": {
    "scrolled": true
   },
   "outputs": [
    {
     "data": {
      "text/html": [
       "<div>\n",
       "<style scoped>\n",
       "    .dataframe tbody tr th:only-of-type {\n",
       "        vertical-align: middle;\n",
       "    }\n",
       "\n",
       "    .dataframe tbody tr th {\n",
       "        vertical-align: top;\n",
       "    }\n",
       "\n",
       "    .dataframe thead th {\n",
       "        text-align: right;\n",
       "    }\n",
       "</style>\n",
       "<table border=\"1\" class=\"dataframe\">\n",
       "  <thead>\n",
       "    <tr style=\"text-align: right;\">\n",
       "      <th></th>\n",
       "      <th>number_of_properties</th>\n",
       "      <th>submarket_name</th>\n",
       "      <th>building_class</th>\n",
       "      <th>year</th>\n",
       "      <th>period</th>\n",
       "      <th>completions</th>\n",
       "      <th>vac_pct</th>\n",
       "      <th>vacancy_chg_bps</th>\n",
       "      <th>asking_rent_pct_chg</th>\n",
       "      <th>abs_per_occ_stk_pct</th>\n",
       "      <th>...</th>\n",
       "      <th>office_employment_pct_chg</th>\n",
       "      <th>industrial_employment</th>\n",
       "      <th>industrial_employment_pct_chg</th>\n",
       "      <th>households</th>\n",
       "      <th>households_pct_chg</th>\n",
       "      <th>population</th>\n",
       "      <th>population_pct_chg</th>\n",
       "      <th>household_avg_income</th>\n",
       "      <th>household_avg_income_pct_chg</th>\n",
       "      <th>Liking</th>\n",
       "    </tr>\n",
       "  </thead>\n",
       "  <tbody>\n",
       "    <tr>\n",
       "      <th>0</th>\n",
       "      <td>-0.03753</td>\n",
       "      <td>0</td>\n",
       "      <td>1</td>\n",
       "      <td>-1.487651</td>\n",
       "      <td>0</td>\n",
       "      <td>-0.687108</td>\n",
       "      <td>0.960546</td>\n",
       "      <td>-0.104365</td>\n",
       "      <td>0.012139</td>\n",
       "      <td>-0.197553</td>\n",
       "      <td>...</td>\n",
       "      <td>1.988227</td>\n",
       "      <td>-1.587119</td>\n",
       "      <td>1.206230</td>\n",
       "      <td>-1.379162</td>\n",
       "      <td>0.254581</td>\n",
       "      <td>-1.446952</td>\n",
       "      <td>1.321702</td>\n",
       "      <td>-1.383081</td>\n",
       "      <td>0.744533</td>\n",
       "      <td>0.0</td>\n",
       "    </tr>\n",
       "    <tr>\n",
       "      <th>1</th>\n",
       "      <td>-0.03753</td>\n",
       "      <td>0</td>\n",
       "      <td>1</td>\n",
       "      <td>-1.398322</td>\n",
       "      <td>0</td>\n",
       "      <td>-0.687108</td>\n",
       "      <td>1.028919</td>\n",
       "      <td>0.333717</td>\n",
       "      <td>0.436848</td>\n",
       "      <td>-0.718453</td>\n",
       "      <td>...</td>\n",
       "      <td>-0.275032</td>\n",
       "      <td>-1.708630</td>\n",
       "      <td>-0.550005</td>\n",
       "      <td>-1.306559</td>\n",
       "      <td>0.485320</td>\n",
       "      <td>-1.361026</td>\n",
       "      <td>1.093014</td>\n",
       "      <td>-1.330591</td>\n",
       "      <td>0.097344</td>\n",
       "      <td>0.0</td>\n",
       "    </tr>\n",
       "    <tr>\n",
       "      <th>2</th>\n",
       "      <td>-0.03753</td>\n",
       "      <td>0</td>\n",
       "      <td>1</td>\n",
       "      <td>-1.308993</td>\n",
       "      <td>0</td>\n",
       "      <td>-0.687108</td>\n",
       "      <td>0.584491</td>\n",
       "      <td>-0.980528</td>\n",
       "      <td>0.153709</td>\n",
       "      <td>-0.279800</td>\n",
       "      <td>...</td>\n",
       "      <td>-0.366841</td>\n",
       "      <td>-1.710249</td>\n",
       "      <td>-0.195991</td>\n",
       "      <td>-1.244829</td>\n",
       "      <td>-0.084542</td>\n",
       "      <td>-1.285036</td>\n",
       "      <td>0.536502</td>\n",
       "      <td>-1.257979</td>\n",
       "      <td>0.432308</td>\n",
       "      <td>0.0</td>\n",
       "    </tr>\n",
       "    <tr>\n",
       "      <th>3</th>\n",
       "      <td>-0.03753</td>\n",
       "      <td>0</td>\n",
       "      <td>1</td>\n",
       "      <td>-1.219665</td>\n",
       "      <td>0</td>\n",
       "      <td>-0.687108</td>\n",
       "      <td>0.037501</td>\n",
       "      <td>-1.243377</td>\n",
       "      <td>-0.483354</td>\n",
       "      <td>-0.197553</td>\n",
       "      <td>...</td>\n",
       "      <td>0.194720</td>\n",
       "      <td>-1.611361</td>\n",
       "      <td>0.105333</td>\n",
       "      <td>-1.184047</td>\n",
       "      <td>-0.182073</td>\n",
       "      <td>-1.220997</td>\n",
       "      <td>-0.069859</td>\n",
       "      <td>-1.234619</td>\n",
       "      <td>-0.515832</td>\n",
       "      <td>0.0</td>\n",
       "    </tr>\n",
       "    <tr>\n",
       "      <th>4</th>\n",
       "      <td>-0.03753</td>\n",
       "      <td>0</td>\n",
       "      <td>1</td>\n",
       "      <td>-1.130336</td>\n",
       "      <td>0</td>\n",
       "      <td>-0.687108</td>\n",
       "      <td>-0.406927</td>\n",
       "      <td>-0.980528</td>\n",
       "      <td>-0.164823</td>\n",
       "      <td>-0.279800</td>\n",
       "      <td>...</td>\n",
       "      <td>0.170681</td>\n",
       "      <td>-1.369376</td>\n",
       "      <td>0.525651</td>\n",
       "      <td>-1.144989</td>\n",
       "      <td>-1.173532</td>\n",
       "      <td>-1.161858</td>\n",
       "      <td>-0.336146</td>\n",
       "      <td>-1.170502</td>\n",
       "      <td>0.188016</td>\n",
       "      <td>0.0</td>\n",
       "    </tr>\n",
       "  </tbody>\n",
       "</table>\n",
       "<p>5 rows × 24 columns</p>\n",
       "</div>"
      ],
      "text/plain": [
       "   number_of_properties  submarket_name  building_class      year  period  \\\n",
       "0              -0.03753               0               1 -1.487651       0   \n",
       "1              -0.03753               0               1 -1.398322       0   \n",
       "2              -0.03753               0               1 -1.308993       0   \n",
       "3              -0.03753               0               1 -1.219665       0   \n",
       "4              -0.03753               0               1 -1.130336       0   \n",
       "\n",
       "   completions   vac_pct  vacancy_chg_bps  asking_rent_pct_chg  \\\n",
       "0    -0.687108  0.960546        -0.104365             0.012139   \n",
       "1    -0.687108  1.028919         0.333717             0.436848   \n",
       "2    -0.687108  0.584491        -0.980528             0.153709   \n",
       "3    -0.687108  0.037501        -1.243377            -0.483354   \n",
       "4    -0.687108 -0.406927        -0.980528            -0.164823   \n",
       "\n",
       "   abs_per_occ_stk_pct  ...  office_employment_pct_chg  industrial_employment  \\\n",
       "0            -0.197553  ...                   1.988227              -1.587119   \n",
       "1            -0.718453  ...                  -0.275032              -1.708630   \n",
       "2            -0.279800  ...                  -0.366841              -1.710249   \n",
       "3            -0.197553  ...                   0.194720              -1.611361   \n",
       "4            -0.279800  ...                   0.170681              -1.369376   \n",
       "\n",
       "   industrial_employment_pct_chg  households  households_pct_chg  population  \\\n",
       "0                       1.206230   -1.379162            0.254581   -1.446952   \n",
       "1                      -0.550005   -1.306559            0.485320   -1.361026   \n",
       "2                      -0.195991   -1.244829           -0.084542   -1.285036   \n",
       "3                       0.105333   -1.184047           -0.182073   -1.220997   \n",
       "4                       0.525651   -1.144989           -1.173532   -1.161858   \n",
       "\n",
       "   population_pct_chg  household_avg_income  household_avg_income_pct_chg  \\\n",
       "0            1.321702             -1.383081                      0.744533   \n",
       "1            1.093014             -1.330591                      0.097344   \n",
       "2            0.536502             -1.257979                      0.432308   \n",
       "3           -0.069859             -1.234619                     -0.515832   \n",
       "4           -0.336146             -1.170502                      0.188016   \n",
       "\n",
       "   Liking  \n",
       "0     0.0  \n",
       "1     0.0  \n",
       "2     0.0  \n",
       "3     0.0  \n",
       "4     0.0  \n",
       "\n",
       "[5 rows x 24 columns]"
      ]
     },
     "execution_count": 3,
     "metadata": {},
     "output_type": "execute_result"
    }
   ],
   "source": [
    "df = df.drop(['Unnamed: 0','zip'],axis=1)\n",
    "df.head()"
   ]
  },
  {
   "cell_type": "code",
   "execution_count": 4,
   "id": "33fcb207",
   "metadata": {},
   "outputs": [],
   "source": [
    "data = df.drop('Liking',axis=1)\n",
    "target = df['Liking']"
   ]
  },
  {
   "cell_type": "code",
   "execution_count": 5,
   "id": "e9ce1de2",
   "metadata": {},
   "outputs": [
    {
     "data": {
      "text/plain": [
       "1.0    2665\n",
       "0.0     615\n",
       "Name: Liking, dtype: int64"
      ]
     },
     "execution_count": 5,
     "metadata": {},
     "output_type": "execute_result"
    }
   ],
   "source": [
    "df.Liking.value_counts()"
   ]
  },
  {
   "cell_type": "markdown",
   "id": "9ec25d88",
   "metadata": {},
   "source": [
    "## UnderSampling"
   ]
  },
  {
   "cell_type": "code",
   "execution_count": 6,
   "id": "21d0759f",
   "metadata": {},
   "outputs": [],
   "source": [
    "# Divide by class\n",
    "df_class_0 = df[df['Liking'] == 0]\n",
    "df_class_1 = df[df['Liking'] == 1]"
   ]
  },
  {
   "cell_type": "code",
   "execution_count": 7,
   "id": "e2e9bebe",
   "metadata": {},
   "outputs": [
    {
     "name": "stdout",
     "output_type": "stream",
     "text": [
      "Random under-sampling:\n",
      "0.0    615\n",
      "1.0    615\n",
      "Name: Liking, dtype: int64\n"
     ]
    }
   ],
   "source": [
    "# Undersample 0-class and concat the DataFrames of both class\n",
    "df_class_1_under = df_class_1.sample(len(df_class_0))\n",
    "df_test_under = pd.concat([df_class_1_under, df_class_0], axis=0)\n",
    "print('Random under-sampling:')\n",
    "print(df_test_under.Liking.value_counts())"
   ]
  },
  {
   "cell_type": "code",
   "execution_count": 8,
   "id": "85fdaca4",
   "metadata": {},
   "outputs": [],
   "source": [
    "X = df_test_under.drop('Liking',axis = 1)\n",
    "y = df_test_under['Liking']"
   ]
  },
  {
   "cell_type": "code",
   "execution_count": 9,
   "id": "a12149b8",
   "metadata": {},
   "outputs": [],
   "source": [
    "X_train, X_test, y_train, y_test = train_test_split(X, y, test_size=0.3,stratify=y)"
   ]
  },
  {
   "cell_type": "code",
   "execution_count": 10,
   "id": "aed1c9da",
   "metadata": {},
   "outputs": [
    {
     "data": {
      "text/plain": [
       "SVC()"
      ]
     },
     "execution_count": 10,
     "metadata": {},
     "output_type": "execute_result"
    }
   ],
   "source": [
    "model = SVC()\n",
    "model.fit(X_train,y_train)"
   ]
  },
  {
   "cell_type": "code",
   "execution_count": 11,
   "id": "0286492b",
   "metadata": {
    "scrolled": true
   },
   "outputs": [
    {
     "data": {
      "text/plain": [
       "0.6937669376693767"
      ]
     },
     "execution_count": 11,
     "metadata": {},
     "output_type": "execute_result"
    }
   ],
   "source": [
    "model.score(X_test,y_test)"
   ]
  },
  {
   "cell_type": "code",
   "execution_count": 12,
   "id": "2c1e62b8",
   "metadata": {
    "scrolled": false
   },
   "outputs": [
    {
     "data": {
      "text/plain": [
       "<AxesSubplot:>"
      ]
     },
     "execution_count": 12,
     "metadata": {},
     "output_type": "execute_result"
    },
    {
     "data": {
      "image/png": "[encoded data removed]",
      "text/plain": [
       "<Figure size 432x288 with 2 Axes>"
      ]
     },
     "metadata": {
      "needs_background": "light"
     },
     "output_type": "display_data"
    }
   ],
   "source": [
    "y_pred = model.predict(X_test)\n",
    "sns.heatmap(confusion_matrix(y_test,y_pred),annot=True)"
   ]
  },
  {
   "cell_type": "code",
   "execution_count": 13,
   "id": "f536bd8b",
   "metadata": {
    "scrolled": true
   },
   "outputs": [
    {
     "name": "stdout",
     "output_type": "stream",
     "text": [
      "              precision    recall  f1-score   support\n",
      "\n",
      "         0.0       0.65      0.84      0.73       185\n",
      "         1.0       0.77      0.55      0.64       184\n",
      "\n",
      "    accuracy                           0.69       369\n",
      "   macro avg       0.71      0.69      0.69       369\n",
      "weighted avg       0.71      0.69      0.69       369\n",
      "\n"
     ]
    }
   ],
   "source": [
    "print(classification_report(y_test,y_pred))"
   ]
  },
  {
   "cell_type": "markdown",
   "id": "c18b9ed4",
   "metadata": {},
   "source": [
    "## Over Sampling"
   ]
  },
  {
   "cell_type": "code",
   "execution_count": 14,
   "id": "21ee278b",
   "metadata": {},
   "outputs": [
    {
     "name": "stdout",
     "output_type": "stream",
     "text": [
      "Random over-sampling:\n",
      "0.0    2665\n",
      "1.0    2665\n",
      "Name: Liking, dtype: int64\n"
     ]
    }
   ],
   "source": [
    "df_class_0_over = df_class_0.sample(len(df_class_1), replace=True)\n",
    "df_test_over = pd.concat([df_class_1, df_class_0_over], axis=0)\n",
    "print('Random over-sampling:')\n",
    "print(df_test_over.Liking.value_counts())"
   ]
  },
  {
   "cell_type": "code",
   "execution_count": 15,
   "id": "6bb19840",
   "metadata": {},
   "outputs": [
    {
     "data": {
      "text/html": [
       "<div>\n",
       "<style scoped>\n",
       "    .dataframe tbody tr th:only-of-type {\n",
       "        vertical-align: middle;\n",
       "    }\n",
       "\n",
       "    .dataframe tbody tr th {\n",
       "        vertical-align: top;\n",
       "    }\n",
       "\n",
       "    .dataframe thead th {\n",
       "        text-align: right;\n",
       "    }\n",
       "</style>\n",
       "<table border=\"1\" class=\"dataframe\">\n",
       "  <thead>\n",
       "    <tr style=\"text-align: right;\">\n",
       "      <th></th>\n",
       "      <th>number_of_properties</th>\n",
       "      <th>submarket_name</th>\n",
       "      <th>building_class</th>\n",
       "      <th>year</th>\n",
       "      <th>period</th>\n",
       "      <th>completions</th>\n",
       "      <th>vac_pct</th>\n",
       "      <th>vacancy_chg_bps</th>\n",
       "      <th>asking_rent_pct_chg</th>\n",
       "      <th>abs_per_occ_stk_pct</th>\n",
       "      <th>...</th>\n",
       "      <th>office_employment_pct_chg</th>\n",
       "      <th>industrial_employment</th>\n",
       "      <th>industrial_employment_pct_chg</th>\n",
       "      <th>households</th>\n",
       "      <th>households_pct_chg</th>\n",
       "      <th>population</th>\n",
       "      <th>population_pct_chg</th>\n",
       "      <th>household_avg_income</th>\n",
       "      <th>household_avg_income_pct_chg</th>\n",
       "      <th>Liking</th>\n",
       "    </tr>\n",
       "  </thead>\n",
       "  <tbody>\n",
       "    <tr>\n",
       "      <th>615</th>\n",
       "      <td>-0.401661</td>\n",
       "      <td>4</td>\n",
       "      <td>2</td>\n",
       "      <td>1.192212</td>\n",
       "      <td>0</td>\n",
       "      <td>-0.687108</td>\n",
       "      <td>-0.612048</td>\n",
       "      <td>-0.104365</td>\n",
       "      <td>-3.456314</td>\n",
       "      <td>-0.691037</td>\n",
       "      <td>...</td>\n",
       "      <td>-2.079292</td>\n",
       "      <td>0.385269</td>\n",
       "      <td>-2.339330</td>\n",
       "      <td>1.247443</td>\n",
       "      <td>-0.652504</td>\n",
       "      <td>1.245227</td>\n",
       "      <td>-0.932650</td>\n",
       "      <td>0.972168</td>\n",
       "      <td>-0.620318</td>\n",
       "      <td>1.0</td>\n",
       "    </tr>\n",
       "    <tr>\n",
       "      <th>616</th>\n",
       "      <td>-0.401661</td>\n",
       "      <td>4</td>\n",
       "      <td>1</td>\n",
       "      <td>-1.487651</td>\n",
       "      <td>0</td>\n",
       "      <td>-0.687108</td>\n",
       "      <td>0.071688</td>\n",
       "      <td>-0.104365</td>\n",
       "      <td>0.012139</td>\n",
       "      <td>-0.197553</td>\n",
       "      <td>...</td>\n",
       "      <td>1.988227</td>\n",
       "      <td>-1.587119</td>\n",
       "      <td>1.206230</td>\n",
       "      <td>-1.379162</td>\n",
       "      <td>0.254581</td>\n",
       "      <td>-1.446952</td>\n",
       "      <td>1.321702</td>\n",
       "      <td>-1.383081</td>\n",
       "      <td>0.744533</td>\n",
       "      <td>1.0</td>\n",
       "    </tr>\n",
       "    <tr>\n",
       "      <th>617</th>\n",
       "      <td>-0.401661</td>\n",
       "      <td>4</td>\n",
       "      <td>1</td>\n",
       "      <td>-1.398322</td>\n",
       "      <td>0</td>\n",
       "      <td>-0.605291</td>\n",
       "      <td>0.105875</td>\n",
       "      <td>0.246100</td>\n",
       "      <td>0.684594</td>\n",
       "      <td>0.049190</td>\n",
       "      <td>...</td>\n",
       "      <td>-0.275032</td>\n",
       "      <td>-1.708630</td>\n",
       "      <td>-0.550005</td>\n",
       "      <td>-1.306559</td>\n",
       "      <td>0.485320</td>\n",
       "      <td>-1.361026</td>\n",
       "      <td>1.093014</td>\n",
       "      <td>-1.330591</td>\n",
       "      <td>0.097344</td>\n",
       "      <td>1.0</td>\n",
       "    </tr>\n",
       "    <tr>\n",
       "      <th>618</th>\n",
       "      <td>-0.401661</td>\n",
       "      <td>4</td>\n",
       "      <td>1</td>\n",
       "      <td>-1.308993</td>\n",
       "      <td>0</td>\n",
       "      <td>-0.619301</td>\n",
       "      <td>-0.235993</td>\n",
       "      <td>-0.717679</td>\n",
       "      <td>-0.200215</td>\n",
       "      <td>0.241100</td>\n",
       "      <td>...</td>\n",
       "      <td>-0.366841</td>\n",
       "      <td>-1.710249</td>\n",
       "      <td>-0.195991</td>\n",
       "      <td>-1.244829</td>\n",
       "      <td>-0.084542</td>\n",
       "      <td>-1.285036</td>\n",
       "      <td>0.536502</td>\n",
       "      <td>-1.257979</td>\n",
       "      <td>0.432308</td>\n",
       "      <td>1.0</td>\n",
       "    </tr>\n",
       "    <tr>\n",
       "      <th>619</th>\n",
       "      <td>-0.401661</td>\n",
       "      <td>4</td>\n",
       "      <td>1</td>\n",
       "      <td>-1.219665</td>\n",
       "      <td>0</td>\n",
       "      <td>-0.687108</td>\n",
       "      <td>-0.543675</td>\n",
       "      <td>-0.630063</td>\n",
       "      <td>0.295278</td>\n",
       "      <td>-0.389463</td>\n",
       "      <td>...</td>\n",
       "      <td>0.194720</td>\n",
       "      <td>-1.611361</td>\n",
       "      <td>0.105333</td>\n",
       "      <td>-1.184047</td>\n",
       "      <td>-0.182073</td>\n",
       "      <td>-1.220997</td>\n",
       "      <td>-0.069859</td>\n",
       "      <td>-1.234619</td>\n",
       "      <td>-0.515832</td>\n",
       "      <td>1.0</td>\n",
       "    </tr>\n",
       "  </tbody>\n",
       "</table>\n",
       "<p>5 rows × 24 columns</p>\n",
       "</div>"
      ],
      "text/plain": [
       "     number_of_properties  submarket_name  building_class      year  period  \\\n",
       "615             -0.401661               4               2  1.192212       0   \n",
       "616             -0.401661               4               1 -1.487651       0   \n",
       "617             -0.401661               4               1 -1.398322       0   \n",
       "618             -0.401661               4               1 -1.308993       0   \n",
       "619             -0.401661               4               1 -1.219665       0   \n",
       "\n",
       "     completions   vac_pct  vacancy_chg_bps  asking_rent_pct_chg  \\\n",
       "615    -0.687108 -0.612048        -0.104365            -3.456314   \n",
       "616    -0.687108  0.071688        -0.104365             0.012139   \n",
       "617    -0.605291  0.105875         0.246100             0.684594   \n",
       "618    -0.619301 -0.235993        -0.717679            -0.200215   \n",
       "619    -0.687108 -0.543675        -0.630063             0.295278   \n",
       "\n",
       "     abs_per_occ_stk_pct  ...  office_employment_pct_chg  \\\n",
       "615            -0.691037  ...                  -2.079292   \n",
       "616            -0.197553  ...                   1.988227   \n",
       "617             0.049190  ...                  -0.275032   \n",
       "618             0.241100  ...                  -0.366841   \n",
       "619            -0.389463  ...                   0.194720   \n",
       "\n",
       "     industrial_employment  industrial_employment_pct_chg  households  \\\n",
       "615               0.385269                      -2.339330    1.247443   \n",
       "616              -1.587119                       1.206230   -1.379162   \n",
       "617              -1.708630                      -0.550005   -1.306559   \n",
       "618              -1.710249                      -0.195991   -1.244829   \n",
       "619              -1.611361                       0.105333   -1.184047   \n",
       "\n",
       "     households_pct_chg  population  population_pct_chg  household_avg_income  \\\n",
       "615           -0.652504    1.245227           -0.932650              0.972168   \n",
       "616            0.254581   -1.446952            1.321702             -1.383081   \n",
       "617            0.485320   -1.361026            1.093014             -1.330591   \n",
       "618           -0.084542   -1.285036            0.536502             -1.257979   \n",
       "619           -0.182073   -1.220997           -0.069859             -1.234619   \n",
       "\n",
       "     household_avg_income_pct_chg  Liking  \n",
       "615                     -0.620318     1.0  \n",
       "616                      0.744533     1.0  \n",
       "617                      0.097344     1.0  \n",
       "618                      0.432308     1.0  \n",
       "619                     -0.515832     1.0  \n",
       "\n",
       "[5 rows x 24 columns]"
      ]
     },
     "execution_count": 15,
     "metadata": {},
     "output_type": "execute_result"
    }
   ],
   "source": [
    "df_test_over.head()"
   ]
  },
  {
   "cell_type": "code",
   "execution_count": 16,
   "id": "c435a2ad",
   "metadata": {},
   "outputs": [],
   "source": [
    "X = df_test_over.drop(\"Liking\",axis=1)\n",
    "y = df_test_over['Liking']"
   ]
  },
  {
   "cell_type": "code",
   "execution_count": 17,
   "id": "ed510245",
   "metadata": {},
   "outputs": [],
   "source": [
    "X_train, X_test, y_train, y_test = train_test_split(X, y, test_size=0.3,stratify=y)"
   ]
  },
  {
   "cell_type": "code",
   "execution_count": 18,
   "id": "d1b38fd7",
   "metadata": {},
   "outputs": [
    {
     "data": {
      "text/plain": [
       "SVC()"
      ]
     },
     "execution_count": 18,
     "metadata": {},
     "output_type": "execute_result"
    }
   ],
   "source": [
    "model = SVC()\n",
    "model.fit(X_train,y_train)"
   ]
  },
  {
   "cell_type": "code",
   "execution_count": 19,
   "id": "d0ab4db9",
   "metadata": {
    "scrolled": true
   },
   "outputs": [
    {
     "data": {
      "text/plain": [
       "0.706066291432145"
      ]
     },
     "execution_count": 19,
     "metadata": {},
     "output_type": "execute_result"
    }
   ],
   "source": [
    "model.score(X_test,y_test)"
   ]
  },
  {
   "cell_type": "code",
   "execution_count": 20,
   "id": "1d3ef4ba",
   "metadata": {
    "scrolled": false
   },
   "outputs": [
    {
     "data": {
      "text/plain": [
       "<AxesSubplot:>"
      ]
     },
     "execution_count": 20,
     "metadata": {},
     "output_type": "execute_result"
    },
    {
     "data": {
      "image/png": "[encoded data removed]",
      "text/plain": [
       "<Figure size 432x288 with 2 Axes>"
      ]
     },
     "metadata": {
      "needs_background": "light"
     },
     "output_type": "display_data"
    }
   ],
   "source": [
    "y_pred = model.predict(X_test)\n",
    "sns.heatmap(confusion_matrix(y_test,y_pred),annot=True)"
   ]
  },
  {
   "cell_type": "code",
   "execution_count": 21,
   "id": "a4c7a916",
   "metadata": {
    "scrolled": false
   },
   "outputs": [
    {
     "name": "stdout",
     "output_type": "stream",
     "text": [
      "              precision    recall  f1-score   support\n",
      "\n",
      "         0.0       0.67      0.80      0.73       799\n",
      "         1.0       0.75      0.61      0.68       800\n",
      "\n",
      "    accuracy                           0.71      1599\n",
      "   macro avg       0.71      0.71      0.70      1599\n",
      "weighted avg       0.71      0.71      0.70      1599\n",
      "\n"
     ]
    }
   ],
   "source": [
    "print(classification_report(y_test,y_pred))"
   ]
  },
  {
   "cell_type": "markdown",
   "id": "fd712b8b",
   "metadata": {},
   "source": [
    "## Ensambel undersampling"
   ]
  },
  {
   "cell_type": "code",
   "execution_count": 22,
   "id": "d1de8343",
   "metadata": {},
   "outputs": [
    {
     "data": {
      "text/plain": [
       "(2665, 615, 4.333333333333333)"
      ]
     },
     "execution_count": 22,
     "metadata": {},
     "output_type": "execute_result"
    }
   ],
   "source": [
    "len(df_class_1),len(df_class_0) ,len(df_class_1)/len(df_class_0)"
   ]
  },
  {
   "cell_type": "code",
   "execution_count": 23,
   "id": "330f3f8a",
   "metadata": {},
   "outputs": [],
   "source": [
    "len_cls_0 = len(df_class_0)\n",
    "df_1 = pd.concat([df_class_1[:len_cls_0],df_class_0])\n",
    "df_2 = pd.concat([df_class_1[len_cls_0:2*len_cls_0],df_class_0])\n",
    "df_3 = pd.concat([df_class_1[2*len_cls_0:3*len_cls_0],df_class_0])\n",
    "df_4 = pd.concat([df_class_1[3*len_cls_0:4*len_cls_0],df_class_0])\n",
    "df_5 = pd.concat([df_class_1[4*len_cls_0:5*len_cls_0],df_class_0])"
   ]
  },
  {
   "cell_type": "code",
   "execution_count": 24,
   "id": "899304f7",
   "metadata": {},
   "outputs": [
    {
     "name": "stdout",
     "output_type": "stream",
     "text": [
      "0.7642276422764228\n"
     ]
    },
    {
     "data": {
      "text/plain": [
       "SVC()"
      ]
     },
     "execution_count": 24,
     "metadata": {},
     "output_type": "execute_result"
    }
   ],
   "source": [
    "X = df_1.drop(\"Liking\",axis=1)\n",
    "y = df_1['Liking']\n",
    "X_train, X_test, y_train, y_test = train_test_split(X, y, test_size=0.2,stratify=y)\n",
    "model_1 = SVC()\n",
    "model_1.fit(X_train,y_train)\n",
    "print(model_1.score(X_test,y_test))\n",
    "model_1.fit(X,y)"
   ]
  },
  {
   "cell_type": "code",
   "execution_count": 25,
   "id": "a3302a31",
   "metadata": {
    "scrolled": true
   },
   "outputs": [
    {
     "name": "stdout",
     "output_type": "stream",
     "text": [
      "0.7073170731707317\n"
     ]
    },
    {
     "data": {
      "text/plain": [
       "SVC()"
      ]
     },
     "execution_count": 25,
     "metadata": {},
     "output_type": "execute_result"
    }
   ],
   "source": [
    "X = df_2.drop(\"Liking\",axis=1)\n",
    "y = df_2['Liking']\n",
    "X_train, X_test, y_train, y_test = train_test_split(X, y, test_size=0.2,stratify=y)\n",
    "model_2 = SVC()\n",
    "model_2.fit(X_train,y_train)\n",
    "print(model_2.score(X_test,y_test))\n",
    "model_2.fit(X,y)"
   ]
  },
  {
   "cell_type": "code",
   "execution_count": 26,
   "id": "eab05076",
   "metadata": {
    "scrolled": false
   },
   "outputs": [
    {
     "name": "stdout",
     "output_type": "stream",
     "text": [
      "0.5894308943089431\n"
     ]
    },
    {
     "data": {
      "text/plain": [
       "SVC()"
      ]
     },
     "execution_count": 26,
     "metadata": {},
     "output_type": "execute_result"
    }
   ],
   "source": [
    "X = df_3.drop(\"Liking\",axis=1)\n",
    "y = df_3['Liking']\n",
    "X_train, X_test, y_train, y_test = train_test_split(X, y, test_size=0.2,stratify=y)\n",
    "model_3 = SVC()\n",
    "model_3.fit(X_train,y_train)\n",
    "print(model_3.score(X_test,y_test))\n",
    "model_3.fit(X,y)"
   ]
  },
  {
   "cell_type": "code",
   "execution_count": 27,
   "id": "4d25a3a8",
   "metadata": {
    "scrolled": true
   },
   "outputs": [
    {
     "name": "stdout",
     "output_type": "stream",
     "text": [
      "0.6056910569105691\n"
     ]
    },
    {
     "data": {
      "text/plain": [
       "SVC()"
      ]
     },
     "execution_count": 27,
     "metadata": {},
     "output_type": "execute_result"
    }
   ],
   "source": [
    "X = df_4.drop(\"Liking\",axis=1)\n",
    "y = df_4['Liking']\n",
    "X_train, X_test, y_train, y_test = train_test_split(X, y, test_size=0.2,stratify=y)\n",
    "model_4 = SVC()\n",
    "model_4.fit(X_train,y_train)\n",
    "print(model_4.score(X_test,y_test))\n",
    "model_4.fit(X,y)"
   ]
  },
  {
   "cell_type": "code",
   "execution_count": 28,
   "id": "7ae5283e",
   "metadata": {},
   "outputs": [
    {
     "name": "stdout",
     "output_type": "stream",
     "text": [
      "0.975609756097561\n"
     ]
    },
    {
     "data": {
      "text/plain": [
       "SVC()"
      ]
     },
     "execution_count": 28,
     "metadata": {},
     "output_type": "execute_result"
    }
   ],
   "source": [
    "X = df_5.drop(\"Liking\",axis=1)\n",
    "y = df_5['Liking']\n",
    "X_train, X_test, y_train, y_test = train_test_split(X, y, test_size=0.2,stratify=y)\n",
    "model_5 = SVC()\n",
    "model_5.fit(X_train,y_train)\n",
    "print(model_5.score(X_test,y_test))\n",
    "model_5.fit(X,y)"
   ]
  },
  {
   "cell_type": "code",
   "execution_count": 29,
   "id": "8eba1478",
   "metadata": {},
   "outputs": [],
   "source": [
    "def pred(x):\n",
    "    y_pred = model_1.predict(x)+model_2.predict(x)+model_3.predict(x)+model_4.predict(x)+model_5.predict(x)\n",
    "    return [1 if i>2 else 0 for i in y_pred]"
   ]
  },
  {
   "cell_type": "code",
   "execution_count": 30,
   "id": "d5dcf689",
   "metadata": {},
   "outputs": [
    {
     "data": {
      "text/plain": [
       "<AxesSubplot:>"
      ]
     },
     "execution_count": 30,
     "metadata": {},
     "output_type": "execute_result"
    },
    {
     "data": {
      "image/png": "[encoded data removed]",
      "text/plain": [
       "<Figure size 432x288 with 2 Axes>"
      ]
     },
     "metadata": {
      "needs_background": "light"
     },
     "output_type": "display_data"
    }
   ],
   "source": [
    "y_pred = pred(data)\n",
    "sns.heatmap(confusion_matrix(target,y_pred),annot=True)"
   ]
  },
  {
   "cell_type": "code",
   "execution_count": 31,
   "id": "40370efc",
   "metadata": {
    "scrolled": true
   },
   "outputs": [
    {
     "name": "stdout",
     "output_type": "stream",
     "text": [
      "              precision    recall  f1-score   support\n",
      "\n",
      "         0.0       0.34      0.84      0.48       615\n",
      "         1.0       0.94      0.62      0.75      2665\n",
      "\n",
      "    accuracy                           0.66      3280\n",
      "   macro avg       0.64      0.73      0.62      3280\n",
      "weighted avg       0.83      0.66      0.70      3280\n",
      "\n"
     ]
    }
   ],
   "source": [
    "print(classification_report(target,y_pred))"
   ]
  },
  {
   "cell_type": "markdown",
   "id": "803eaaec",
   "metadata": {},
   "source": [
    "## SMOTE"
   ]
  },
  {
   "cell_type": "code",
   "execution_count": 32,
   "id": "08260cfe",
   "metadata": {},
   "outputs": [],
   "source": [
    "from imblearn.over_sampling import SMOTE"
   ]
  },
  {
   "cell_type": "code",
   "execution_count": 33,
   "id": "132f5b95",
   "metadata": {
    "scrolled": true
   },
   "outputs": [
    {
     "data": {
      "text/plain": [
       "0.0    2665\n",
       "1.0    2665\n",
       "Name: Liking, dtype: int64"
      ]
     },
     "execution_count": 33,
     "metadata": {},
     "output_type": "execute_result"
    }
   ],
   "source": [
    "smote = SMOTE(sampling_strategy='minority')\n",
    "X_sm, y_sm = smote.fit_resample(data,target)\n",
    "y_sm.value_counts()"
   ]
  },
  {
   "cell_type": "code",
   "execution_count": 34,
   "id": "28f62ef6",
   "metadata": {},
   "outputs": [],
   "source": [
    "X_train, X_test, y_train, y_test = train_test_split(X_sm, y_sm, test_size=0.3,stratify=y_sm)"
   ]
  },
  {
   "cell_type": "code",
   "execution_count": 35,
   "id": "5e9ca300",
   "metadata": {},
   "outputs": [
    {
     "data": {
      "text/html": [
       "<div>\n",
       "<style scoped>\n",
       "    .dataframe tbody tr th:only-of-type {\n",
       "        vertical-align: middle;\n",
       "    }\n",
       "\n",
       "    .dataframe tbody tr th {\n",
       "        vertical-align: top;\n",
       "    }\n",
       "\n",
       "    .dataframe thead th {\n",
       "        text-align: right;\n",
       "    }\n",
       "</style>\n",
       "<table border=\"1\" class=\"dataframe\">\n",
       "  <thead>\n",
       "    <tr style=\"text-align: right;\">\n",
       "      <th></th>\n",
       "      <th>number_of_properties</th>\n",
       "      <th>submarket_name</th>\n",
       "      <th>building_class</th>\n",
       "      <th>year</th>\n",
       "      <th>period</th>\n",
       "      <th>completions</th>\n",
       "      <th>vac_pct</th>\n",
       "      <th>vacancy_chg_bps</th>\n",
       "      <th>asking_rent_pct_chg</th>\n",
       "      <th>abs_per_occ_stk_pct</th>\n",
       "      <th>...</th>\n",
       "      <th>office_employment</th>\n",
       "      <th>office_employment_pct_chg</th>\n",
       "      <th>industrial_employment</th>\n",
       "      <th>industrial_employment_pct_chg</th>\n",
       "      <th>households</th>\n",
       "      <th>households_pct_chg</th>\n",
       "      <th>population</th>\n",
       "      <th>population_pct_chg</th>\n",
       "      <th>household_avg_income</th>\n",
       "      <th>household_avg_income_pct_chg</th>\n",
       "    </tr>\n",
       "  </thead>\n",
       "  <tbody>\n",
       "    <tr>\n",
       "      <th>2584</th>\n",
       "      <td>-0.144627</td>\n",
       "      <td>4</td>\n",
       "      <td>1</td>\n",
       "      <td>0.209596</td>\n",
       "      <td>0</td>\n",
       "      <td>1.883790</td>\n",
       "      <td>1.746843</td>\n",
       "      <td>1.998427</td>\n",
       "      <td>-1.049632</td>\n",
       "      <td>-0.526542</td>\n",
       "      <td>...</td>\n",
       "      <td>0.015520</td>\n",
       "      <td>-2.677462</td>\n",
       "      <td>-0.356347</td>\n",
       "      <td>-2.331039</td>\n",
       "      <td>0.131915</td>\n",
       "      <td>-0.557821</td>\n",
       "      <td>0.188623</td>\n",
       "      <td>0.479611</td>\n",
       "      <td>0.014555</td>\n",
       "      <td>-3.033381</td>\n",
       "    </tr>\n",
       "    <tr>\n",
       "      <th>5052</th>\n",
       "      <td>-0.808631</td>\n",
       "      <td>4</td>\n",
       "      <td>1</td>\n",
       "      <td>-1.506217</td>\n",
       "      <td>0</td>\n",
       "      <td>-0.133309</td>\n",
       "      <td>0.772315</td>\n",
       "      <td>-1.038592</td>\n",
       "      <td>2.537356</td>\n",
       "      <td>-0.005642</td>\n",
       "      <td>...</td>\n",
       "      <td>-1.492196</td>\n",
       "      <td>1.793648</td>\n",
       "      <td>-1.680154</td>\n",
       "      <td>1.182406</td>\n",
       "      <td>-1.392895</td>\n",
       "      <td>0.274682</td>\n",
       "      <td>-1.465289</td>\n",
       "      <td>1.131230</td>\n",
       "      <td>-1.399688</td>\n",
       "      <td>0.680677</td>\n",
       "    </tr>\n",
       "    <tr>\n",
       "      <th>1076</th>\n",
       "      <td>1.119122</td>\n",
       "      <td>3</td>\n",
       "      <td>0</td>\n",
       "      <td>-0.147719</td>\n",
       "      <td>0</td>\n",
       "      <td>-0.636673</td>\n",
       "      <td>-1.056477</td>\n",
       "      <td>-0.104365</td>\n",
       "      <td>0.472240</td>\n",
       "      <td>2.735939</td>\n",
       "      <td>...</td>\n",
       "      <td>-0.169534</td>\n",
       "      <td>0.951275</td>\n",
       "      <td>-0.513638</td>\n",
       "      <td>0.516722</td>\n",
       "      <td>-0.234803</td>\n",
       "      <td>2.154888</td>\n",
       "      <td>-0.228369</td>\n",
       "      <td>2.297991</td>\n",
       "      <td>-0.220397</td>\n",
       "      <td>0.848711</td>\n",
       "    </tr>\n",
       "    <tr>\n",
       "      <th>2671</th>\n",
       "      <td>-0.337403</td>\n",
       "      <td>1</td>\n",
       "      <td>1</td>\n",
       "      <td>-0.951678</td>\n",
       "      <td>0</td>\n",
       "      <td>-0.619861</td>\n",
       "      <td>-0.646235</td>\n",
       "      <td>-2.207157</td>\n",
       "      <td>0.366063</td>\n",
       "      <td>0.734585</td>\n",
       "      <td>...</td>\n",
       "      <td>-1.023821</td>\n",
       "      <td>0.364384</td>\n",
       "      <td>-0.709999</td>\n",
       "      <td>0.859453</td>\n",
       "      <td>-1.020948</td>\n",
       "      <td>-0.321656</td>\n",
       "      <td>-1.026831</td>\n",
       "      <td>0.081097</td>\n",
       "      <td>-0.977143</td>\n",
       "      <td>0.970691</td>\n",
       "    </tr>\n",
       "    <tr>\n",
       "      <th>1458</th>\n",
       "      <td>2.639906</td>\n",
       "      <td>4</td>\n",
       "      <td>1</td>\n",
       "      <td>0.477582</td>\n",
       "      <td>0</td>\n",
       "      <td>-0.687108</td>\n",
       "      <td>-0.577862</td>\n",
       "      <td>-1.155761</td>\n",
       "      <td>1.357049</td>\n",
       "      <td>-0.334632</td>\n",
       "      <td>...</td>\n",
       "      <td>0.426978</td>\n",
       "      <td>0.984443</td>\n",
       "      <td>0.913444</td>\n",
       "      <td>1.151038</td>\n",
       "      <td>0.386887</td>\n",
       "      <td>0.690557</td>\n",
       "      <td>0.476576</td>\n",
       "      <td>0.232617</td>\n",
       "      <td>0.654866</td>\n",
       "      <td>0.936226</td>\n",
       "    </tr>\n",
       "  </tbody>\n",
       "</table>\n",
       "<p>5 rows × 23 columns</p>\n",
       "</div>"
      ],
      "text/plain": [
       "      number_of_properties  submarket_name  building_class      year  period  \\\n",
       "2584             -0.144627               4               1  0.209596       0   \n",
       "5052             -0.808631               4               1 -1.506217       0   \n",
       "1076              1.119122               3               0 -0.147719       0   \n",
       "2671             -0.337403               1               1 -0.951678       0   \n",
       "1458              2.639906               4               1  0.477582       0   \n",
       "\n",
       "      completions   vac_pct  vacancy_chg_bps  asking_rent_pct_chg  \\\n",
       "2584     1.883790  1.746843         1.998427            -1.049632   \n",
       "5052    -0.133309  0.772315        -1.038592             2.537356   \n",
       "1076    -0.636673 -1.056477        -0.104365             0.472240   \n",
       "2671    -0.619861 -0.646235        -2.207157             0.366063   \n",
       "1458    -0.687108 -0.577862        -1.155761             1.357049   \n",
       "\n",
       "      abs_per_occ_stk_pct  ...  office_employment  office_employment_pct_chg  \\\n",
       "2584            -0.526542  ...           0.015520                  -2.677462   \n",
       "5052            -0.005642  ...          -1.492196                   1.793648   \n",
       "1076             2.735939  ...          -0.169534                   0.951275   \n",
       "2671             0.734585  ...          -1.023821                   0.364384   \n",
       "1458            -0.334632  ...           0.426978                   0.984443   \n",
       "\n",
       "      industrial_employment  industrial_employment_pct_chg  households  \\\n",
       "2584              -0.356347                      -2.331039    0.131915   \n",
       "5052              -1.680154                       1.182406   -1.392895   \n",
       "1076              -0.513638                       0.516722   -0.234803   \n",
       "2671              -0.709999                       0.859453   -1.020948   \n",
       "1458               0.913444                       1.151038    0.386887   \n",
       "\n",
       "      households_pct_chg  population  population_pct_chg  \\\n",
       "2584           -0.557821    0.188623            0.479611   \n",
       "5052            0.274682   -1.465289            1.131230   \n",
       "1076            2.154888   -0.228369            2.297991   \n",
       "2671           -0.321656   -1.026831            0.081097   \n",
       "1458            0.690557    0.476576            0.232617   \n",
       "\n",
       "      household_avg_income  household_avg_income_pct_chg  \n",
       "2584              0.014555                     -3.033381  \n",
       "5052             -1.399688                      0.680677  \n",
       "1076             -0.220397                      0.848711  \n",
       "2671             -0.977143                      0.970691  \n",
       "1458              0.654866                      0.936226  \n",
       "\n",
       "[5 rows x 23 columns]"
      ]
     },
     "execution_count": 35,
     "metadata": {},
     "output_type": "execute_result"
    }
   ],
   "source": [
    "X_train.head()"
   ]
  },
  {
   "cell_type": "code",
   "execution_count": 36,
   "id": "5d2e1723",
   "metadata": {},
   "outputs": [
    {
     "data": {
      "text/plain": [
       "SVC()"
      ]
     },
     "execution_count": 36,
     "metadata": {},
     "output_type": "execute_result"
    }
   ],
   "source": [
    "model = SVC()\n",
    "model.fit(X_train,y_train)"
   ]
  },
  {
   "cell_type": "code",
   "execution_count": 37,
   "id": "9955a450",
   "metadata": {
    "scrolled": true
   },
   "outputs": [
    {
     "data": {
      "text/plain": [
       "0.7248280175109444"
      ]
     },
     "execution_count": 37,
     "metadata": {},
     "output_type": "execute_result"
    }
   ],
   "source": [
    "model.score(X_test,y_test)"
   ]
  },
  {
   "cell_type": "code",
   "execution_count": 38,
   "id": "6c5265be",
   "metadata": {
    "scrolled": false
   },
   "outputs": [
    {
     "data": {
      "text/plain": [
       "<AxesSubplot:>"
      ]
     },
     "execution_count": 38,
     "metadata": {},
     "output_type": "execute_result"
    },
    {
     "data": {
      "image/png": "[encoded data removed]",
      "text/plain": [
       "<Figure size 432x288 with 2 Axes>"
      ]
     },
     "metadata": {
      "needs_background": "light"
     },
     "output_type": "display_data"
    }
   ],
   "source": [
    "y_pred = model.predict(X_test)\n",
    "sns.heatmap(confusion_matrix(y_test,y_pred),annot=True)"
   ]
  },
  {
   "cell_type": "code",
   "execution_count": 39,
   "id": "74e3ff69",
   "metadata": {
    "scrolled": false
   },
   "outputs": [
    {
     "name": "stdout",
     "output_type": "stream",
     "text": [
      "              precision    recall  f1-score   support\n",
      "\n",
      "         0.0       0.68      0.84      0.75       800\n",
      "         1.0       0.79      0.61      0.69       799\n",
      "\n",
      "    accuracy                           0.72      1599\n",
      "   macro avg       0.74      0.72      0.72      1599\n",
      "weighted avg       0.74      0.72      0.72      1599\n",
      "\n"
     ]
    }
   ],
   "source": [
    "print(classification_report(y_test,y_pred))"
   ]
  },
  {
   "cell_type": "code",
   "execution_count": null,
   "id": "b7b4c3da",
   "metadata": {},
   "outputs": [],
   "source": []
  }
 ],
 "metadata": {
  "kernelspec": {
   "display_name": "Python 3",
   "language": "python",
   "name": "python3"
  },
  "language_info": {
   "codemirror_mode": {
    "name": "ipython",
    "version": 3
   },
   "file_extension": ".py",
   "mimetype": "text/x-python",
   "name": "python",
   "nbconvert_exporter": "python",
   "pygments_lexer": "ipython3",
   "version": "3.9.5"
  }
 },
 "nbformat": 4,
 "nbformat_minor": 5
}
