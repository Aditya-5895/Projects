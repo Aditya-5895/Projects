{
 "cells": [
  {
   "cell_type": "code",
   "execution_count": 1,
   "metadata": {},
   "outputs": [],
   "source": [
    "import pandas as pd\n",
    "import numpy as np\n",
    "from scipy import stats\n",
    "from scipy.stats import pearsonr\n",
    "import matplotlib.pyplot as plt\n",
    "import seaborn as sns"
   ]
  },
  {
   "cell_type": "code",
   "execution_count": 2,
   "metadata": {},
   "outputs": [],
   "source": [
    "import warnings\n",
    "warnings.filterwarnings(\"ignore\")"
   ]
  },
  {
   "cell_type": "code",
   "execution_count": 3,
   "metadata": {},
   "outputs": [],
   "source": [
    "from sklearn.linear_model import LinearRegression\n",
    "from sklearn.model_selection import train_test_split\n",
    "from sklearn import preprocessing"
   ]
  },
  {
   "cell_type": "code",
   "execution_count": 4,
   "metadata": {
    "scrolled": false
   },
   "outputs": [
    {
     "name": "stdout",
     "output_type": "stream",
     "text": [
      "(21613, 21)\n"
     ]
    },
    {
     "data": {
      "text/html": [
       "<div>\n",
       "<style scoped>\n",
       "    .dataframe tbody tr th:only-of-type {\n",
       "        vertical-align: middle;\n",
       "    }\n",
       "\n",
       "    .dataframe tbody tr th {\n",
       "        vertical-align: top;\n",
       "    }\n",
       "\n",
       "    .dataframe thead th {\n",
       "        text-align: right;\n",
       "    }\n",
       "</style>\n",
       "<table border=\"1\" class=\"dataframe\">\n",
       "  <thead>\n",
       "    <tr style=\"text-align: right;\">\n",
       "      <th></th>\n",
       "      <th>id</th>\n",
       "      <th>date</th>\n",
       "      <th>price</th>\n",
       "      <th>bedrooms</th>\n",
       "      <th>bathrooms</th>\n",
       "      <th>sqft_living</th>\n",
       "      <th>sqft_lot</th>\n",
       "      <th>floors</th>\n",
       "      <th>waterfront</th>\n",
       "      <th>view</th>\n",
       "      <th>...</th>\n",
       "      <th>grade</th>\n",
       "      <th>sqft_above</th>\n",
       "      <th>sqft_basement</th>\n",
       "      <th>yr_built</th>\n",
       "      <th>yr_renovated</th>\n",
       "      <th>zipcode</th>\n",
       "      <th>lat</th>\n",
       "      <th>long</th>\n",
       "      <th>sqft_living15</th>\n",
       "      <th>sqft_lot15</th>\n",
       "    </tr>\n",
       "  </thead>\n",
       "  <tbody>\n",
       "    <tr>\n",
       "      <th>0</th>\n",
       "      <td>7129300520</td>\n",
       "      <td>20141013T000000</td>\n",
       "      <td>221900.0</td>\n",
       "      <td>3</td>\n",
       "      <td>1.00</td>\n",
       "      <td>1180</td>\n",
       "      <td>5650</td>\n",
       "      <td>1.0</td>\n",
       "      <td>0</td>\n",
       "      <td>0</td>\n",
       "      <td>...</td>\n",
       "      <td>7</td>\n",
       "      <td>1180</td>\n",
       "      <td>0</td>\n",
       "      <td>1955</td>\n",
       "      <td>0</td>\n",
       "      <td>98178</td>\n",
       "      <td>47.5112</td>\n",
       "      <td>-122.257</td>\n",
       "      <td>1340</td>\n",
       "      <td>5650</td>\n",
       "    </tr>\n",
       "    <tr>\n",
       "      <th>1</th>\n",
       "      <td>6414100192</td>\n",
       "      <td>20141209T000000</td>\n",
       "      <td>538000.0</td>\n",
       "      <td>3</td>\n",
       "      <td>2.25</td>\n",
       "      <td>2570</td>\n",
       "      <td>7242</td>\n",
       "      <td>2.0</td>\n",
       "      <td>0</td>\n",
       "      <td>0</td>\n",
       "      <td>...</td>\n",
       "      <td>7</td>\n",
       "      <td>2170</td>\n",
       "      <td>400</td>\n",
       "      <td>1951</td>\n",
       "      <td>1991</td>\n",
       "      <td>98125</td>\n",
       "      <td>47.7210</td>\n",
       "      <td>-122.319</td>\n",
       "      <td>1690</td>\n",
       "      <td>7639</td>\n",
       "    </tr>\n",
       "    <tr>\n",
       "      <th>2</th>\n",
       "      <td>5631500400</td>\n",
       "      <td>20150225T000000</td>\n",
       "      <td>180000.0</td>\n",
       "      <td>2</td>\n",
       "      <td>1.00</td>\n",
       "      <td>770</td>\n",
       "      <td>10000</td>\n",
       "      <td>1.0</td>\n",
       "      <td>0</td>\n",
       "      <td>0</td>\n",
       "      <td>...</td>\n",
       "      <td>6</td>\n",
       "      <td>770</td>\n",
       "      <td>0</td>\n",
       "      <td>1933</td>\n",
       "      <td>0</td>\n",
       "      <td>98028</td>\n",
       "      <td>47.7379</td>\n",
       "      <td>-122.233</td>\n",
       "      <td>2720</td>\n",
       "      <td>8062</td>\n",
       "    </tr>\n",
       "    <tr>\n",
       "      <th>3</th>\n",
       "      <td>2487200875</td>\n",
       "      <td>20141209T000000</td>\n",
       "      <td>604000.0</td>\n",
       "      <td>4</td>\n",
       "      <td>3.00</td>\n",
       "      <td>1960</td>\n",
       "      <td>5000</td>\n",
       "      <td>1.0</td>\n",
       "      <td>0</td>\n",
       "      <td>0</td>\n",
       "      <td>...</td>\n",
       "      <td>7</td>\n",
       "      <td>1050</td>\n",
       "      <td>910</td>\n",
       "      <td>1965</td>\n",
       "      <td>0</td>\n",
       "      <td>98136</td>\n",
       "      <td>47.5208</td>\n",
       "      <td>-122.393</td>\n",
       "      <td>1360</td>\n",
       "      <td>5000</td>\n",
       "    </tr>\n",
       "    <tr>\n",
       "      <th>4</th>\n",
       "      <td>1954400510</td>\n",
       "      <td>20150218T000000</td>\n",
       "      <td>510000.0</td>\n",
       "      <td>3</td>\n",
       "      <td>2.00</td>\n",
       "      <td>1680</td>\n",
       "      <td>8080</td>\n",
       "      <td>1.0</td>\n",
       "      <td>0</td>\n",
       "      <td>0</td>\n",
       "      <td>...</td>\n",
       "      <td>8</td>\n",
       "      <td>1680</td>\n",
       "      <td>0</td>\n",
       "      <td>1987</td>\n",
       "      <td>0</td>\n",
       "      <td>98074</td>\n",
       "      <td>47.6168</td>\n",
       "      <td>-122.045</td>\n",
       "      <td>1800</td>\n",
       "      <td>7503</td>\n",
       "    </tr>\n",
       "  </tbody>\n",
       "</table>\n",
       "<p>5 rows × 21 columns</p>\n",
       "</div>"
      ],
      "text/plain": [
       "           id             date     price  bedrooms  bathrooms  sqft_living  \\\n",
       "0  7129300520  20141013T000000  221900.0         3       1.00         1180   \n",
       "1  6414100192  20141209T000000  538000.0         3       2.25         2570   \n",
       "2  5631500400  20150225T000000  180000.0         2       1.00          770   \n",
       "3  2487200875  20141209T000000  604000.0         4       3.00         1960   \n",
       "4  1954400510  20150218T000000  510000.0         3       2.00         1680   \n",
       "\n",
       "   sqft_lot  floors  waterfront  view  ...  grade  sqft_above  sqft_basement  \\\n",
       "0      5650     1.0           0     0  ...      7        1180              0   \n",
       "1      7242     2.0           0     0  ...      7        2170            400   \n",
       "2     10000     1.0           0     0  ...      6         770              0   \n",
       "3      5000     1.0           0     0  ...      7        1050            910   \n",
       "4      8080     1.0           0     0  ...      8        1680              0   \n",
       "\n",
       "   yr_built  yr_renovated  zipcode      lat     long  sqft_living15  \\\n",
       "0      1955             0    98178  47.5112 -122.257           1340   \n",
       "1      1951          1991    98125  47.7210 -122.319           1690   \n",
       "2      1933             0    98028  47.7379 -122.233           2720   \n",
       "3      1965             0    98136  47.5208 -122.393           1360   \n",
       "4      1987             0    98074  47.6168 -122.045           1800   \n",
       "\n",
       "   sqft_lot15  \n",
       "0        5650  \n",
       "1        7639  \n",
       "2        8062  \n",
       "3        5000  \n",
       "4        7503  \n",
       "\n",
       "[5 rows x 21 columns]"
      ]
     },
     "execution_count": 4,
     "metadata": {},
     "output_type": "execute_result"
    }
   ],
   "source": [
    "df = pd.read_csv(\"house_data.csv\")\n",
    "print(df.shape)\n",
    "df.head()"
   ]
  },
  {
   "cell_type": "code",
   "execution_count": 5,
   "metadata": {
    "scrolled": false
   },
   "outputs": [
    {
     "data": {
      "text/plain": [
       "Index(['id', 'date', 'price', 'bedrooms', 'bathrooms', 'sqft_living',\n",
       "       'sqft_lot', 'floors', 'waterfront', 'view', 'condition', 'grade',\n",
       "       'sqft_above', 'sqft_basement', 'yr_built', 'yr_renovated', 'zipcode',\n",
       "       'lat', 'long', 'sqft_living15', 'sqft_lot15'],\n",
       "      dtype='object')"
      ]
     },
     "execution_count": 5,
     "metadata": {},
     "output_type": "execute_result"
    }
   ],
   "source": [
    "df.columns"
   ]
  },
  {
   "cell_type": "code",
   "execution_count": 6,
   "metadata": {},
   "outputs": [
    {
     "data": {
      "text/html": [
       "<div>\n",
       "<style scoped>\n",
       "    .dataframe tbody tr th:only-of-type {\n",
       "        vertical-align: middle;\n",
       "    }\n",
       "\n",
       "    .dataframe tbody tr th {\n",
       "        vertical-align: top;\n",
       "    }\n",
       "\n",
       "    .dataframe thead th {\n",
       "        text-align: right;\n",
       "    }\n",
       "</style>\n",
       "<table border=\"1\" class=\"dataframe\">\n",
       "  <thead>\n",
       "    <tr style=\"text-align: right;\">\n",
       "      <th></th>\n",
       "      <th>count</th>\n",
       "      <th>mean</th>\n",
       "      <th>std</th>\n",
       "      <th>min</th>\n",
       "      <th>25%</th>\n",
       "      <th>50%</th>\n",
       "      <th>75%</th>\n",
       "      <th>max</th>\n",
       "    </tr>\n",
       "  </thead>\n",
       "  <tbody>\n",
       "    <tr>\n",
       "      <th>id</th>\n",
       "      <td>21613.0</td>\n",
       "      <td>4.580302e+09</td>\n",
       "      <td>2.876566e+09</td>\n",
       "      <td>1.000102e+06</td>\n",
       "      <td>2.123049e+09</td>\n",
       "      <td>3.904930e+09</td>\n",
       "      <td>7.308900e+09</td>\n",
       "      <td>9.900000e+09</td>\n",
       "    </tr>\n",
       "    <tr>\n",
       "      <th>price</th>\n",
       "      <td>21613.0</td>\n",
       "      <td>5.400881e+05</td>\n",
       "      <td>3.671272e+05</td>\n",
       "      <td>7.500000e+04</td>\n",
       "      <td>3.219500e+05</td>\n",
       "      <td>4.500000e+05</td>\n",
       "      <td>6.450000e+05</td>\n",
       "      <td>7.700000e+06</td>\n",
       "    </tr>\n",
       "    <tr>\n",
       "      <th>bedrooms</th>\n",
       "      <td>21613.0</td>\n",
       "      <td>3.370842e+00</td>\n",
       "      <td>9.300618e-01</td>\n",
       "      <td>0.000000e+00</td>\n",
       "      <td>3.000000e+00</td>\n",
       "      <td>3.000000e+00</td>\n",
       "      <td>4.000000e+00</td>\n",
       "      <td>3.300000e+01</td>\n",
       "    </tr>\n",
       "    <tr>\n",
       "      <th>bathrooms</th>\n",
       "      <td>21613.0</td>\n",
       "      <td>2.114757e+00</td>\n",
       "      <td>7.701632e-01</td>\n",
       "      <td>0.000000e+00</td>\n",
       "      <td>1.750000e+00</td>\n",
       "      <td>2.250000e+00</td>\n",
       "      <td>2.500000e+00</td>\n",
       "      <td>8.000000e+00</td>\n",
       "    </tr>\n",
       "    <tr>\n",
       "      <th>sqft_living</th>\n",
       "      <td>21613.0</td>\n",
       "      <td>2.079900e+03</td>\n",
       "      <td>9.184409e+02</td>\n",
       "      <td>2.900000e+02</td>\n",
       "      <td>1.427000e+03</td>\n",
       "      <td>1.910000e+03</td>\n",
       "      <td>2.550000e+03</td>\n",
       "      <td>1.354000e+04</td>\n",
       "    </tr>\n",
       "    <tr>\n",
       "      <th>sqft_lot</th>\n",
       "      <td>21613.0</td>\n",
       "      <td>1.510697e+04</td>\n",
       "      <td>4.142051e+04</td>\n",
       "      <td>5.200000e+02</td>\n",
       "      <td>5.040000e+03</td>\n",
       "      <td>7.618000e+03</td>\n",
       "      <td>1.068800e+04</td>\n",
       "      <td>1.651359e+06</td>\n",
       "    </tr>\n",
       "    <tr>\n",
       "      <th>floors</th>\n",
       "      <td>21613.0</td>\n",
       "      <td>1.494309e+00</td>\n",
       "      <td>5.399889e-01</td>\n",
       "      <td>1.000000e+00</td>\n",
       "      <td>1.000000e+00</td>\n",
       "      <td>1.500000e+00</td>\n",
       "      <td>2.000000e+00</td>\n",
       "      <td>3.500000e+00</td>\n",
       "    </tr>\n",
       "    <tr>\n",
       "      <th>waterfront</th>\n",
       "      <td>21613.0</td>\n",
       "      <td>7.541757e-03</td>\n",
       "      <td>8.651720e-02</td>\n",
       "      <td>0.000000e+00</td>\n",
       "      <td>0.000000e+00</td>\n",
       "      <td>0.000000e+00</td>\n",
       "      <td>0.000000e+00</td>\n",
       "      <td>1.000000e+00</td>\n",
       "    </tr>\n",
       "    <tr>\n",
       "      <th>view</th>\n",
       "      <td>21613.0</td>\n",
       "      <td>2.343034e-01</td>\n",
       "      <td>7.663176e-01</td>\n",
       "      <td>0.000000e+00</td>\n",
       "      <td>0.000000e+00</td>\n",
       "      <td>0.000000e+00</td>\n",
       "      <td>0.000000e+00</td>\n",
       "      <td>4.000000e+00</td>\n",
       "    </tr>\n",
       "    <tr>\n",
       "      <th>condition</th>\n",
       "      <td>21613.0</td>\n",
       "      <td>3.409430e+00</td>\n",
       "      <td>6.507430e-01</td>\n",
       "      <td>1.000000e+00</td>\n",
       "      <td>3.000000e+00</td>\n",
       "      <td>3.000000e+00</td>\n",
       "      <td>4.000000e+00</td>\n",
       "      <td>5.000000e+00</td>\n",
       "    </tr>\n",
       "    <tr>\n",
       "      <th>grade</th>\n",
       "      <td>21613.0</td>\n",
       "      <td>7.656873e+00</td>\n",
       "      <td>1.175459e+00</td>\n",
       "      <td>1.000000e+00</td>\n",
       "      <td>7.000000e+00</td>\n",
       "      <td>7.000000e+00</td>\n",
       "      <td>8.000000e+00</td>\n",
       "      <td>1.300000e+01</td>\n",
       "    </tr>\n",
       "    <tr>\n",
       "      <th>sqft_above</th>\n",
       "      <td>21613.0</td>\n",
       "      <td>1.788391e+03</td>\n",
       "      <td>8.280910e+02</td>\n",
       "      <td>2.900000e+02</td>\n",
       "      <td>1.190000e+03</td>\n",
       "      <td>1.560000e+03</td>\n",
       "      <td>2.210000e+03</td>\n",
       "      <td>9.410000e+03</td>\n",
       "    </tr>\n",
       "    <tr>\n",
       "      <th>sqft_basement</th>\n",
       "      <td>21613.0</td>\n",
       "      <td>2.915090e+02</td>\n",
       "      <td>4.425750e+02</td>\n",
       "      <td>0.000000e+00</td>\n",
       "      <td>0.000000e+00</td>\n",
       "      <td>0.000000e+00</td>\n",
       "      <td>5.600000e+02</td>\n",
       "      <td>4.820000e+03</td>\n",
       "    </tr>\n",
       "    <tr>\n",
       "      <th>yr_built</th>\n",
       "      <td>21613.0</td>\n",
       "      <td>1.971005e+03</td>\n",
       "      <td>2.937341e+01</td>\n",
       "      <td>1.900000e+03</td>\n",
       "      <td>1.951000e+03</td>\n",
       "      <td>1.975000e+03</td>\n",
       "      <td>1.997000e+03</td>\n",
       "      <td>2.015000e+03</td>\n",
       "    </tr>\n",
       "    <tr>\n",
       "      <th>yr_renovated</th>\n",
       "      <td>21613.0</td>\n",
       "      <td>8.440226e+01</td>\n",
       "      <td>4.016792e+02</td>\n",
       "      <td>0.000000e+00</td>\n",
       "      <td>0.000000e+00</td>\n",
       "      <td>0.000000e+00</td>\n",
       "      <td>0.000000e+00</td>\n",
       "      <td>2.015000e+03</td>\n",
       "    </tr>\n",
       "    <tr>\n",
       "      <th>zipcode</th>\n",
       "      <td>21613.0</td>\n",
       "      <td>9.807794e+04</td>\n",
       "      <td>5.350503e+01</td>\n",
       "      <td>9.800100e+04</td>\n",
       "      <td>9.803300e+04</td>\n",
       "      <td>9.806500e+04</td>\n",
       "      <td>9.811800e+04</td>\n",
       "      <td>9.819900e+04</td>\n",
       "    </tr>\n",
       "    <tr>\n",
       "      <th>lat</th>\n",
       "      <td>21613.0</td>\n",
       "      <td>4.756005e+01</td>\n",
       "      <td>1.385637e-01</td>\n",
       "      <td>4.715590e+01</td>\n",
       "      <td>4.747100e+01</td>\n",
       "      <td>4.757180e+01</td>\n",
       "      <td>4.767800e+01</td>\n",
       "      <td>4.777760e+01</td>\n",
       "    </tr>\n",
       "    <tr>\n",
       "      <th>long</th>\n",
       "      <td>21613.0</td>\n",
       "      <td>-1.222139e+02</td>\n",
       "      <td>1.408283e-01</td>\n",
       "      <td>-1.225190e+02</td>\n",
       "      <td>-1.223280e+02</td>\n",
       "      <td>-1.222300e+02</td>\n",
       "      <td>-1.221250e+02</td>\n",
       "      <td>-1.213150e+02</td>\n",
       "    </tr>\n",
       "    <tr>\n",
       "      <th>sqft_living15</th>\n",
       "      <td>21613.0</td>\n",
       "      <td>1.986552e+03</td>\n",
       "      <td>6.853913e+02</td>\n",
       "      <td>3.990000e+02</td>\n",
       "      <td>1.490000e+03</td>\n",
       "      <td>1.840000e+03</td>\n",
       "      <td>2.360000e+03</td>\n",
       "      <td>6.210000e+03</td>\n",
       "    </tr>\n",
       "    <tr>\n",
       "      <th>sqft_lot15</th>\n",
       "      <td>21613.0</td>\n",
       "      <td>1.276846e+04</td>\n",
       "      <td>2.730418e+04</td>\n",
       "      <td>6.510000e+02</td>\n",
       "      <td>5.100000e+03</td>\n",
       "      <td>7.620000e+03</td>\n",
       "      <td>1.008300e+04</td>\n",
       "      <td>8.712000e+05</td>\n",
       "    </tr>\n",
       "  </tbody>\n",
       "</table>\n",
       "</div>"
      ],
      "text/plain": [
       "                 count          mean           std           min  \\\n",
       "id             21613.0  4.580302e+09  2.876566e+09  1.000102e+06   \n",
       "price          21613.0  5.400881e+05  3.671272e+05  7.500000e+04   \n",
       "bedrooms       21613.0  3.370842e+00  9.300618e-01  0.000000e+00   \n",
       "bathrooms      21613.0  2.114757e+00  7.701632e-01  0.000000e+00   \n",
       "sqft_living    21613.0  2.079900e+03  9.184409e+02  2.900000e+02   \n",
       "sqft_lot       21613.0  1.510697e+04  4.142051e+04  5.200000e+02   \n",
       "floors         21613.0  1.494309e+00  5.399889e-01  1.000000e+00   \n",
       "waterfront     21613.0  7.541757e-03  8.651720e-02  0.000000e+00   \n",
       "view           21613.0  2.343034e-01  7.663176e-01  0.000000e+00   \n",
       "condition      21613.0  3.409430e+00  6.507430e-01  1.000000e+00   \n",
       "grade          21613.0  7.656873e+00  1.175459e+00  1.000000e+00   \n",
       "sqft_above     21613.0  1.788391e+03  8.280910e+02  2.900000e+02   \n",
       "sqft_basement  21613.0  2.915090e+02  4.425750e+02  0.000000e+00   \n",
       "yr_built       21613.0  1.971005e+03  2.937341e+01  1.900000e+03   \n",
       "yr_renovated   21613.0  8.440226e+01  4.016792e+02  0.000000e+00   \n",
       "zipcode        21613.0  9.807794e+04  5.350503e+01  9.800100e+04   \n",
       "lat            21613.0  4.756005e+01  1.385637e-01  4.715590e+01   \n",
       "long           21613.0 -1.222139e+02  1.408283e-01 -1.225190e+02   \n",
       "sqft_living15  21613.0  1.986552e+03  6.853913e+02  3.990000e+02   \n",
       "sqft_lot15     21613.0  1.276846e+04  2.730418e+04  6.510000e+02   \n",
       "\n",
       "                        25%           50%           75%           max  \n",
       "id             2.123049e+09  3.904930e+09  7.308900e+09  9.900000e+09  \n",
       "price          3.219500e+05  4.500000e+05  6.450000e+05  7.700000e+06  \n",
       "bedrooms       3.000000e+00  3.000000e+00  4.000000e+00  3.300000e+01  \n",
       "bathrooms      1.750000e+00  2.250000e+00  2.500000e+00  8.000000e+00  \n",
       "sqft_living    1.427000e+03  1.910000e+03  2.550000e+03  1.354000e+04  \n",
       "sqft_lot       5.040000e+03  7.618000e+03  1.068800e+04  1.651359e+06  \n",
       "floors         1.000000e+00  1.500000e+00  2.000000e+00  3.500000e+00  \n",
       "waterfront     0.000000e+00  0.000000e+00  0.000000e+00  1.000000e+00  \n",
       "view           0.000000e+00  0.000000e+00  0.000000e+00  4.000000e+00  \n",
       "condition      3.000000e+00  3.000000e+00  4.000000e+00  5.000000e+00  \n",
       "grade          7.000000e+00  7.000000e+00  8.000000e+00  1.300000e+01  \n",
       "sqft_above     1.190000e+03  1.560000e+03  2.210000e+03  9.410000e+03  \n",
       "sqft_basement  0.000000e+00  0.000000e+00  5.600000e+02  4.820000e+03  \n",
       "yr_built       1.951000e+03  1.975000e+03  1.997000e+03  2.015000e+03  \n",
       "yr_renovated   0.000000e+00  0.000000e+00  0.000000e+00  2.015000e+03  \n",
       "zipcode        9.803300e+04  9.806500e+04  9.811800e+04  9.819900e+04  \n",
       "lat            4.747100e+01  4.757180e+01  4.767800e+01  4.777760e+01  \n",
       "long          -1.223280e+02 -1.222300e+02 -1.221250e+02 -1.213150e+02  \n",
       "sqft_living15  1.490000e+03  1.840000e+03  2.360000e+03  6.210000e+03  \n",
       "sqft_lot15     5.100000e+03  7.620000e+03  1.008300e+04  8.712000e+05  "
      ]
     },
     "execution_count": 6,
     "metadata": {},
     "output_type": "execute_result"
    }
   ],
   "source": [
    "df.describe().T"
   ]
  },
  {
   "cell_type": "markdown",
   "metadata": {},
   "source": [
    "## Removing Outliers"
   ]
  },
  {
   "cell_type": "code",
   "execution_count": 7,
   "metadata": {
    "scrolled": true
   },
   "outputs": [
    {
     "name": "stdout",
     "output_type": "stream",
     "text": [
      "(21613, 14)\n"
     ]
    },
    {
     "data": {
      "text/html": [
       "<div>\n",
       "<style scoped>\n",
       "    .dataframe tbody tr th:only-of-type {\n",
       "        vertical-align: middle;\n",
       "    }\n",
       "\n",
       "    .dataframe tbody tr th {\n",
       "        vertical-align: top;\n",
       "    }\n",
       "\n",
       "    .dataframe thead th {\n",
       "        text-align: right;\n",
       "    }\n",
       "</style>\n",
       "<table border=\"1\" class=\"dataframe\">\n",
       "  <thead>\n",
       "    <tr style=\"text-align: right;\">\n",
       "      <th></th>\n",
       "      <th>price</th>\n",
       "      <th>bedrooms</th>\n",
       "      <th>bathrooms</th>\n",
       "      <th>sqft_living</th>\n",
       "      <th>sqft_lot</th>\n",
       "      <th>condition</th>\n",
       "      <th>grade</th>\n",
       "      <th>sqft_above</th>\n",
       "      <th>yr_built</th>\n",
       "      <th>zipcode</th>\n",
       "      <th>lat</th>\n",
       "      <th>long</th>\n",
       "      <th>sqft_living15</th>\n",
       "      <th>sqft_lot15</th>\n",
       "    </tr>\n",
       "  </thead>\n",
       "  <tbody>\n",
       "    <tr>\n",
       "      <th>0</th>\n",
       "      <td>221900.0</td>\n",
       "      <td>3</td>\n",
       "      <td>1.00</td>\n",
       "      <td>1180</td>\n",
       "      <td>5650</td>\n",
       "      <td>3</td>\n",
       "      <td>7</td>\n",
       "      <td>1180</td>\n",
       "      <td>1955</td>\n",
       "      <td>98178</td>\n",
       "      <td>47.5112</td>\n",
       "      <td>-122.257</td>\n",
       "      <td>1340</td>\n",
       "      <td>5650</td>\n",
       "    </tr>\n",
       "    <tr>\n",
       "      <th>1</th>\n",
       "      <td>538000.0</td>\n",
       "      <td>3</td>\n",
       "      <td>2.25</td>\n",
       "      <td>2570</td>\n",
       "      <td>7242</td>\n",
       "      <td>3</td>\n",
       "      <td>7</td>\n",
       "      <td>2170</td>\n",
       "      <td>1951</td>\n",
       "      <td>98125</td>\n",
       "      <td>47.7210</td>\n",
       "      <td>-122.319</td>\n",
       "      <td>1690</td>\n",
       "      <td>7639</td>\n",
       "    </tr>\n",
       "    <tr>\n",
       "      <th>2</th>\n",
       "      <td>180000.0</td>\n",
       "      <td>2</td>\n",
       "      <td>1.00</td>\n",
       "      <td>770</td>\n",
       "      <td>10000</td>\n",
       "      <td>3</td>\n",
       "      <td>6</td>\n",
       "      <td>770</td>\n",
       "      <td>1933</td>\n",
       "      <td>98028</td>\n",
       "      <td>47.7379</td>\n",
       "      <td>-122.233</td>\n",
       "      <td>2720</td>\n",
       "      <td>8062</td>\n",
       "    </tr>\n",
       "    <tr>\n",
       "      <th>3</th>\n",
       "      <td>604000.0</td>\n",
       "      <td>4</td>\n",
       "      <td>3.00</td>\n",
       "      <td>1960</td>\n",
       "      <td>5000</td>\n",
       "      <td>5</td>\n",
       "      <td>7</td>\n",
       "      <td>1050</td>\n",
       "      <td>1965</td>\n",
       "      <td>98136</td>\n",
       "      <td>47.5208</td>\n",
       "      <td>-122.393</td>\n",
       "      <td>1360</td>\n",
       "      <td>5000</td>\n",
       "    </tr>\n",
       "    <tr>\n",
       "      <th>4</th>\n",
       "      <td>510000.0</td>\n",
       "      <td>3</td>\n",
       "      <td>2.00</td>\n",
       "      <td>1680</td>\n",
       "      <td>8080</td>\n",
       "      <td>3</td>\n",
       "      <td>8</td>\n",
       "      <td>1680</td>\n",
       "      <td>1987</td>\n",
       "      <td>98074</td>\n",
       "      <td>47.6168</td>\n",
       "      <td>-122.045</td>\n",
       "      <td>1800</td>\n",
       "      <td>7503</td>\n",
       "    </tr>\n",
       "  </tbody>\n",
       "</table>\n",
       "</div>"
      ],
      "text/plain": [
       "      price  bedrooms  bathrooms  sqft_living  sqft_lot  condition  grade  \\\n",
       "0  221900.0         3       1.00         1180      5650          3      7   \n",
       "1  538000.0         3       2.25         2570      7242          3      7   \n",
       "2  180000.0         2       1.00          770     10000          3      6   \n",
       "3  604000.0         4       3.00         1960      5000          5      7   \n",
       "4  510000.0         3       2.00         1680      8080          3      8   \n",
       "\n",
       "   sqft_above  yr_built  zipcode      lat     long  sqft_living15  sqft_lot15  \n",
       "0        1180      1955    98178  47.5112 -122.257           1340        5650  \n",
       "1        2170      1951    98125  47.7210 -122.319           1690        7639  \n",
       "2         770      1933    98028  47.7379 -122.233           2720        8062  \n",
       "3        1050      1965    98136  47.5208 -122.393           1360        5000  \n",
       "4        1680      1987    98074  47.6168 -122.045           1800        7503  "
      ]
     },
     "execution_count": 7,
     "metadata": {},
     "output_type": "execute_result"
    }
   ],
   "source": [
    "df = df.drop(['date','id','floors','waterfront','view','sqft_basement','yr_renovated'],axis=1)\n",
    "print(df.shape)\n",
    "df.head()"
   ]
  },
  {
   "cell_type": "code",
   "execution_count": 8,
   "metadata": {},
   "outputs": [
    {
     "data": {
      "text/html": [
       "<div>\n",
       "<style scoped>\n",
       "    .dataframe tbody tr th:only-of-type {\n",
       "        vertical-align: middle;\n",
       "    }\n",
       "\n",
       "    .dataframe tbody tr th {\n",
       "        vertical-align: top;\n",
       "    }\n",
       "\n",
       "    .dataframe thead th {\n",
       "        text-align: right;\n",
       "    }\n",
       "</style>\n",
       "<table border=\"1\" class=\"dataframe\">\n",
       "  <thead>\n",
       "    <tr style=\"text-align: right;\">\n",
       "      <th></th>\n",
       "      <th>price</th>\n",
       "      <th>bedrooms</th>\n",
       "      <th>bathrooms</th>\n",
       "      <th>sqft_living</th>\n",
       "      <th>sqft_lot</th>\n",
       "      <th>condition</th>\n",
       "      <th>grade</th>\n",
       "      <th>sqft_above</th>\n",
       "      <th>yr_built</th>\n",
       "      <th>zipcode</th>\n",
       "      <th>...</th>\n",
       "      <th>sqft_lot zscore</th>\n",
       "      <th>condition zscore</th>\n",
       "      <th>grade zscore</th>\n",
       "      <th>sqft_above zscore</th>\n",
       "      <th>yr_built zscore</th>\n",
       "      <th>zipcode zscore</th>\n",
       "      <th>lat zscore</th>\n",
       "      <th>long zscore</th>\n",
       "      <th>sqft_living15 zscore</th>\n",
       "      <th>sqft_lot15 zscore</th>\n",
       "    </tr>\n",
       "  </thead>\n",
       "  <tbody>\n",
       "    <tr>\n",
       "      <th>0</th>\n",
       "      <td>221900.0</td>\n",
       "      <td>3</td>\n",
       "      <td>1.00</td>\n",
       "      <td>1180</td>\n",
       "      <td>5650</td>\n",
       "      <td>3</td>\n",
       "      <td>7</td>\n",
       "      <td>1180</td>\n",
       "      <td>1955</td>\n",
       "      <td>98178</td>\n",
       "      <td>...</td>\n",
       "      <td>-0.228316</td>\n",
       "      <td>-0.629172</td>\n",
       "      <td>-0.558823</td>\n",
       "      <td>-0.734691</td>\n",
       "      <td>-0.544885</td>\n",
       "      <td>1.870108</td>\n",
       "      <td>-0.352564</td>\n",
       "      <td>-0.306072</td>\n",
       "      <td>-0.943333</td>\n",
       "      <td>-0.260709</td>\n",
       "    </tr>\n",
       "    <tr>\n",
       "      <th>1</th>\n",
       "      <td>538000.0</td>\n",
       "      <td>3</td>\n",
       "      <td>2.25</td>\n",
       "      <td>2570</td>\n",
       "      <td>7242</td>\n",
       "      <td>3</td>\n",
       "      <td>7</td>\n",
       "      <td>2170</td>\n",
       "      <td>1951</td>\n",
       "      <td>98125</td>\n",
       "      <td>...</td>\n",
       "      <td>-0.189881</td>\n",
       "      <td>-0.629172</td>\n",
       "      <td>-0.558823</td>\n",
       "      <td>0.460830</td>\n",
       "      <td>-0.681063</td>\n",
       "      <td>0.879547</td>\n",
       "      <td>1.161541</td>\n",
       "      <td>-0.746324</td>\n",
       "      <td>-0.432676</td>\n",
       "      <td>-0.187863</td>\n",
       "    </tr>\n",
       "    <tr>\n",
       "      <th>2</th>\n",
       "      <td>180000.0</td>\n",
       "      <td>2</td>\n",
       "      <td>1.00</td>\n",
       "      <td>770</td>\n",
       "      <td>10000</td>\n",
       "      <td>3</td>\n",
       "      <td>6</td>\n",
       "      <td>770</td>\n",
       "      <td>1933</td>\n",
       "      <td>98028</td>\n",
       "      <td>...</td>\n",
       "      <td>-0.123296</td>\n",
       "      <td>-0.629172</td>\n",
       "      <td>-1.409554</td>\n",
       "      <td>-1.229805</td>\n",
       "      <td>-1.293862</td>\n",
       "      <td>-0.933367</td>\n",
       "      <td>1.283507</td>\n",
       "      <td>-0.135652</td>\n",
       "      <td>1.070115</td>\n",
       "      <td>-0.172371</td>\n",
       "    </tr>\n",
       "    <tr>\n",
       "      <th>3</th>\n",
       "      <td>604000.0</td>\n",
       "      <td>4</td>\n",
       "      <td>3.00</td>\n",
       "      <td>1960</td>\n",
       "      <td>5000</td>\n",
       "      <td>5</td>\n",
       "      <td>7</td>\n",
       "      <td>1050</td>\n",
       "      <td>1965</td>\n",
       "      <td>98136</td>\n",
       "      <td>...</td>\n",
       "      <td>-0.244009</td>\n",
       "      <td>2.444237</td>\n",
       "      <td>-0.558823</td>\n",
       "      <td>-0.891678</td>\n",
       "      <td>-0.204441</td>\n",
       "      <td>1.085135</td>\n",
       "      <td>-0.283281</td>\n",
       "      <td>-1.271787</td>\n",
       "      <td>-0.914153</td>\n",
       "      <td>-0.284515</td>\n",
       "    </tr>\n",
       "    <tr>\n",
       "      <th>4</th>\n",
       "      <td>510000.0</td>\n",
       "      <td>3</td>\n",
       "      <td>2.00</td>\n",
       "      <td>1680</td>\n",
       "      <td>8080</td>\n",
       "      <td>3</td>\n",
       "      <td>8</td>\n",
       "      <td>1680</td>\n",
       "      <td>1987</td>\n",
       "      <td>98074</td>\n",
       "      <td>...</td>\n",
       "      <td>-0.169649</td>\n",
       "      <td>-0.629172</td>\n",
       "      <td>0.291909</td>\n",
       "      <td>-0.130892</td>\n",
       "      <td>0.544535</td>\n",
       "      <td>-0.073634</td>\n",
       "      <td>0.409541</td>\n",
       "      <td>1.199307</td>\n",
       "      <td>-0.272184</td>\n",
       "      <td>-0.192844</td>\n",
       "    </tr>\n",
       "  </tbody>\n",
       "</table>\n",
       "<p>5 rows × 28 columns</p>\n",
       "</div>"
      ],
      "text/plain": [
       "      price  bedrooms  bathrooms  sqft_living  sqft_lot  condition  grade  \\\n",
       "0  221900.0         3       1.00         1180      5650          3      7   \n",
       "1  538000.0         3       2.25         2570      7242          3      7   \n",
       "2  180000.0         2       1.00          770     10000          3      6   \n",
       "3  604000.0         4       3.00         1960      5000          5      7   \n",
       "4  510000.0         3       2.00         1680      8080          3      8   \n",
       "\n",
       "   sqft_above  yr_built  zipcode  ...  sqft_lot zscore  condition zscore  \\\n",
       "0        1180      1955    98178  ...        -0.228316         -0.629172   \n",
       "1        2170      1951    98125  ...        -0.189881         -0.629172   \n",
       "2         770      1933    98028  ...        -0.123296         -0.629172   \n",
       "3        1050      1965    98136  ...        -0.244009          2.444237   \n",
       "4        1680      1987    98074  ...        -0.169649         -0.629172   \n",
       "\n",
       "   grade zscore  sqft_above zscore  yr_built zscore  zipcode zscore  \\\n",
       "0     -0.558823          -0.734691        -0.544885        1.870108   \n",
       "1     -0.558823           0.460830        -0.681063        0.879547   \n",
       "2     -1.409554          -1.229805        -1.293862       -0.933367   \n",
       "3     -0.558823          -0.891678        -0.204441        1.085135   \n",
       "4      0.291909          -0.130892         0.544535       -0.073634   \n",
       "\n",
       "   lat zscore  long zscore  sqft_living15 zscore  sqft_lot15 zscore  \n",
       "0   -0.352564    -0.306072             -0.943333          -0.260709  \n",
       "1    1.161541    -0.746324             -0.432676          -0.187863  \n",
       "2    1.283507    -0.135652              1.070115          -0.172371  \n",
       "3   -0.283281    -1.271787             -0.914153          -0.284515  \n",
       "4    0.409541     1.199307             -0.272184          -0.192844  \n",
       "\n",
       "[5 rows x 28 columns]"
      ]
     },
     "execution_count": 8,
     "metadata": {},
     "output_type": "execute_result"
    }
   ],
   "source": [
    "comp = df.copy()\n",
    "for i in df.columns:\n",
    "    comp[str(i)+' zscore'] = ( df[i] - df[i].mean() ) / df[i].std()\n",
    "comp.head()"
   ]
  },
  {
   "cell_type": "code",
   "execution_count": 9,
   "metadata": {
    "scrolled": true
   },
   "outputs": [
    {
     "data": {
      "text/plain": [
       "Index(['price', 'bedrooms', 'bathrooms', 'sqft_living', 'sqft_lot',\n",
       "       'condition', 'grade', 'sqft_above', 'yr_built', 'zipcode', 'lat',\n",
       "       'long', 'sqft_living15', 'sqft_lot15'],\n",
       "      dtype='object')"
      ]
     },
     "execution_count": 9,
     "metadata": {},
     "output_type": "execute_result"
    }
   ],
   "source": [
    "df.columns"
   ]
  },
  {
   "cell_type": "code",
   "execution_count": 10,
   "metadata": {
    "scrolled": true
   },
   "outputs": [
    {
     "data": {
      "text/plain": [
       "Index(['price', 'bedrooms', 'bathrooms', 'sqft_living', 'sqft_lot',\n",
       "       'condition', 'grade', 'sqft_above', 'yr_built', 'zipcode', 'lat',\n",
       "       'long', 'sqft_living15', 'sqft_lot15', 'price zscore',\n",
       "       'bedrooms zscore', 'bathrooms zscore', 'sqft_living zscore',\n",
       "       'sqft_lot zscore', 'condition zscore', 'grade zscore',\n",
       "       'sqft_above zscore', 'yr_built zscore', 'zipcode zscore', 'lat zscore',\n",
       "       'long zscore', 'sqft_living15 zscore', 'sqft_lot15 zscore'],\n",
       "      dtype='object')"
      ]
     },
     "execution_count": 10,
     "metadata": {},
     "output_type": "execute_result"
    }
   ],
   "source": [
    "comp.columns"
   ]
  },
  {
   "cell_type": "code",
   "execution_count": 11,
   "metadata": {
    "scrolled": false
   },
   "outputs": [
    {
     "name": "stdout",
     "output_type": "stream",
     "text": [
      "(20105, 28)\n"
     ]
    },
    {
     "data": {
      "text/html": [
       "<div>\n",
       "<style scoped>\n",
       "    .dataframe tbody tr th:only-of-type {\n",
       "        vertical-align: middle;\n",
       "    }\n",
       "\n",
       "    .dataframe tbody tr th {\n",
       "        vertical-align: top;\n",
       "    }\n",
       "\n",
       "    .dataframe thead th {\n",
       "        text-align: right;\n",
       "    }\n",
       "</style>\n",
       "<table border=\"1\" class=\"dataframe\">\n",
       "  <thead>\n",
       "    <tr style=\"text-align: right;\">\n",
       "      <th></th>\n",
       "      <th>price</th>\n",
       "      <th>bedrooms</th>\n",
       "      <th>bathrooms</th>\n",
       "      <th>sqft_living</th>\n",
       "      <th>sqft_lot</th>\n",
       "      <th>condition</th>\n",
       "      <th>grade</th>\n",
       "      <th>sqft_above</th>\n",
       "      <th>yr_built</th>\n",
       "      <th>zipcode</th>\n",
       "      <th>...</th>\n",
       "      <th>sqft_lot zscore</th>\n",
       "      <th>condition zscore</th>\n",
       "      <th>grade zscore</th>\n",
       "      <th>sqft_above zscore</th>\n",
       "      <th>yr_built zscore</th>\n",
       "      <th>zipcode zscore</th>\n",
       "      <th>lat zscore</th>\n",
       "      <th>long zscore</th>\n",
       "      <th>sqft_living15 zscore</th>\n",
       "      <th>sqft_lot15 zscore</th>\n",
       "    </tr>\n",
       "  </thead>\n",
       "  <tbody>\n",
       "    <tr>\n",
       "      <th>0</th>\n",
       "      <td>221900.0</td>\n",
       "      <td>3</td>\n",
       "      <td>1.00</td>\n",
       "      <td>1180</td>\n",
       "      <td>5650</td>\n",
       "      <td>3</td>\n",
       "      <td>7</td>\n",
       "      <td>1180</td>\n",
       "      <td>1955</td>\n",
       "      <td>98178</td>\n",
       "      <td>...</td>\n",
       "      <td>-0.228316</td>\n",
       "      <td>-0.629172</td>\n",
       "      <td>-0.558823</td>\n",
       "      <td>-0.734691</td>\n",
       "      <td>-0.544885</td>\n",
       "      <td>1.870108</td>\n",
       "      <td>-0.352564</td>\n",
       "      <td>-0.306072</td>\n",
       "      <td>-0.943333</td>\n",
       "      <td>-0.260709</td>\n",
       "    </tr>\n",
       "    <tr>\n",
       "      <th>1</th>\n",
       "      <td>538000.0</td>\n",
       "      <td>3</td>\n",
       "      <td>2.25</td>\n",
       "      <td>2570</td>\n",
       "      <td>7242</td>\n",
       "      <td>3</td>\n",
       "      <td>7</td>\n",
       "      <td>2170</td>\n",
       "      <td>1951</td>\n",
       "      <td>98125</td>\n",
       "      <td>...</td>\n",
       "      <td>-0.189881</td>\n",
       "      <td>-0.629172</td>\n",
       "      <td>-0.558823</td>\n",
       "      <td>0.460830</td>\n",
       "      <td>-0.681063</td>\n",
       "      <td>0.879547</td>\n",
       "      <td>1.161541</td>\n",
       "      <td>-0.746324</td>\n",
       "      <td>-0.432676</td>\n",
       "      <td>-0.187863</td>\n",
       "    </tr>\n",
       "    <tr>\n",
       "      <th>2</th>\n",
       "      <td>180000.0</td>\n",
       "      <td>2</td>\n",
       "      <td>1.00</td>\n",
       "      <td>770</td>\n",
       "      <td>10000</td>\n",
       "      <td>3</td>\n",
       "      <td>6</td>\n",
       "      <td>770</td>\n",
       "      <td>1933</td>\n",
       "      <td>98028</td>\n",
       "      <td>...</td>\n",
       "      <td>-0.123296</td>\n",
       "      <td>-0.629172</td>\n",
       "      <td>-1.409554</td>\n",
       "      <td>-1.229805</td>\n",
       "      <td>-1.293862</td>\n",
       "      <td>-0.933367</td>\n",
       "      <td>1.283507</td>\n",
       "      <td>-0.135652</td>\n",
       "      <td>1.070115</td>\n",
       "      <td>-0.172371</td>\n",
       "    </tr>\n",
       "    <tr>\n",
       "      <th>3</th>\n",
       "      <td>604000.0</td>\n",
       "      <td>4</td>\n",
       "      <td>3.00</td>\n",
       "      <td>1960</td>\n",
       "      <td>5000</td>\n",
       "      <td>5</td>\n",
       "      <td>7</td>\n",
       "      <td>1050</td>\n",
       "      <td>1965</td>\n",
       "      <td>98136</td>\n",
       "      <td>...</td>\n",
       "      <td>-0.244009</td>\n",
       "      <td>2.444237</td>\n",
       "      <td>-0.558823</td>\n",
       "      <td>-0.891678</td>\n",
       "      <td>-0.204441</td>\n",
       "      <td>1.085135</td>\n",
       "      <td>-0.283281</td>\n",
       "      <td>-1.271787</td>\n",
       "      <td>-0.914153</td>\n",
       "      <td>-0.284515</td>\n",
       "    </tr>\n",
       "    <tr>\n",
       "      <th>4</th>\n",
       "      <td>510000.0</td>\n",
       "      <td>3</td>\n",
       "      <td>2.00</td>\n",
       "      <td>1680</td>\n",
       "      <td>8080</td>\n",
       "      <td>3</td>\n",
       "      <td>8</td>\n",
       "      <td>1680</td>\n",
       "      <td>1987</td>\n",
       "      <td>98074</td>\n",
       "      <td>...</td>\n",
       "      <td>-0.169649</td>\n",
       "      <td>-0.629172</td>\n",
       "      <td>0.291909</td>\n",
       "      <td>-0.130892</td>\n",
       "      <td>0.544535</td>\n",
       "      <td>-0.073634</td>\n",
       "      <td>0.409541</td>\n",
       "      <td>1.199307</td>\n",
       "      <td>-0.272184</td>\n",
       "      <td>-0.192844</td>\n",
       "    </tr>\n",
       "  </tbody>\n",
       "</table>\n",
       "<p>5 rows × 28 columns</p>\n",
       "</div>"
      ],
      "text/plain": [
       "      price  bedrooms  bathrooms  sqft_living  sqft_lot  condition  grade  \\\n",
       "0  221900.0         3       1.00         1180      5650          3      7   \n",
       "1  538000.0         3       2.25         2570      7242          3      7   \n",
       "2  180000.0         2       1.00          770     10000          3      6   \n",
       "3  604000.0         4       3.00         1960      5000          5      7   \n",
       "4  510000.0         3       2.00         1680      8080          3      8   \n",
       "\n",
       "   sqft_above  yr_built  zipcode  ...  sqft_lot zscore  condition zscore  \\\n",
       "0        1180      1955    98178  ...        -0.228316         -0.629172   \n",
       "1        2170      1951    98125  ...        -0.189881         -0.629172   \n",
       "2         770      1933    98028  ...        -0.123296         -0.629172   \n",
       "3        1050      1965    98136  ...        -0.244009          2.444237   \n",
       "4        1680      1987    98074  ...        -0.169649         -0.629172   \n",
       "\n",
       "   grade zscore  sqft_above zscore  yr_built zscore  zipcode zscore  \\\n",
       "0     -0.558823          -0.734691        -0.544885        1.870108   \n",
       "1     -0.558823           0.460830        -0.681063        0.879547   \n",
       "2     -1.409554          -1.229805        -1.293862       -0.933367   \n",
       "3     -0.558823          -0.891678        -0.204441        1.085135   \n",
       "4      0.291909          -0.130892         0.544535       -0.073634   \n",
       "\n",
       "   lat zscore  long zscore  sqft_living15 zscore  sqft_lot15 zscore  \n",
       "0   -0.352564    -0.306072             -0.943333          -0.260709  \n",
       "1    1.161541    -0.746324             -0.432676          -0.187863  \n",
       "2    1.283507    -0.135652              1.070115          -0.172371  \n",
       "3   -0.283281    -1.271787             -0.914153          -0.284515  \n",
       "4    0.409541     1.199307             -0.272184          -0.192844  \n",
       "\n",
       "[5 rows x 28 columns]"
      ]
     },
     "execution_count": 11,
     "metadata": {},
     "output_type": "execute_result"
    }
   ],
   "source": [
    "thres = 3\n",
    "for i in df.columns:\n",
    "    comp = comp[comp[str(i)+' zscore']<thres]\n",
    "    comp = comp[comp[str(i)+' zscore']>-thres]\n",
    "print(comp.shape)\n",
    "comp.head()"
   ]
  },
  {
   "cell_type": "code",
   "execution_count": 12,
   "metadata": {
    "scrolled": true
   },
   "outputs": [
    {
     "data": {
      "text/html": [
       "<div>\n",
       "<style scoped>\n",
       "    .dataframe tbody tr th:only-of-type {\n",
       "        vertical-align: middle;\n",
       "    }\n",
       "\n",
       "    .dataframe tbody tr th {\n",
       "        vertical-align: top;\n",
       "    }\n",
       "\n",
       "    .dataframe thead th {\n",
       "        text-align: right;\n",
       "    }\n",
       "</style>\n",
       "<table border=\"1\" class=\"dataframe\">\n",
       "  <thead>\n",
       "    <tr style=\"text-align: right;\">\n",
       "      <th></th>\n",
       "      <th>price</th>\n",
       "      <th>bedrooms</th>\n",
       "      <th>bathrooms</th>\n",
       "      <th>sqft_living</th>\n",
       "      <th>sqft_lot</th>\n",
       "      <th>condition</th>\n",
       "      <th>grade</th>\n",
       "      <th>sqft_above</th>\n",
       "      <th>yr_built</th>\n",
       "      <th>zipcode</th>\n",
       "      <th>lat</th>\n",
       "      <th>long</th>\n",
       "      <th>sqft_living15</th>\n",
       "      <th>sqft_lot15</th>\n",
       "    </tr>\n",
       "  </thead>\n",
       "  <tbody>\n",
       "    <tr>\n",
       "      <th>0</th>\n",
       "      <td>221900.0</td>\n",
       "      <td>3</td>\n",
       "      <td>1.00</td>\n",
       "      <td>1180</td>\n",
       "      <td>5650</td>\n",
       "      <td>3</td>\n",
       "      <td>7</td>\n",
       "      <td>1180</td>\n",
       "      <td>1955</td>\n",
       "      <td>98178</td>\n",
       "      <td>47.5112</td>\n",
       "      <td>-122.257</td>\n",
       "      <td>1340</td>\n",
       "      <td>5650</td>\n",
       "    </tr>\n",
       "    <tr>\n",
       "      <th>1</th>\n",
       "      <td>538000.0</td>\n",
       "      <td>3</td>\n",
       "      <td>2.25</td>\n",
       "      <td>2570</td>\n",
       "      <td>7242</td>\n",
       "      <td>3</td>\n",
       "      <td>7</td>\n",
       "      <td>2170</td>\n",
       "      <td>1951</td>\n",
       "      <td>98125</td>\n",
       "      <td>47.7210</td>\n",
       "      <td>-122.319</td>\n",
       "      <td>1690</td>\n",
       "      <td>7639</td>\n",
       "    </tr>\n",
       "    <tr>\n",
       "      <th>2</th>\n",
       "      <td>180000.0</td>\n",
       "      <td>2</td>\n",
       "      <td>1.00</td>\n",
       "      <td>770</td>\n",
       "      <td>10000</td>\n",
       "      <td>3</td>\n",
       "      <td>6</td>\n",
       "      <td>770</td>\n",
       "      <td>1933</td>\n",
       "      <td>98028</td>\n",
       "      <td>47.7379</td>\n",
       "      <td>-122.233</td>\n",
       "      <td>2720</td>\n",
       "      <td>8062</td>\n",
       "    </tr>\n",
       "    <tr>\n",
       "      <th>3</th>\n",
       "      <td>604000.0</td>\n",
       "      <td>4</td>\n",
       "      <td>3.00</td>\n",
       "      <td>1960</td>\n",
       "      <td>5000</td>\n",
       "      <td>5</td>\n",
       "      <td>7</td>\n",
       "      <td>1050</td>\n",
       "      <td>1965</td>\n",
       "      <td>98136</td>\n",
       "      <td>47.5208</td>\n",
       "      <td>-122.393</td>\n",
       "      <td>1360</td>\n",
       "      <td>5000</td>\n",
       "    </tr>\n",
       "    <tr>\n",
       "      <th>4</th>\n",
       "      <td>510000.0</td>\n",
       "      <td>3</td>\n",
       "      <td>2.00</td>\n",
       "      <td>1680</td>\n",
       "      <td>8080</td>\n",
       "      <td>3</td>\n",
       "      <td>8</td>\n",
       "      <td>1680</td>\n",
       "      <td>1987</td>\n",
       "      <td>98074</td>\n",
       "      <td>47.6168</td>\n",
       "      <td>-122.045</td>\n",
       "      <td>1800</td>\n",
       "      <td>7503</td>\n",
       "    </tr>\n",
       "  </tbody>\n",
       "</table>\n",
       "</div>"
      ],
      "text/plain": [
       "      price  bedrooms  bathrooms  sqft_living  sqft_lot  condition  grade  \\\n",
       "0  221900.0         3       1.00         1180      5650          3      7   \n",
       "1  538000.0         3       2.25         2570      7242          3      7   \n",
       "2  180000.0         2       1.00          770     10000          3      6   \n",
       "3  604000.0         4       3.00         1960      5000          5      7   \n",
       "4  510000.0         3       2.00         1680      8080          3      8   \n",
       "\n",
       "   sqft_above  yr_built  zipcode      lat     long  sqft_living15  sqft_lot15  \n",
       "0        1180      1955    98178  47.5112 -122.257           1340        5650  \n",
       "1        2170      1951    98125  47.7210 -122.319           1690        7639  \n",
       "2         770      1933    98028  47.7379 -122.233           2720        8062  \n",
       "3        1050      1965    98136  47.5208 -122.393           1360        5000  \n",
       "4        1680      1987    98074  47.6168 -122.045           1800        7503  "
      ]
     },
     "execution_count": 12,
     "metadata": {},
     "output_type": "execute_result"
    }
   ],
   "source": [
    "comp = comp[df.columns]\n",
    "comp.head()"
   ]
  },
  {
   "cell_type": "code",
   "execution_count": 13,
   "metadata": {
    "scrolled": true
   },
   "outputs": [
    {
     "data": {
      "image/png": "[encoded data removed]",
      "text/plain": [
       "<Figure size 432x288 with 1 Axes>"
      ]
     },
     "metadata": {
      "needs_background": "light"
     },
     "output_type": "display_data"
    },
    {
     "data": {
      "image/png": "[encoded data removed]",
      "text/plain": [
       "<Figure size 432x288 with 1 Axes>"
      ]
     },
     "metadata": {
      "needs_background": "light"
     },
     "output_type": "display_data"
    },
    {
     "data": {
      "image/png": "[encoded data removed]",
      "text/plain": [
       "<Figure size 432x288 with 1 Axes>"
      ]
     },
     "metadata": {
      "needs_background": "light"
     },
     "output_type": "display_data"
    },
    {
     "data": {
      "image/png": "[encoded data removed]",
      "text/plain": [
       "<Figure size 432x288 with 1 Axes>"
      ]
     },
     "metadata": {
      "needs_background": "light"
     },
     "output_type": "display_data"
    },
    {
     "data": {
      "image/png": "[encoded data removed]",
      "text/plain": [
       "<Figure size 432x288 with 1 Axes>"
      ]
     },
     "metadata": {
      "needs_background": "light"
     },
     "output_type": "display_data"
    },
    {
     "data": {
      "image/png": "[encoded data removed]",
      "text/plain": [
       "<Figure size 432x288 with 1 Axes>"
      ]
     },
     "metadata": {
      "needs_background": "light"
     },
     "output_type": "display_data"
    },
    {
     "data": {
      "image/png": "[encoded data removed]",
      "text/plain": [
       "<Figure size 432x288 with 1 Axes>"
      ]
     },
     "metadata": {
      "needs_background": "light"
     },
     "output_type": "display_data"
    },
    {
     "data": {
      "image/png": "[encoded data removed]",
      "text/plain": [
       "<Figure size 432x288 with 1 Axes>"
      ]
     },
     "metadata": {
      "needs_background": "light"
     },
     "output_type": "display_data"
    },
    {
     "data": {
      "image/png": "[encoded data removed]",
      "text/plain": [
       "<Figure size 432x288 with 1 Axes>"
      ]
     },
     "metadata": {
      "needs_background": "light"
     },
     "output_type": "display_data"
    },
    {
     "data": {
      "image/png": "[encoded data removed]",
      "text/plain": [
       "<Figure size 432x288 with 1 Axes>"
      ]
     },
     "metadata": {
      "needs_background": "light"
     },
     "output_type": "display_data"
    },
    {
     "data": {
      "image/png": "[encoded data removed]",
      "text/plain": [
       "<Figure size 432x288 with 1 Axes>"
      ]
     },
     "metadata": {
      "needs_background": "light"
     },
     "output_type": "display_data"
    },
    {
     "data": {
      "image/png": "[encoded data removed]",
      "text/plain": [
       "<Figure size 432x288 with 1 Axes>"
      ]
     },
     "metadata": {
      "needs_background": "light"
     },
     "output_type": "display_data"
    },
    {
     "data": {
      "image/png": "[encoded data removed]",
      "text/plain": [
       "<Figure size 432x288 with 1 Axes>"
      ]
     },
     "metadata": {
      "needs_background": "light"
     },
     "output_type": "display_data"
    },
    {
     "data": {
      "image/png": "[encoded data removed]",
      "text/plain": [
       "<Figure size 432x288 with 1 Axes>"
      ]
     },
     "metadata": {
      "needs_background": "light"
     },
     "output_type": "display_data"
    }
   ],
   "source": [
    "plot = comp.sample(2000)\n",
    "for i in plot.columns:\n",
    "    sns.distplot(plot[i],label=str(i))\n",
    "    plt.legend()\n",
    "    plt.show()"
   ]
  },
  {
   "cell_type": "code",
   "execution_count": 19,
   "metadata": {
    "scrolled": true
   },
   "outputs": [
    {
     "data": {
      "text/html": [
       "<div>\n",
       "<style scoped>\n",
       "    .dataframe tbody tr th:only-of-type {\n",
       "        vertical-align: middle;\n",
       "    }\n",
       "\n",
       "    .dataframe tbody tr th {\n",
       "        vertical-align: top;\n",
       "    }\n",
       "\n",
       "    .dataframe thead th {\n",
       "        text-align: right;\n",
       "    }\n",
       "</style>\n",
       "<table border=\"1\" class=\"dataframe\">\n",
       "  <thead>\n",
       "    <tr style=\"text-align: right;\">\n",
       "      <th></th>\n",
       "      <th>price</th>\n",
       "      <th>bedrooms</th>\n",
       "      <th>bathrooms</th>\n",
       "      <th>sqft_living</th>\n",
       "      <th>sqft_lot</th>\n",
       "      <th>condition</th>\n",
       "      <th>grade</th>\n",
       "      <th>sqft_above</th>\n",
       "      <th>yr_built</th>\n",
       "      <th>zipcode</th>\n",
       "      <th>lat</th>\n",
       "      <th>long</th>\n",
       "      <th>sqft_living15</th>\n",
       "      <th>sqft_lot15</th>\n",
       "    </tr>\n",
       "  </thead>\n",
       "  <tbody>\n",
       "    <tr>\n",
       "      <th>0</th>\n",
       "      <td>-1.225454</td>\n",
       "      <td>-0.381076</td>\n",
       "      <td>-1.596328</td>\n",
       "      <td>-1.116743</td>\n",
       "      <td>-0.387253</td>\n",
       "      <td>-0.650735</td>\n",
       "      <td>-0.598395</td>\n",
       "      <td>-0.759199</td>\n",
       "      <td>-0.744150</td>\n",
       "      <td>2.031705</td>\n",
       "      <td>-0.400769</td>\n",
       "      <td>-0.263785</td>\n",
       "      <td>-1.009655</td>\n",
       "      <td>-0.401670</td>\n",
       "    </tr>\n",
       "    <tr>\n",
       "      <th>1</th>\n",
       "      <td>0.363646</td>\n",
       "      <td>-0.381076</td>\n",
       "      <td>0.340537</td>\n",
       "      <td>1.023148</td>\n",
       "      <td>-0.214890</td>\n",
       "      <td>-0.650735</td>\n",
       "      <td>-0.598395</td>\n",
       "      <td>0.835260</td>\n",
       "      <td>-0.897255</td>\n",
       "      <td>0.980335</td>\n",
       "      <td>1.121387</td>\n",
       "      <td>-0.786631</td>\n",
       "      <td>-0.358651</td>\n",
       "      <td>-0.134510</td>\n",
       "    </tr>\n",
       "    <tr>\n",
       "      <th>2</th>\n",
       "      <td>-1.436094</td>\n",
       "      <td>-1.672079</td>\n",
       "      <td>-1.596328</td>\n",
       "      <td>-1.747934</td>\n",
       "      <td>0.083714</td>\n",
       "      <td>-0.650735</td>\n",
       "      <td>-1.709517</td>\n",
       "      <td>-1.419530</td>\n",
       "      <td>-1.586229</td>\n",
       "      <td>-0.943869</td>\n",
       "      <td>1.244001</td>\n",
       "      <td>-0.061394</td>\n",
       "      <td>1.557160</td>\n",
       "      <td>-0.077693</td>\n",
       "    </tr>\n",
       "    <tr>\n",
       "      <th>3</th>\n",
       "      <td>0.222884</td>\n",
       "      <td>-0.381076</td>\n",
       "      <td>-0.046836</td>\n",
       "      <td>-0.346998</td>\n",
       "      <td>-0.124161</td>\n",
       "      <td>-0.650735</td>\n",
       "      <td>0.512727</td>\n",
       "      <td>0.046084</td>\n",
       "      <td>0.480693</td>\n",
       "      <td>-0.031360</td>\n",
       "      <td>0.365388</td>\n",
       "      <td>1.524008</td>\n",
       "      <td>-0.154050</td>\n",
       "      <td>-0.152777</td>\n",
       "    </tr>\n",
       "    <tr>\n",
       "      <th>4</th>\n",
       "      <td>-1.046485</td>\n",
       "      <td>-0.381076</td>\n",
       "      <td>0.340537</td>\n",
       "      <td>-0.293116</td>\n",
       "      <td>-0.260687</td>\n",
       "      <td>-0.650735</td>\n",
       "      <td>-0.598395</td>\n",
       "      <td>0.102453</td>\n",
       "      <td>0.786904</td>\n",
       "      <td>-1.439798</td>\n",
       "      <td>-1.862706</td>\n",
       "      <td>-0.854094</td>\n",
       "      <td>0.660634</td>\n",
       "      <td>-0.244651</td>\n",
       "    </tr>\n",
       "  </tbody>\n",
       "</table>\n",
       "</div>"
      ],
      "text/plain": [
       "      price  bedrooms  bathrooms  sqft_living  sqft_lot  condition     grade  \\\n",
       "0 -1.225454 -0.381076  -1.596328    -1.116743 -0.387253  -0.650735 -0.598395   \n",
       "1  0.363646 -0.381076   0.340537     1.023148 -0.214890  -0.650735 -0.598395   \n",
       "2 -1.436094 -1.672079  -1.596328    -1.747934  0.083714  -0.650735 -1.709517   \n",
       "3  0.222884 -0.381076  -0.046836    -0.346998 -0.124161  -0.650735  0.512727   \n",
       "4 -1.046485 -0.381076   0.340537    -0.293116 -0.260687  -0.650735 -0.598395   \n",
       "\n",
       "   sqft_above  yr_built   zipcode       lat      long  sqft_living15  \\\n",
       "0   -0.759199 -0.744150  2.031705 -0.400769 -0.263785      -1.009655   \n",
       "1    0.835260 -0.897255  0.980335  1.121387 -0.786631      -0.358651   \n",
       "2   -1.419530 -1.586229 -0.943869  1.244001 -0.061394       1.557160   \n",
       "3    0.046084  0.480693 -0.031360  0.365388  1.524008      -0.154050   \n",
       "4    0.102453  0.786904 -1.439798 -1.862706 -0.854094       0.660634   \n",
       "\n",
       "   sqft_lot15  \n",
       "0   -0.401670  \n",
       "1   -0.134510  \n",
       "2   -0.077693  \n",
       "3   -0.152777  \n",
       "4   -0.244651  "
      ]
     },
     "execution_count": 19,
     "metadata": {},
     "output_type": "execute_result"
    }
   ],
   "source": [
    "x = pd.DataFrame(preprocessing.scale(comp),columns=comp.columns)\n",
    "x.head()"
   ]
  },
  {
   "cell_type": "code",
   "execution_count": 20,
   "metadata": {},
   "outputs": [
    {
     "data": {
      "text/html": [
       "<div>\n",
       "<style scoped>\n",
       "    .dataframe tbody tr th:only-of-type {\n",
       "        vertical-align: middle;\n",
       "    }\n",
       "\n",
       "    .dataframe tbody tr th {\n",
       "        vertical-align: top;\n",
       "    }\n",
       "\n",
       "    .dataframe thead th {\n",
       "        text-align: right;\n",
       "    }\n",
       "</style>\n",
       "<table border=\"1\" class=\"dataframe\">\n",
       "  <thead>\n",
       "    <tr style=\"text-align: right;\">\n",
       "      <th></th>\n",
       "      <th>price</th>\n",
       "      <th>bedrooms</th>\n",
       "      <th>bathrooms</th>\n",
       "      <th>sqft_living</th>\n",
       "      <th>sqft_lot</th>\n",
       "      <th>condition</th>\n",
       "      <th>grade</th>\n",
       "      <th>sqft_above</th>\n",
       "      <th>yr_built</th>\n",
       "      <th>zipcode</th>\n",
       "      <th>lat</th>\n",
       "      <th>long</th>\n",
       "      <th>sqft_living15</th>\n",
       "      <th>sqft_lot15</th>\n",
       "    </tr>\n",
       "  </thead>\n",
       "  <tbody>\n",
       "    <tr>\n",
       "      <th>count</th>\n",
       "      <td>1.474700e+04</td>\n",
       "      <td>1.474700e+04</td>\n",
       "      <td>1.474700e+04</td>\n",
       "      <td>1.474700e+04</td>\n",
       "      <td>1.474700e+04</td>\n",
       "      <td>1.474700e+04</td>\n",
       "      <td>1.474700e+04</td>\n",
       "      <td>1.474700e+04</td>\n",
       "      <td>1.474700e+04</td>\n",
       "      <td>1.474700e+04</td>\n",
       "      <td>1.474700e+04</td>\n",
       "      <td>1.474700e+04</td>\n",
       "      <td>1.474700e+04</td>\n",
       "      <td>1.474700e+04</td>\n",
       "    </tr>\n",
       "    <tr>\n",
       "      <th>mean</th>\n",
       "      <td>-1.054287e-16</td>\n",
       "      <td>-3.114978e-16</td>\n",
       "      <td>-8.993913e-15</td>\n",
       "      <td>-7.590200e-17</td>\n",
       "      <td>-2.807215e-16</td>\n",
       "      <td>-1.548563e-14</td>\n",
       "      <td>9.612904e-15</td>\n",
       "      <td>-8.830892e-17</td>\n",
       "      <td>1.562684e-15</td>\n",
       "      <td>-1.020098e-13</td>\n",
       "      <td>1.806200e-14</td>\n",
       "      <td>-6.786190e-15</td>\n",
       "      <td>-2.059487e-16</td>\n",
       "      <td>4.322168e-16</td>\n",
       "    </tr>\n",
       "    <tr>\n",
       "      <th>std</th>\n",
       "      <td>1.000034e+00</td>\n",
       "      <td>1.000034e+00</td>\n",
       "      <td>1.000034e+00</td>\n",
       "      <td>1.000034e+00</td>\n",
       "      <td>1.000034e+00</td>\n",
       "      <td>1.000034e+00</td>\n",
       "      <td>1.000034e+00</td>\n",
       "      <td>1.000034e+00</td>\n",
       "      <td>1.000034e+00</td>\n",
       "      <td>1.000034e+00</td>\n",
       "      <td>1.000034e+00</td>\n",
       "      <td>1.000034e+00</td>\n",
       "      <td>1.000034e+00</td>\n",
       "      <td>1.000034e+00</td>\n",
       "    </tr>\n",
       "    <tr>\n",
       "      <th>min</th>\n",
       "      <td>-1.928760e+00</td>\n",
       "      <td>-1.672079e+00</td>\n",
       "      <td>-1.983701e+00</td>\n",
       "      <td>-2.071227e+00</td>\n",
       "      <td>-9.370391e-01</td>\n",
       "      <td>-6.507347e-01</td>\n",
       "      <td>-1.709517e+00</td>\n",
       "      <td>-1.886593e+00</td>\n",
       "      <td>-2.351756e+00</td>\n",
       "      <td>-1.479473e+00</td>\n",
       "      <td>-2.055696e+00</td>\n",
       "      <td>-2.228671e+00</td>\n",
       "      <td>-2.348863e+00</td>\n",
       "      <td>-1.073130e+00</td>\n",
       "    </tr>\n",
       "    <tr>\n",
       "      <th>25%</th>\n",
       "      <td>-7.523939e-01</td>\n",
       "      <td>-3.810765e-01</td>\n",
       "      <td>-8.215818e-01</td>\n",
       "      <td>-7.780552e-01</td>\n",
       "      <td>-4.576274e-01</td>\n",
       "      <td>-6.507347e-01</td>\n",
       "      <td>-5.983950e-01</td>\n",
       "      <td>-7.591986e-01</td>\n",
       "      <td>-7.441500e-01</td>\n",
       "      <td>-8.645206e-01</td>\n",
       "      <td>-6.782829e-01</td>\n",
       "      <td>-8.962593e-01</td>\n",
       "      <td>-7.678537e-01</td>\n",
       "      <td>-4.889774e-01</td>\n",
       "    </tr>\n",
       "    <tr>\n",
       "      <th>50%</th>\n",
       "      <td>-1.843195e-01</td>\n",
       "      <td>-3.810765e-01</td>\n",
       "      <td>3.405373e-01</td>\n",
       "      <td>-1.160744e-01</td>\n",
       "      <td>-2.020061e-01</td>\n",
       "      <td>-6.507347e-01</td>\n",
       "      <td>-5.983950e-01</td>\n",
       "      <td>-2.438180e-01</td>\n",
       "      <td>9.792950e-02</td>\n",
       "      <td>-3.289173e-01</td>\n",
       "      <td>6.066635e-02</td>\n",
       "      <td>-5.296077e-02</td>\n",
       "      <td>-1.540502e-01</td>\n",
       "      <td>-1.573441e-01</td>\n",
       "    </tr>\n",
       "    <tr>\n",
       "      <th>75%</th>\n",
       "      <td>5.538001e-01</td>\n",
       "      <td>9.099262e-01</td>\n",
       "      <td>7.279103e-01</td>\n",
       "      <td>6.844604e-01</td>\n",
       "      <td>6.260148e-02</td>\n",
       "      <td>1.536725e+00</td>\n",
       "      <td>5.127270e-01</td>\n",
       "      <td>6.258866e-01</td>\n",
       "      <td>9.017326e-01</td>\n",
       "      <td>8.216380e-01</td>\n",
       "      <td>8.812374e-01</td>\n",
       "      <td>7.228739e-01</td>\n",
       "      <td>6.643545e-01</td>\n",
       "      <td>1.222406e-01</td>\n",
       "    </tr>\n",
       "    <tr>\n",
       "      <th>max</th>\n",
       "      <td>4.056129e+00</td>\n",
       "      <td>2.200929e+00</td>\n",
       "      <td>2.277402e+00</td>\n",
       "      <td>3.086065e+00</td>\n",
       "      <td>9.574616e+00</td>\n",
       "      <td>1.536725e+00</td>\n",
       "      <td>2.734971e+00</td>\n",
       "      <td>2.880676e+00</td>\n",
       "      <td>1.552430e+00</td>\n",
       "      <td>2.031705e+00</td>\n",
       "      <td>1.532035e+00</td>\n",
       "      <td>2.468502e+00</td>\n",
       "      <td>2.728966e+00</td>\n",
       "      <td>7.791378e+00</td>\n",
       "    </tr>\n",
       "  </tbody>\n",
       "</table>\n",
       "</div>"
      ],
      "text/plain": [
       "              price      bedrooms     bathrooms   sqft_living      sqft_lot  \\\n",
       "count  1.474700e+04  1.474700e+04  1.474700e+04  1.474700e+04  1.474700e+04   \n",
       "mean  -1.054287e-16 -3.114978e-16 -8.993913e-15 -7.590200e-17 -2.807215e-16   \n",
       "std    1.000034e+00  1.000034e+00  1.000034e+00  1.000034e+00  1.000034e+00   \n",
       "min   -1.928760e+00 -1.672079e+00 -1.983701e+00 -2.071227e+00 -9.370391e-01   \n",
       "25%   -7.523939e-01 -3.810765e-01 -8.215818e-01 -7.780552e-01 -4.576274e-01   \n",
       "50%   -1.843195e-01 -3.810765e-01  3.405373e-01 -1.160744e-01 -2.020061e-01   \n",
       "75%    5.538001e-01  9.099262e-01  7.279103e-01  6.844604e-01  6.260148e-02   \n",
       "max    4.056129e+00  2.200929e+00  2.277402e+00  3.086065e+00  9.574616e+00   \n",
       "\n",
       "          condition         grade    sqft_above      yr_built       zipcode  \\\n",
       "count  1.474700e+04  1.474700e+04  1.474700e+04  1.474700e+04  1.474700e+04   \n",
       "mean  -1.548563e-14  9.612904e-15 -8.830892e-17  1.562684e-15 -1.020098e-13   \n",
       "std    1.000034e+00  1.000034e+00  1.000034e+00  1.000034e+00  1.000034e+00   \n",
       "min   -6.507347e-01 -1.709517e+00 -1.886593e+00 -2.351756e+00 -1.479473e+00   \n",
       "25%   -6.507347e-01 -5.983950e-01 -7.591986e-01 -7.441500e-01 -8.645206e-01   \n",
       "50%   -6.507347e-01 -5.983950e-01 -2.438180e-01  9.792950e-02 -3.289173e-01   \n",
       "75%    1.536725e+00  5.127270e-01  6.258866e-01  9.017326e-01  8.216380e-01   \n",
       "max    1.536725e+00  2.734971e+00  2.880676e+00  1.552430e+00  2.031705e+00   \n",
       "\n",
       "                lat          long  sqft_living15    sqft_lot15  \n",
       "count  1.474700e+04  1.474700e+04   1.474700e+04  1.474700e+04  \n",
       "mean   1.806200e-14 -6.786190e-15  -2.059487e-16  4.322168e-16  \n",
       "std    1.000034e+00  1.000034e+00   1.000034e+00  1.000034e+00  \n",
       "min   -2.055696e+00 -2.228671e+00  -2.348863e+00 -1.073130e+00  \n",
       "25%   -6.782829e-01 -8.962593e-01  -7.678537e-01 -4.889774e-01  \n",
       "50%    6.066635e-02 -5.296077e-02  -1.540502e-01 -1.573441e-01  \n",
       "75%    8.812374e-01  7.228739e-01   6.643545e-01  1.222406e-01  \n",
       "max    1.532035e+00  2.468502e+00   2.728966e+00  7.791378e+00  "
      ]
     },
     "execution_count": 20,
     "metadata": {},
     "output_type": "execute_result"
    }
   ],
   "source": [
    "x.describe()"
   ]
  },
  {
   "cell_type": "code",
   "execution_count": 22,
   "metadata": {},
   "outputs": [
    {
     "data": {
      "text/plain": [
       "(14747, 14)"
      ]
     },
     "execution_count": 22,
     "metadata": {},
     "output_type": "execute_result"
    }
   ],
   "source": [
    "x.shape"
   ]
  },
  {
   "cell_type": "code",
   "execution_count": 24,
   "metadata": {},
   "outputs": [
    {
     "name": "stdout",
     "output_type": "stream",
     "text": [
      "(1000, 14)\n"
     ]
    },
    {
     "data": {
      "text/html": [
       "<div>\n",
       "<style scoped>\n",
       "    .dataframe tbody tr th:only-of-type {\n",
       "        vertical-align: middle;\n",
       "    }\n",
       "\n",
       "    .dataframe tbody tr th {\n",
       "        vertical-align: top;\n",
       "    }\n",
       "\n",
       "    .dataframe thead th {\n",
       "        text-align: right;\n",
       "    }\n",
       "</style>\n",
       "<table border=\"1\" class=\"dataframe\">\n",
       "  <thead>\n",
       "    <tr style=\"text-align: right;\">\n",
       "      <th></th>\n",
       "      <th>price</th>\n",
       "      <th>bedrooms</th>\n",
       "      <th>bathrooms</th>\n",
       "      <th>sqft_living</th>\n",
       "      <th>sqft_lot</th>\n",
       "      <th>condition</th>\n",
       "      <th>grade</th>\n",
       "      <th>sqft_above</th>\n",
       "      <th>yr_built</th>\n",
       "      <th>zipcode</th>\n",
       "      <th>lat</th>\n",
       "      <th>long</th>\n",
       "      <th>sqft_living15</th>\n",
       "      <th>sqft_lot15</th>\n",
       "    </tr>\n",
       "  </thead>\n",
       "  <tbody>\n",
       "    <tr>\n",
       "      <th>6035</th>\n",
       "      <td>1.303734</td>\n",
       "      <td>0.909926</td>\n",
       "      <td>0.727910</td>\n",
       "      <td>2.331715</td>\n",
       "      <td>2.293468</td>\n",
       "      <td>-0.650735</td>\n",
       "      <td>1.623849</td>\n",
       "      <td>2.848465</td>\n",
       "      <td>0.518969</td>\n",
       "      <td>0.028152</td>\n",
       "      <td>1.509544</td>\n",
       "      <td>1.161389</td>\n",
       "      <td>1.966362</td>\n",
       "      <td>5.006814</td>\n",
       "    </tr>\n",
       "    <tr>\n",
       "      <th>9228</th>\n",
       "      <td>-0.028476</td>\n",
       "      <td>-1.672079</td>\n",
       "      <td>-1.596328</td>\n",
       "      <td>-1.563195</td>\n",
       "      <td>-0.771605</td>\n",
       "      <td>1.536725</td>\n",
       "      <td>-1.709517</td>\n",
       "      <td>-1.435636</td>\n",
       "      <td>-2.122098</td>\n",
       "      <td>0.623266</td>\n",
       "      <td>0.649794</td>\n",
       "      <td>-1.123950</td>\n",
       "      <td>-0.526052</td>\n",
       "      <td>-0.589717</td>\n",
       "    </tr>\n",
       "    <tr>\n",
       "      <th>4707</th>\n",
       "      <td>-0.436685</td>\n",
       "      <td>2.200929</td>\n",
       "      <td>0.727910</td>\n",
       "      <td>1.284862</td>\n",
       "      <td>-0.414320</td>\n",
       "      <td>-0.650735</td>\n",
       "      <td>0.512727</td>\n",
       "      <td>1.753282</td>\n",
       "      <td>1.169667</td>\n",
       "      <td>-0.884358</td>\n",
       "      <td>-1.181436</td>\n",
       "      <td>0.174730</td>\n",
       "      <td>1.891961</td>\n",
       "      <td>-0.425042</td>\n",
       "    </tr>\n",
       "  </tbody>\n",
       "</table>\n",
       "</div>"
      ],
      "text/plain": [
       "         price  bedrooms  bathrooms  sqft_living  sqft_lot  condition  \\\n",
       "6035  1.303734  0.909926   0.727910     2.331715  2.293468  -0.650735   \n",
       "9228 -0.028476 -1.672079  -1.596328    -1.563195 -0.771605   1.536725   \n",
       "4707 -0.436685  2.200929   0.727910     1.284862 -0.414320  -0.650735   \n",
       "\n",
       "         grade  sqft_above  yr_built   zipcode       lat      long  \\\n",
       "6035  1.623849    2.848465  0.518969  0.028152  1.509544  1.161389   \n",
       "9228 -1.709517   -1.435636 -2.122098  0.623266  0.649794 -1.123950   \n",
       "4707  0.512727    1.753282  1.169667 -0.884358 -1.181436  0.174730   \n",
       "\n",
       "      sqft_living15  sqft_lot15  \n",
       "6035       1.966362    5.006814  \n",
       "9228      -0.526052   -0.589717  \n",
       "4707       1.891961   -0.425042  "
      ]
     },
     "execution_count": 24,
     "metadata": {},
     "output_type": "execute_result"
    }
   ],
   "source": [
    "data = x.sample(1000)\n",
    "print(data.shape)\n",
    "data.head(3)"
   ]
  },
  {
   "cell_type": "code",
   "execution_count": 26,
   "metadata": {
    "scrolled": true
   },
   "outputs": [
    {
     "data": {
      "image/png": "[encoded data removed]",
      "text/plain": [
       "<Figure size 432x288 with 1 Axes>"
      ]
     },
     "metadata": {
      "needs_background": "light"
     },
     "output_type": "display_data"
    },
    {
     "data": {
      "image/png": "[encoded data removed]",
      "text/plain": [
       "<Figure size 432x288 with 1 Axes>"
      ]
     },
     "metadata": {
      "needs_background": "light"
     },
     "output_type": "display_data"
    },
    {
     "data": {
      "image/png": "[encoded data removed]",
      "text/plain": [
       "<Figure size 432x288 with 1 Axes>"
      ]
     },
     "metadata": {
      "needs_background": "light"
     },
     "output_type": "display_data"
    },
    {
     "data": {
      "image/png": "[encoded data removed]",
      "text/plain": [
       "<Figure size 432x288 with 1 Axes>"
      ]
     },
     "metadata": {
      "needs_background": "light"
     },
     "output_type": "display_data"
    },
    {
     "data": {
      "image/png": "[encoded data removed]",
      "text/plain": [
       "<Figure size 432x288 with 1 Axes>"
      ]
     },
     "metadata": {
      "needs_background": "light"
     },
     "output_type": "display_data"
    },
    {
     "data": {
      "image/png": "[encoded data removed]",
      "text/plain": [
       "<Figure size 432x288 with 1 Axes>"
      ]
     },
     "metadata": {
      "needs_background": "light"
     },
     "output_type": "display_data"
    },
    {
     "data": {
      "image/png": "[encoded data removed]",
      "text/plain": [
       "<Figure size 432x288 with 1 Axes>"
      ]
     },
     "metadata": {
      "needs_background": "light"
     },
     "output_type": "display_data"
    },
    {
     "data": {
      "image/png": "[encoded data removed]",
      "text/plain": [
       "<Figure size 432x288 with 1 Axes>"
      ]
     },
     "metadata": {
      "needs_background": "light"
     },
     "output_type": "display_data"
    },
    {
     "data": {
      "image/png": "[encoded data removed]",
      "text/plain": [
       "<Figure size 432x288 with 1 Axes>"
      ]
     },
     "metadata": {
      "needs_background": "light"
     },
     "output_type": "display_data"
    },
    {
     "data": {
      "image/png": "[encoded data removed]",
      "text/plain": [
       "<Figure size 432x288 with 1 Axes>"
      ]
     },
     "metadata": {
      "needs_background": "light"
     },
     "output_type": "display_data"
    },
    {
     "data": {
      "image/png": "[encoded data removed]",
      "text/plain": [
       "<Figure size 432x288 with 1 Axes>"
      ]
     },
     "metadata": {
      "needs_background": "light"
     },
     "output_type": "display_data"
    },
    {
     "data": {
      "image/png": "[encoded data removed]",
      "text/plain": [
       "<Figure size 432x288 with 1 Axes>"
      ]
     },
     "metadata": {
      "needs_background": "light"
     },
     "output_type": "display_data"
    },
    {
     "data": {
      "image/png": "[encoded data removed]",
      "text/plain": [
       "<Figure size 432x288 with 1 Axes>"
      ]
     },
     "metadata": {
      "needs_background": "light"
     },
     "output_type": "display_data"
    }
   ],
   "source": [
    "for i in data.columns[1:]:\n",
    "    plt.scatter(data[i],data.price)\n",
    "    plt.plot()\n",
    "    plt.show()"
   ]
  },
  {
   "cell_type": "markdown",
   "metadata": {},
   "source": [
    "## Hypothesis Testing\n",
    "##  Pearson’s Correlation Coefficient\n",
    "### Tests whether two samples have a linear relationship. \n",
    "\n",
    "### Interpretation\n",
    "### H0: the two samples are independent.\n",
    "### H1: there is a dependency between the samples."
   ]
  },
  {
   "cell_type": "code",
   "execution_count": 27,
   "metadata": {},
   "outputs": [
    {
     "data": {
      "text/plain": [
       "(1000, 14)"
      ]
     },
     "execution_count": 27,
     "metadata": {},
     "output_type": "execute_result"
    }
   ],
   "source": [
    "data.shape"
   ]
  },
  {
   "cell_type": "code",
   "execution_count": 54,
   "metadata": {},
   "outputs": [],
   "source": [
    "def stat(deg_fr=None,alpha=0.05,x=x):\n",
    "    P = [ ]\n",
    "    D = [ ]\n",
    "    if deg_fr == None:\n",
    "        deg_fr = 100\n",
    "    print(f'Degree of Freedom: {deg_fr}\\nSignicicance value {alpha}')\n",
    "    df_rand = x.sample(n=deg_fr+2,random_state=23)\n",
    "    for i in x.columns[1:]:\n",
    "        x,y = df_rand[i],df_rand['price']\n",
    "        r,p = pearsonr(x,y)\n",
    "        t = r*np.sqrt(deg_fr/(1 - r*r))\n",
    "        p_calc = stats.t.sf(abs(t),deg_fr)*2\n",
    "#         print(f'Feature :{i} Degree of freedom : {deg_fr} r : {r} T value :{t} calculated p :{p_calc}')\n",
    "        if p_calc > alpha:\n",
    "            P.append([r,t,p_calc,\"Independent\"])\n",
    "        else:\n",
    "            P.append([r,t,p_calc,\"Dependent\"])\n",
    "            D.append(i)\n",
    "    return D,pd.DataFrame(P,index = df.columns[:-1],columns=[\"Pearson's Coefficient\",\"T value \",\"P value\",\"Hypothesis result\"])\n",
    "        "
   ]
  },
  {
   "cell_type": "markdown",
   "metadata": {},
   "source": [
    "## Interpet with degree of freedom and level of significance"
   ]
  },
  {
   "cell_type": "code",
   "execution_count": 73,
   "metadata": {
    "scrolled": false
   },
   "outputs": [
    {
     "name": "stdout",
     "output_type": "stream",
     "text": [
      "Degree of Freedom: 500\n",
      "Signicicance value 0.005\n",
      "Dependent Features are ['bedrooms', 'bathrooms', 'sqft_living', 'grade', 'sqft_above', 'lat', 'sqft_living15']\n"
     ]
    },
    {
     "data": {
      "text/html": [
       "<div>\n",
       "<style scoped>\n",
       "    .dataframe tbody tr th:only-of-type {\n",
       "        vertical-align: middle;\n",
       "    }\n",
       "\n",
       "    .dataframe tbody tr th {\n",
       "        vertical-align: top;\n",
       "    }\n",
       "\n",
       "    .dataframe thead th {\n",
       "        text-align: right;\n",
       "    }\n",
       "</style>\n",
       "<table border=\"1\" class=\"dataframe\">\n",
       "  <thead>\n",
       "    <tr style=\"text-align: right;\">\n",
       "      <th></th>\n",
       "      <th>Pearson's Coefficient</th>\n",
       "      <th>T value</th>\n",
       "      <th>P value</th>\n",
       "      <th>Hypothesis result</th>\n",
       "    </tr>\n",
       "  </thead>\n",
       "  <tbody>\n",
       "    <tr>\n",
       "      <th>price</th>\n",
       "      <td>0.258462</td>\n",
       "      <td>5.982679</td>\n",
       "      <td>4.186502e-09</td>\n",
       "      <td>Dependent</td>\n",
       "    </tr>\n",
       "    <tr>\n",
       "      <th>bedrooms</th>\n",
       "      <td>0.363327</td>\n",
       "      <td>8.720171</td>\n",
       "      <td>4.125775e-17</td>\n",
       "      <td>Dependent</td>\n",
       "    </tr>\n",
       "    <tr>\n",
       "      <th>bathrooms</th>\n",
       "      <td>0.570547</td>\n",
       "      <td>15.534347</td>\n",
       "      <td>1.086027e-44</td>\n",
       "      <td>Dependent</td>\n",
       "    </tr>\n",
       "    <tr>\n",
       "      <th>sqft_living</th>\n",
       "      <td>0.070968</td>\n",
       "      <td>1.590895</td>\n",
       "      <td>1.122651e-01</td>\n",
       "      <td>Independent</td>\n",
       "    </tr>\n",
       "    <tr>\n",
       "      <th>sqft_lot</th>\n",
       "      <td>0.062939</td>\n",
       "      <td>1.410147</td>\n",
       "      <td>1.591181e-01</td>\n",
       "      <td>Independent</td>\n",
       "    </tr>\n",
       "    <tr>\n",
       "      <th>condition</th>\n",
       "      <td>0.622096</td>\n",
       "      <td>17.766983</td>\n",
       "      <td>4.182885e-55</td>\n",
       "      <td>Dependent</td>\n",
       "    </tr>\n",
       "    <tr>\n",
       "      <th>grade</th>\n",
       "      <td>0.479298</td>\n",
       "      <td>12.211465</td>\n",
       "      <td>3.388859e-30</td>\n",
       "      <td>Dependent</td>\n",
       "    </tr>\n",
       "    <tr>\n",
       "      <th>sqft_above</th>\n",
       "      <td>0.002673</td>\n",
       "      <td>0.059763</td>\n",
       "      <td>9.523685e-01</td>\n",
       "      <td>Independent</td>\n",
       "    </tr>\n",
       "    <tr>\n",
       "      <th>yr_built</th>\n",
       "      <td>-0.068252</td>\n",
       "      <td>-1.529739</td>\n",
       "      <td>1.267137e-01</td>\n",
       "      <td>Independent</td>\n",
       "    </tr>\n",
       "    <tr>\n",
       "      <th>zipcode</th>\n",
       "      <td>0.415572</td>\n",
       "      <td>10.216459</td>\n",
       "      <td>2.214289e-22</td>\n",
       "      <td>Dependent</td>\n",
       "    </tr>\n",
       "    <tr>\n",
       "      <th>lat</th>\n",
       "      <td>0.031879</td>\n",
       "      <td>0.713208</td>\n",
       "      <td>4.760496e-01</td>\n",
       "      <td>Independent</td>\n",
       "    </tr>\n",
       "    <tr>\n",
       "      <th>long</th>\n",
       "      <td>0.567031</td>\n",
       "      <td>15.393048</td>\n",
       "      <td>4.790927e-44</td>\n",
       "      <td>Dependent</td>\n",
       "    </tr>\n",
       "    <tr>\n",
       "      <th>sqft_living15</th>\n",
       "      <td>0.088747</td>\n",
       "      <td>1.992316</td>\n",
       "      <td>4.687974e-02</td>\n",
       "      <td>Independent</td>\n",
       "    </tr>\n",
       "  </tbody>\n",
       "</table>\n",
       "</div>"
      ],
      "text/plain": [
       "               Pearson's Coefficient   T value        P value  \\\n",
       "price                       0.258462   5.982679  4.186502e-09   \n",
       "bedrooms                    0.363327   8.720171  4.125775e-17   \n",
       "bathrooms                   0.570547  15.534347  1.086027e-44   \n",
       "sqft_living                 0.070968   1.590895  1.122651e-01   \n",
       "sqft_lot                    0.062939   1.410147  1.591181e-01   \n",
       "condition                   0.622096  17.766983  4.182885e-55   \n",
       "grade                       0.479298  12.211465  3.388859e-30   \n",
       "sqft_above                  0.002673   0.059763  9.523685e-01   \n",
       "yr_built                   -0.068252  -1.529739  1.267137e-01   \n",
       "zipcode                     0.415572  10.216459  2.214289e-22   \n",
       "lat                         0.031879   0.713208  4.760496e-01   \n",
       "long                        0.567031  15.393048  4.790927e-44   \n",
       "sqft_living15               0.088747   1.992316  4.687974e-02   \n",
       "\n",
       "              Hypothesis result  \n",
       "price                 Dependent  \n",
       "bedrooms              Dependent  \n",
       "bathrooms             Dependent  \n",
       "sqft_living         Independent  \n",
       "sqft_lot            Independent  \n",
       "condition             Dependent  \n",
       "grade                 Dependent  \n",
       "sqft_above          Independent  \n",
       "yr_built            Independent  \n",
       "zipcode               Dependent  \n",
       "lat                 Independent  \n",
       "long                  Dependent  \n",
       "sqft_living15       Independent  "
      ]
     },
     "execution_count": 73,
     "metadata": {},
     "output_type": "execute_result"
    }
   ],
   "source": [
    "Dept_features, res = stat(deg_fr = 500,alpha = 0.005)\n",
    "print('Dependent Features are' ,Dept_features)\n",
    "res"
   ]
  },
  {
   "cell_type": "markdown",
   "metadata": {},
   "source": [
    "## Model Building"
   ]
  },
  {
   "cell_type": "code",
   "execution_count": 74,
   "metadata": {},
   "outputs": [
    {
     "data": {
      "text/html": [
       "<div>\n",
       "<style scoped>\n",
       "    .dataframe tbody tr th:only-of-type {\n",
       "        vertical-align: middle;\n",
       "    }\n",
       "\n",
       "    .dataframe tbody tr th {\n",
       "        vertical-align: top;\n",
       "    }\n",
       "\n",
       "    .dataframe thead th {\n",
       "        text-align: right;\n",
       "    }\n",
       "</style>\n",
       "<table border=\"1\" class=\"dataframe\">\n",
       "  <thead>\n",
       "    <tr style=\"text-align: right;\">\n",
       "      <th></th>\n",
       "      <th>bedrooms</th>\n",
       "      <th>bathrooms</th>\n",
       "      <th>sqft_living</th>\n",
       "      <th>grade</th>\n",
       "      <th>sqft_above</th>\n",
       "      <th>lat</th>\n",
       "      <th>sqft_living15</th>\n",
       "    </tr>\n",
       "  </thead>\n",
       "  <tbody>\n",
       "    <tr>\n",
       "      <th>0</th>\n",
       "      <td>-0.381076</td>\n",
       "      <td>-1.596328</td>\n",
       "      <td>-1.116743</td>\n",
       "      <td>-0.598395</td>\n",
       "      <td>-0.759199</td>\n",
       "      <td>-0.400769</td>\n",
       "      <td>-1.009655</td>\n",
       "    </tr>\n",
       "    <tr>\n",
       "      <th>1</th>\n",
       "      <td>-0.381076</td>\n",
       "      <td>0.340537</td>\n",
       "      <td>1.023148</td>\n",
       "      <td>-0.598395</td>\n",
       "      <td>0.835260</td>\n",
       "      <td>1.121387</td>\n",
       "      <td>-0.358651</td>\n",
       "    </tr>\n",
       "    <tr>\n",
       "      <th>2</th>\n",
       "      <td>-1.672079</td>\n",
       "      <td>-1.596328</td>\n",
       "      <td>-1.747934</td>\n",
       "      <td>-1.709517</td>\n",
       "      <td>-1.419530</td>\n",
       "      <td>1.244001</td>\n",
       "      <td>1.557160</td>\n",
       "    </tr>\n",
       "    <tr>\n",
       "      <th>3</th>\n",
       "      <td>-0.381076</td>\n",
       "      <td>-0.046836</td>\n",
       "      <td>-0.346998</td>\n",
       "      <td>0.512727</td>\n",
       "      <td>0.046084</td>\n",
       "      <td>0.365388</td>\n",
       "      <td>-0.154050</td>\n",
       "    </tr>\n",
       "    <tr>\n",
       "      <th>4</th>\n",
       "      <td>-0.381076</td>\n",
       "      <td>0.340537</td>\n",
       "      <td>-0.293116</td>\n",
       "      <td>-0.598395</td>\n",
       "      <td>0.102453</td>\n",
       "      <td>-1.862706</td>\n",
       "      <td>0.660634</td>\n",
       "    </tr>\n",
       "  </tbody>\n",
       "</table>\n",
       "</div>"
      ],
      "text/plain": [
       "   bedrooms  bathrooms  sqft_living     grade  sqft_above       lat  \\\n",
       "0 -0.381076  -1.596328    -1.116743 -0.598395   -0.759199 -0.400769   \n",
       "1 -0.381076   0.340537     1.023148 -0.598395    0.835260  1.121387   \n",
       "2 -1.672079  -1.596328    -1.747934 -1.709517   -1.419530  1.244001   \n",
       "3 -0.381076  -0.046836    -0.346998  0.512727    0.046084  0.365388   \n",
       "4 -0.381076   0.340537    -0.293116 -0.598395    0.102453 -1.862706   \n",
       "\n",
       "   sqft_living15  \n",
       "0      -1.009655  \n",
       "1      -0.358651  \n",
       "2       1.557160  \n",
       "3      -0.154050  \n",
       "4       0.660634  "
      ]
     },
     "execution_count": 74,
     "metadata": {},
     "output_type": "execute_result"
    }
   ],
   "source": [
    "X = x[Dept_features]\n",
    "y = x.price\n",
    "X.head()"
   ]
  },
  {
   "cell_type": "code",
   "execution_count": 75,
   "metadata": {},
   "outputs": [],
   "source": [
    " X_train, X_test, y_train, y_test = train_test_split(X, y, test_size=0.3, random_state=42)"
   ]
  },
  {
   "cell_type": "code",
   "execution_count": 76,
   "metadata": {
    "scrolled": true
   },
   "outputs": [
    {
     "data": {
      "text/plain": [
       "LinearRegression(copy_X=True, fit_intercept=True, n_jobs=None, normalize=False)"
      ]
     },
     "execution_count": 76,
     "metadata": {},
     "output_type": "execute_result"
    }
   ],
   "source": [
    "model = LinearRegression()\n",
    "model.fit(X_train,y_train)"
   ]
  },
  {
   "cell_type": "code",
   "execution_count": 77,
   "metadata": {
    "scrolled": true
   },
   "outputs": [
    {
     "data": {
      "text/html": [
       "<div>\n",
       "<style scoped>\n",
       "    .dataframe tbody tr th:only-of-type {\n",
       "        vertical-align: middle;\n",
       "    }\n",
       "\n",
       "    .dataframe tbody tr th {\n",
       "        vertical-align: top;\n",
       "    }\n",
       "\n",
       "    .dataframe thead th {\n",
       "        text-align: right;\n",
       "    }\n",
       "</style>\n",
       "<table border=\"1\" class=\"dataframe\">\n",
       "  <thead>\n",
       "    <tr style=\"text-align: right;\">\n",
       "      <th></th>\n",
       "      <th>Attributes</th>\n",
       "      <th>weights</th>\n",
       "    </tr>\n",
       "  </thead>\n",
       "  <tbody>\n",
       "    <tr>\n",
       "      <th>0</th>\n",
       "      <td>bedrooms</td>\n",
       "      <td>-0.0449987</td>\n",
       "    </tr>\n",
       "    <tr>\n",
       "      <th>1</th>\n",
       "      <td>bathrooms</td>\n",
       "      <td>-0.0386284</td>\n",
       "    </tr>\n",
       "    <tr>\n",
       "      <th>2</th>\n",
       "      <td>sqft_living</td>\n",
       "      <td>0.399456</td>\n",
       "    </tr>\n",
       "    <tr>\n",
       "      <th>3</th>\n",
       "      <td>grade</td>\n",
       "      <td>0.320486</td>\n",
       "    </tr>\n",
       "    <tr>\n",
       "      <th>4</th>\n",
       "      <td>sqft_above</td>\n",
       "      <td>-0.0878216</td>\n",
       "    </tr>\n",
       "    <tr>\n",
       "      <th>5</th>\n",
       "      <td>lat</td>\n",
       "      <td>0.399915</td>\n",
       "    </tr>\n",
       "    <tr>\n",
       "      <th>6</th>\n",
       "      <td>sqft_living15</td>\n",
       "      <td>0.117359</td>\n",
       "    </tr>\n",
       "  </tbody>\n",
       "</table>\n",
       "</div>"
      ],
      "text/plain": [
       "      Attributes    weights\n",
       "0       bedrooms -0.0449987\n",
       "1      bathrooms -0.0386284\n",
       "2    sqft_living   0.399456\n",
       "3          grade   0.320486\n",
       "4     sqft_above -0.0878216\n",
       "5            lat   0.399915\n",
       "6  sqft_living15   0.117359"
      ]
     },
     "execution_count": 77,
     "metadata": {},
     "output_type": "execute_result"
    }
   ],
   "source": [
    "w = pd.DataFrame([X.columns,model.coef_]).T\n",
    "w.columns = [\"Attributes\",'weights']\n",
    "w"
   ]
  },
  {
   "cell_type": "code",
   "execution_count": 78,
   "metadata": {},
   "outputs": [
    {
     "data": {
      "text/plain": [
       "-0.0012985902462942511"
      ]
     },
     "execution_count": 78,
     "metadata": {},
     "output_type": "execute_result"
    }
   ],
   "source": [
    "model.intercept_"
   ]
  },
  {
   "cell_type": "code",
   "execution_count": 79,
   "metadata": {
    "scrolled": true
   },
   "outputs": [
    {
     "data": {
      "text/plain": [
       "0.5757564232508089"
      ]
     },
     "execution_count": 79,
     "metadata": {},
     "output_type": "execute_result"
    }
   ],
   "source": [
    "model.score(X_test,y_test)"
   ]
  },
  {
   "cell_type": "code",
   "execution_count": null,
   "metadata": {},
   "outputs": [],
   "source": []
  }
 ],
 "metadata": {
  "kernelspec": {
   "display_name": "Python 3",
   "language": "python",
   "name": "python3"
  },
  "language_info": {
   "codemirror_mode": {
    "name": "ipython",
    "version": 3
   },
   "file_extension": ".py",
   "mimetype": "text/x-python",
   "name": "python",
   "nbconvert_exporter": "python",
   "pygments_lexer": "ipython3",
   "version": "3.7.6"
  }
 },
 "nbformat": 4,
 "nbformat_minor": 4
}
