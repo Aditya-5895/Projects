{
 "cells": [
  {
   "cell_type": "code",
   "execution_count": 1,
   "metadata": {},
   "outputs": [
    {
     "name": "stdout",
     "output_type": "stream",
     "text": [
      "Requirement already satisfied: keras-rl2 in c:\\users\\adity_000\\anaconda3\\lib\\site-packages (1.0.4)\n",
      "Requirement already satisfied: tensorflow>=2.1.0 in c:\\users\\adity_000\\anaconda3\\lib\\site-packages (from keras-rl2) (2.4.1)\n",
      "Requirement already satisfied: typing-extensions~=3.7.4 in c:\\users\\adity_000\\anaconda3\\lib\\site-packages (from tensorflow>=2.1.0->keras-rl2) (3.7.4.3)\n",
      "Requirement already satisfied: astunparse~=1.6.3 in c:\\users\\adity_000\\anaconda3\\lib\\site-packages (from tensorflow>=2.1.0->keras-rl2) (1.6.3)\n",
      "Requirement already satisfied: keras-preprocessing~=1.1.2 in c:\\users\\adity_000\\anaconda3\\lib\\site-packages (from tensorflow>=2.1.0->keras-rl2) (1.1.2)\n",
      "Requirement already satisfied: protobuf>=3.9.2 in c:\\users\\adity_000\\anaconda3\\lib\\site-packages (from tensorflow>=2.1.0->keras-rl2) (3.13.0)\n",
      "Requirement already satisfied: termcolor~=1.1.0 in c:\\users\\adity_000\\anaconda3\\lib\\site-packages (from tensorflow>=2.1.0->keras-rl2) (1.1.0)\n",
      "Requirement already satisfied: wrapt~=1.12.1 in c:\\users\\adity_000\\anaconda3\\lib\\site-packages (from tensorflow>=2.1.0->keras-rl2) (1.12.1)\n",
      "Requirement already satisfied: gast==0.3.3 in c:\\users\\adity_000\\anaconda3\\lib\\site-packages (from tensorflow>=2.1.0->keras-rl2) (0.3.3)\n",
      "Requirement already satisfied: grpcio~=1.32.0 in c:\\users\\adity_000\\anaconda3\\lib\\site-packages (from tensorflow>=2.1.0->keras-rl2) (1.32.0)\n",
      "Requirement already satisfied: flatbuffers~=1.12.0 in c:\\users\\adity_000\\anaconda3\\lib\\site-packages (from tensorflow>=2.1.0->keras-rl2) (1.12)\n",
      "Requirement already satisfied: wheel~=0.35 in c:\\users\\adity_000\\anaconda3\\lib\\site-packages (from tensorflow>=2.1.0->keras-rl2) (0.36.2)\n",
      "Requirement already satisfied: numpy~=1.19.2 in c:\\users\\adity_000\\anaconda3\\lib\\site-packages (from tensorflow>=2.1.0->keras-rl2) (1.19.5)\n",
      "Requirement already satisfied: h5py~=2.10.0 in c:\\users\\adity_000\\anaconda3\\lib\\site-packages (from tensorflow>=2.1.0->keras-rl2) (2.10.0)\n",
      "Requirement already satisfied: tensorboard~=2.4 in c:\\users\\adity_000\\anaconda3\\lib\\site-packages (from tensorflow>=2.1.0->keras-rl2) (2.4.1)\n",
      "Requirement already satisfied: google-pasta~=0.2 in c:\\users\\adity_000\\anaconda3\\lib\\site-packages (from tensorflow>=2.1.0->keras-rl2) (0.2.0)\n",
      "Requirement already satisfied: absl-py~=0.10 in c:\\users\\adity_000\\anaconda3\\lib\\site-packages (from tensorflow>=2.1.0->keras-rl2) (0.12.0)\n",
      "Requirement already satisfied: opt-einsum~=3.3.0 in c:\\users\\adity_000\\anaconda3\\lib\\site-packages (from tensorflow>=2.1.0->keras-rl2) (3.3.0)\n",
      "Requirement already satisfied: six~=1.15.0 in c:\\users\\adity_000\\anaconda3\\lib\\site-packages (from tensorflow>=2.1.0->keras-rl2) (1.15.0)\n",
      "Requirement already satisfied: tensorflow-estimator<2.5.0,>=2.4.0 in c:\\users\\adity_000\\anaconda3\\lib\\site-packages (from tensorflow>=2.1.0->keras-rl2) (2.4.0)\n",
      "Requirement already satisfied: setuptools in c:\\users\\adity_000\\anaconda3\\lib\\site-packages (from protobuf>=3.9.2->tensorflow>=2.1.0->keras-rl2) (45.2.0.post20200210)\n",
      "Requirement already satisfied: google-auth-oauthlib<0.5,>=0.4.1 in c:\\users\\adity_000\\anaconda3\\lib\\site-packages (from tensorboard~=2.4->tensorflow>=2.1.0->keras-rl2) (0.4.4)\n",
      "Requirement already satisfied: google-auth<2,>=1.6.3 in c:\\users\\adity_000\\anaconda3\\lib\\site-packages (from tensorboard~=2.4->tensorflow>=2.1.0->keras-rl2) (1.28.1)\n",
      "Requirement already satisfied: werkzeug>=0.11.15 in c:\\users\\adity_000\\anaconda3\\lib\\site-packages (from tensorboard~=2.4->tensorflow>=2.1.0->keras-rl2) (1.0.0)\n",
      "Requirement already satisfied: markdown>=2.6.8 in c:\\users\\adity_000\\anaconda3\\lib\\site-packages (from tensorboard~=2.4->tensorflow>=2.1.0->keras-rl2) (3.3.4)\n",
      "Requirement already satisfied: requests<3,>=2.21.0 in c:\\users\\adity_000\\anaconda3\\lib\\site-packages (from tensorboard~=2.4->tensorflow>=2.1.0->keras-rl2) (2.24.0)\n",
      "Requirement already satisfied: tensorboard-plugin-wit>=1.6.0 in c:\\users\\adity_000\\anaconda3\\lib\\site-packages (from tensorboard~=2.4->tensorflow>=2.1.0->keras-rl2) (1.8.0)\n",
      "Requirement already satisfied: requests-oauthlib>=0.7.0 in c:\\users\\adity_000\\anaconda3\\lib\\site-packages (from google-auth-oauthlib<0.5,>=0.4.1->tensorboard~=2.4->tensorflow>=2.1.0->keras-rl2) (1.3.0)\n",
      "Requirement already satisfied: cachetools<5.0,>=2.0.0 in c:\\users\\adity_000\\anaconda3\\lib\\site-packages (from google-auth<2,>=1.6.3->tensorboard~=2.4->tensorflow>=2.1.0->keras-rl2) (4.2.1)\n",
      "Requirement already satisfied: pyasn1-modules>=0.2.1 in c:\\users\\adity_000\\anaconda3\\lib\\site-packages (from google-auth<2,>=1.6.3->tensorboard~=2.4->tensorflow>=2.1.0->keras-rl2) (0.2.8)\n",
      "Requirement already satisfied: rsa<5,>=3.1.4; python_version >= \"3.6\" in c:\\users\\adity_000\\anaconda3\\lib\\site-packages (from google-auth<2,>=1.6.3->tensorboard~=2.4->tensorflow>=2.1.0->keras-rl2) (4.7.2)\n",
      "Requirement already satisfied: importlib-metadata; python_version < \"3.8\" in c:\\users\\adity_000\\anaconda3\\lib\\site-packages (from markdown>=2.6.8->tensorboard~=2.4->tensorflow>=2.1.0->keras-rl2) (1.5.0)\n",
      "Requirement already satisfied: chardet<4,>=3.0.2 in c:\\users\\adity_000\\anaconda3\\lib\\site-packages (from requests<3,>=2.21.0->tensorboard~=2.4->tensorflow>=2.1.0->keras-rl2) (3.0.4)\n",
      "Requirement already satisfied: idna<3,>=2.5 in c:\\users\\adity_000\\anaconda3\\lib\\site-packages (from requests<3,>=2.21.0->tensorboard~=2.4->tensorflow>=2.1.0->keras-rl2) (2.8)\n",
      "Requirement already satisfied: urllib3!=1.25.0,!=1.25.1,<1.26,>=1.21.1 in c:\\users\\adity_000\\anaconda3\\lib\\site-packages (from requests<3,>=2.21.0->tensorboard~=2.4->tensorflow>=2.1.0->keras-rl2) (1.25.8)\n",
      "Requirement already satisfied: certifi>=2017.4.17 in c:\\users\\adity_000\\anaconda3\\lib\\site-packages (from requests<3,>=2.21.0->tensorboard~=2.4->tensorflow>=2.1.0->keras-rl2) (2019.11.28)\n",
      "Requirement already satisfied: oauthlib>=3.0.0 in c:\\users\\adity_000\\anaconda3\\lib\\site-packages (from requests-oauthlib>=0.7.0->google-auth-oauthlib<0.5,>=0.4.1->tensorboard~=2.4->tensorflow>=2.1.0->keras-rl2) (3.1.0)\n",
      "Requirement already satisfied: pyasn1<0.5.0,>=0.4.6 in c:\\users\\adity_000\\anaconda3\\lib\\site-packages (from pyasn1-modules>=0.2.1->google-auth<2,>=1.6.3->tensorboard~=2.4->tensorflow>=2.1.0->keras-rl2) (0.4.8)\n",
      "Requirement already satisfied: zipp>=0.5 in c:\\users\\adity_000\\anaconda3\\lib\\site-packages (from importlib-metadata; python_version < \"3.8\"->markdown>=2.6.8->tensorboard~=2.4->tensorflow>=2.1.0->keras-rl2) (2.2.0)\n",
      "Requirement already satisfied: keras in c:\\users\\adity_000\\anaconda3\\lib\\site-packages (2.4.3)\n",
      "Requirement already satisfied: pyyaml in c:\\users\\adity_000\\anaconda3\\lib\\site-packages (from keras) (5.3)\n",
      "Requirement already satisfied: numpy>=1.9.1 in c:\\users\\adity_000\\anaconda3\\lib\\site-packages (from keras) (1.19.5)\n",
      "Requirement already satisfied: h5py in c:\\users\\adity_000\\anaconda3\\lib\\site-packages (from keras) (2.10.0)\n",
      "Requirement already satisfied: scipy>=0.14 in c:\\users\\adity_000\\anaconda3\\lib\\site-packages (from keras) (1.4.1)\n",
      "Requirement already satisfied: six in c:\\users\\adity_000\\anaconda3\\lib\\site-packages (from h5py->keras) (1.15.0)\n"
     ]
    }
   ],
   "source": [
    "!pip install keras-rl2\n",
    "!pip install keras"
   ]
  },
  {
   "cell_type": "code",
   "execution_count": 2,
   "metadata": {},
   "outputs": [],
   "source": [
    "import gym\n",
    "import random\n",
    "from rl.agents import DQNAgent\n",
    "from rl.policy import BoltzmannQPolicy\n",
    "from rl.memory import SequentialMemory\n",
    "import numpy as np\n",
    "from tensorflow.keras.models import Sequential\n",
    "from tensorflow.keras.layers import Dense, Flatten\n",
    "from tensorflow.keras.optimizers import Adam"
   ]
  },
  {
   "cell_type": "code",
   "execution_count": 3,
   "metadata": {},
   "outputs": [],
   "source": [
    "def build_model(states, actions):\n",
    "    model = Sequential()\n",
    "    model.add(Flatten(input_shape=(1,states)))\n",
    "    model.add(Dense(24, activation='relu'))\n",
    "    model.add(Dense(24, activation='relu'))\n",
    "    model.add(Dense(actions, activation='linear'))\n",
    "    return model"
   ]
  },
  {
   "cell_type": "code",
   "execution_count": 4,
   "metadata": {},
   "outputs": [],
   "source": [
    "def build_agent(model, actions):\n",
    "    policy = BoltzmannQPolicy()\n",
    "    memory = SequentialMemory(limit=50000, window_length=1)\n",
    "    dqn = DQNAgent(model=model, memory=memory, policy=policy, \n",
    "                  nb_actions=actions, nb_steps_warmup=10, target_model_update=1e-2)\n",
    "    return dqn"
   ]
  },
  {
   "cell_type": "code",
   "execution_count": 5,
   "metadata": {},
   "outputs": [],
   "source": [
    "env = gym.make('CartPole-v0')\n",
    "actions = env.action_space.n\n",
    "states = env.observation_space.shape[0]\n",
    "model = build_model(states, actions)\n",
    "dqn = build_agent(model, actions)\n",
    "dqn.compile(Adam(lr=1e-3), metrics=['mae'])"
   ]
  },
  {
   "cell_type": "code",
   "execution_count": 6,
   "metadata": {},
   "outputs": [],
   "source": [
    "dqn.load_weights('dqn_weights.h5f')"
   ]
  },
  {
   "cell_type": "code",
   "execution_count": 8,
   "metadata": {},
   "outputs": [
    {
     "name": "stdout",
     "output_type": "stream",
     "text": [
      "Testing for 2 episodes ...\n",
      "Episode 1: reward: 200.000, steps: 200\n",
      "Episode 2: reward: 200.000, steps: 200\n"
     ]
    }
   ],
   "source": [
    "dqn.test(env,2,visualize=True)\n",
    "env.close()"
   ]
  },
  {
   "cell_type": "code",
   "execution_count": null,
   "metadata": {},
   "outputs": [],
   "source": []
  }
 ],
 "metadata": {
  "kernelspec": {
   "display_name": "Python 3",
   "language": "python",
   "name": "python3"
  },
  "language_info": {
   "codemirror_mode": {
    "name": "ipython",
    "version": 3
   },
   "file_extension": ".py",
   "mimetype": "text/x-python",
   "name": "python",
   "nbconvert_exporter": "python",
   "pygments_lexer": "ipython3",
   "version": "3.7.6"
  }
 },
 "nbformat": 4,
 "nbformat_minor": 4
}
